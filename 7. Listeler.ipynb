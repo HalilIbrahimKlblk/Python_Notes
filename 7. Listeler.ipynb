{
 "cells": [
  {
   "cell_type": "markdown",
   "metadata": {},
   "source": [
    "Listeler\n",
    "- Köşeli parantez içinde birbirinde virgül ile ayrılmış ögeler bulunan yapılara listeler denir.\n",
    "- Bu veri tipi 'list' şeklindedir.\n",
    "- Boş liste oluşturmak için köşeli parantez kullanılır yada değişkene liste tanımlanır.\n",
    "- Liste içinde liste oluşturulabilir."
   ]
  },
  {
   "cell_type": "code",
   "execution_count": 2,
   "metadata": {},
   "outputs": [
    {
     "name": "stdout",
     "output_type": "stream",
     "text": [
      "<class 'list'>\n",
      "<class 'list'>\n"
     ]
    }
   ],
   "source": [
    "a=list()\n",
    "print(type(a))\n",
    "b=[]\n",
    "print(type(b))"
   ]
  },
  {
   "cell_type": "code",
   "execution_count": 6,
   "metadata": {},
   "outputs": [],
   "source": [
    "a=[\"elma\",\"armut\",1,2]"
   ]
  },
  {
   "cell_type": "markdown",
   "metadata": {},
   "source": [
    "- Listelerin uzunluğu len( ) fonksiyonu ile hesaplanabilir."
   ]
  },
  {
   "cell_type": "code",
   "execution_count": 5,
   "metadata": {},
   "outputs": [
    {
     "name": "stdout",
     "output_type": "stream",
     "text": [
      "4\n",
      "2\n"
     ]
    }
   ],
   "source": [
    "a=[\"elma\",\"armut\",\"muz\",\"çilek\"]\n",
    "print(len(a))\n",
    "b=[[\"elma\",\"armut\"],[\"muz\",\"çilek\"]]\n",
    "print(len(b))"
   ]
  },
  {
   "cell_type": "markdown",
   "metadata": {},
   "source": [
    "Listeleri İndeksleme ve Parçalama\n",
    "- İndeks numaraları 0'dan başlar.\n",
    "- En sonuncu karakter -1 şeklindedir.\n",
    "- Parçalama [başlangıç : bitiş : artış miktarı] şeklinde yapılır.\n",
    "- Bitiş kısmına yazılan değer parçalara dahil edilmez.\n",
    "- Parçalama [ : : artış miktarı] başlangıç bitiş kısmı boş bırakılırsa baştan sona olarak tanımlanır.\n",
    "- Liste uzunluğundan 1 çıkarıldığında sondaki karaktere gene ulaşılabilir."
   ]
  },
  {
   "cell_type": "code",
   "execution_count": 11,
   "metadata": {},
   "outputs": [
    {
     "name": "stdout",
     "output_type": "stream",
     "text": [
      "2\n",
      "[2, 4, 6, 8, 0]\n"
     ]
    }
   ],
   "source": [
    "a=[1,2,3,4,5]\n",
    "print(a[1])\n",
    "b=[1,2,3,4,5,6,7,8,9,0]\n",
    "print(b[1::2])"
   ]
  },
  {
   "cell_type": "code",
   "execution_count": 44,
   "metadata": {},
   "outputs": [
    {
     "name": "stdout",
     "output_type": "stream",
     "text": [
      "3\n"
     ]
    }
   ],
   "source": [
    "a=[[1,2],[3,4],[5,6]]\n",
    "print(a[1][0])"
   ]
  },
  {
   "cell_type": "markdown",
   "metadata": {},
   "source": [
    "Temel liste metotları ve işlemleri"
   ]
  },
  {
   "cell_type": "code",
   "execution_count": 12,
   "metadata": {},
   "outputs": [
    {
     "name": "stdout",
     "output_type": "stream",
     "text": [
      "[1, 2, 3, 4, 5, 6, 7, 8, 9, 0]\n"
     ]
    }
   ],
   "source": [
    "a=[1,2,3,4,5]\n",
    "b=[6,7,8,9,0]\n",
    "print(a+b)"
   ]
  },
  {
   "cell_type": "markdown",
   "metadata": {},
   "source": [
    "- Listeler stringlerden farklı olarak güncellenebilir içeriği değiştirilebilir."
   ]
  },
  {
   "cell_type": "code",
   "execution_count": 13,
   "metadata": {},
   "outputs": [
    {
     "name": "stdout",
     "output_type": "stream",
     "text": [
      "[1, 7, 3, 9, 5]\n"
     ]
    }
   ],
   "source": [
    "a=[1,2,3,4,5]\n",
    "a[1],a[3]=7,9\n",
    "print(a)"
   ]
  },
  {
   "cell_type": "markdown",
   "metadata": {},
   "source": [
    "- Append Metodu: Bu metod listeye öge eklemek için kullanılır."
   ]
  },
  {
   "cell_type": "code",
   "execution_count": 15,
   "metadata": {},
   "outputs": [
    {
     "name": "stdout",
     "output_type": "stream",
     "text": [
      "['audi', 'mercedes', 'skoda', 'volvo', 'bmw']\n",
      "5\n"
     ]
    }
   ],
   "source": [
    "a=[\"audi\",\"mercedes\",\"skoda\",\"volvo\"]\n",
    "a.append(\"bmw\") \n",
    "print(a)\n",
    "print(len(a))"
   ]
  },
  {
   "cell_type": "markdown",
   "metadata": {},
   "source": [
    "- İnsert Metodu: Bu metod listede istediğimiz konuma öge eklemek için kullanılır."
   ]
  },
  {
   "cell_type": "code",
   "execution_count": 21,
   "metadata": {},
   "outputs": [
    {
     "name": "stdout",
     "output_type": "stream",
     "text": [
      "['a', 'b', 'c', 'd', 'e']\n"
     ]
    }
   ],
   "source": [
    "a=[\"a\",\"c\",\"d\",\"e\"]\n",
    "a.insert(1, \"b\") \n",
    "print(a)"
   ]
  },
  {
   "cell_type": "markdown",
   "metadata": {},
   "source": [
    "- Extend Metodu: Bu metod iki farklı listeyi birleştirmek için kullanılır."
   ]
  },
  {
   "cell_type": "code",
   "execution_count": 20,
   "metadata": {},
   "outputs": [
    {
     "name": "stdout",
     "output_type": "stream",
     "text": [
      "['a', 'b', 'f', 'g']\n"
     ]
    }
   ],
   "source": [
    "a=[\"a\",\"b\"]\n",
    "b=[\"f\",\"g\"]\n",
    "a.extend(b)\n",
    "print(a)"
   ]
  },
  {
   "cell_type": "markdown",
   "metadata": {},
   "source": [
    "- Remove Metodu: Bu metod listeden öge kaldırmak için kullanılır."
   ]
  },
  {
   "cell_type": "code",
   "execution_count": 22,
   "metadata": {},
   "outputs": [
    {
     "name": "stdout",
     "output_type": "stream",
     "text": [
      "['b', 'c', 'd', 'e']\n"
     ]
    }
   ],
   "source": [
    "a=[\"a\",\"b\",\"c\",\"d\",\"e\"]\n",
    "a.remove(\"a\") \n",
    "print(a)"
   ]
  },
  {
   "cell_type": "markdown",
   "metadata": {},
   "source": [
    "- Clear Metodu: Bu metod listenin içindeki tüm ögeleri silmek için kullanılır."
   ]
  },
  {
   "cell_type": "code",
   "execution_count": 6,
   "metadata": {},
   "outputs": [
    {
     "name": "stdout",
     "output_type": "stream",
     "text": [
      "[]\n"
     ]
    }
   ],
   "source": [
    "a=[\"a\",\"b\",\"c\",\"d\",\"e\"]\n",
    "a.clear() \n",
    "print(a)"
   ]
  },
  {
   "cell_type": "markdown",
   "metadata": {},
   "source": [
    "- Pop Metodu: Bu metod içine verilen değeri listeden atar ve ekrana yazdırır."
   ]
  },
  {
   "cell_type": "code",
   "execution_count": 5,
   "metadata": {},
   "outputs": [
    {
     "name": "stdout",
     "output_type": "stream",
     "text": [
      "['a', 's', 'd']\n"
     ]
    }
   ],
   "source": [
    "a= [\"w\",\"a\",\"s\",\"d\"]\n",
    "a.pop(0) \n",
    "print(a)"
   ]
  },
  {
   "cell_type": "markdown",
   "metadata": {},
   "source": [
    "- İndex Metodu: Bu metod içindeki ögenin listenin kaçıncı ögesi olduğunu öğrenmek için kullanılır."
   ]
  },
  {
   "cell_type": "code",
   "execution_count": 23,
   "metadata": {},
   "outputs": [
    {
     "name": "stdout",
     "output_type": "stream",
     "text": [
      "1\n"
     ]
    }
   ],
   "source": [
    "a=[\"x\",\"y\",\"z\",\"t\"]\n",
    "print(a.index(\"y\"))"
   ]
  },
  {
   "cell_type": "markdown",
   "metadata": {},
   "source": [
    "- Sort Metodu: Bu metod listeyi alfabetik ve küçükten büyüğe sıralamak için kullanılır."
   ]
  },
  {
   "cell_type": "code",
   "execution_count": 38,
   "metadata": {},
   "outputs": [
    {
     "name": "stdout",
     "output_type": "stream",
     "text": [
      "['a', 'b', 'e', 'y', 'z']\n",
      "[-5, -3, -1, 1, 3, 5, 8, 9]\n",
      "[9, 8, 5, 3, 1, -1, -3, -5]\n"
     ]
    }
   ],
   "source": [
    "a=[\"a\",\"z\",\"e\",\"b\",\"y\"]\n",
    "a.sort()\n",
    "print(a)\n",
    "b=[1,3,5,8,9,-5,-1,-3]\n",
    "b.sort() \n",
    "print(b)\n",
    "b.sort(reverse=True)\n",
    "print(b)"
   ]
  },
  {
   "cell_type": "markdown",
   "metadata": {},
   "source": [
    "- Reverse Metodu: Bu metod listeyi ters düz etmek için kullanılan metotdur."
   ]
  },
  {
   "cell_type": "code",
   "execution_count": 34,
   "metadata": {},
   "outputs": [
    {
     "name": "stdout",
     "output_type": "stream",
     "text": [
      "[5, 4, 3, 2, 1]\n"
     ]
    }
   ],
   "source": [
    "a=[1,2,3,4,5]\n",
    "a.reverse() \n",
    "print(a)"
   ]
  },
  {
   "cell_type": "markdown",
   "metadata": {},
   "source": [
    "- Count Metodu: Bu metod içindeki ögeden listede kaç tane olduğunu öğrenmek için kullanılır."
   ]
  },
  {
   "cell_type": "code",
   "execution_count": 27,
   "metadata": {},
   "outputs": [
    {
     "name": "stdout",
     "output_type": "stream",
     "text": [
      "3\n"
     ]
    }
   ],
   "source": [
    "a=[\"a\",\"a\",\"a\",\"b\",\"c\",\"d\"]\n",
    "print(a.count(\"a\"))"
   ]
  },
  {
   "cell_type": "markdown",
   "metadata": {},
   "source": [
    "- in Operatörü ile listede aranan öge olup olmadığını kontrol eder."
   ]
  },
  {
   "cell_type": "code",
   "execution_count": 3,
   "metadata": {},
   "outputs": [
    {
     "name": "stdout",
     "output_type": "stream",
     "text": [
      "True\n"
     ]
    }
   ],
   "source": [
    "a=[\"a\",\"b\",\"c\",\"d\"]\n",
    "print(\"a\" in a)"
   ]
  },
  {
   "cell_type": "markdown",
   "metadata": {},
   "source": [
    "'list' veri tipini 'str' veri tipne dönüştürmek"
   ]
  },
  {
   "cell_type": "code",
   "execution_count": 36,
   "metadata": {},
   "outputs": [
    {
     "name": "stdout",
     "output_type": "stream",
     "text": [
      "<class 'list'>\n",
      "<class 'str'>\n",
      "[1, 2, 3, 4, 5]\n"
     ]
    }
   ],
   "source": [
    "a=[1,2,3,4,5]\n",
    "b=str(a) \n",
    "print(type(a))\n",
    "print(type(b))\n",
    "print(b)"
   ]
  }
 ],
 "metadata": {
  "kernelspec": {
   "display_name": "Python 3",
   "language": "python",
   "name": "python3"
  },
  "language_info": {
   "codemirror_mode": {
    "name": "ipython",
    "version": 3
   },
   "file_extension": ".py",
   "mimetype": "text/x-python",
   "name": "python",
   "nbconvert_exporter": "python",
   "pygments_lexer": "ipython3",
   "version": "3.10.7"
  },
  "orig_nbformat": 4
 },
 "nbformat": 4,
 "nbformat_minor": 2
}
