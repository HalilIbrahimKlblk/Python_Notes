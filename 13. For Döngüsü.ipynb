{
 "cells": [
  {
   "cell_type": "markdown",
   "metadata": {},
   "source": [
    "For Döngüsü: Bu döngü ögeleri sıra sıra işleme sokarak bir dizi üzerinde yineleme yapmak için kullanılır. For döngüsü aşağıdaki gibidir. \n",
    "\n",
    "- for (eleman) in veri yapısı:\n",
    "    - Yapılacak işlem"
   ]
  },
  {
   "cell_type": "code",
   "execution_count": 2,
   "metadata": {},
   "outputs": [
    {
     "name": "stdout",
     "output_type": "stream",
     "text": [
      "Eleman 1\n",
      "Eleman 2\n",
      "Eleman 3\n",
      "Eleman 4\n",
      "Eleman 5\n"
     ]
    }
   ],
   "source": [
    "a=[1,2,3,4,5]\n",
    "for i in a:\n",
    "    print(\"Eleman\",i)"
   ]
  },
  {
   "cell_type": "code",
   "execution_count": 8,
   "metadata": {},
   "outputs": [
    {
     "name": "stdout",
     "output_type": "stream",
     "text": [
      "Eleman: 1 Toplam: 1\n",
      "Eleman: 2 Toplam: 3\n",
      "Eleman: 3 Toplam: 6\n",
      "Eleman: 4 Toplam: 10\n",
      "Eleman: 5 Toplam: 15\n",
      "Son toplam: 15\n"
     ]
    }
   ],
   "source": [
    "toplam=0\n",
    "a=[1,2,3,4,5]\n",
    "for i in a:\n",
    "    toplam=toplam+i\n",
    "    print(\"Eleman:\",i,\"Toplam:\",toplam)\n",
    "print(\"Son toplam:\",toplam)"
   ]
  },
  {
   "cell_type": "code",
   "execution_count": 28,
   "metadata": {},
   "outputs": [
    {
     "name": "stdout",
     "output_type": "stream",
     "text": [
      "Tek sayılar: [1, 3, 5]\n",
      "Çift sayılar: [2, 4, 6]\n"
     ]
    }
   ],
   "source": [
    "a=[1,2,3,4,5,6]\n",
    "çift=[]\n",
    "tek=[]\n",
    "for i in a:\n",
    "    if i%2==0:\n",
    "        çift.append(i)\n",
    "    else:\n",
    "        tek.append(i)\n",
    "print(\"Tek sayılar:\",tek) \n",
    "print(\"Çift sayılar:\",çift)       "
   ]
  },
  {
   "cell_type": "markdown",
   "metadata": {},
   "source": [
    "- Birden fazla değişken tanımlama örneği."
   ]
  },
  {
   "cell_type": "code",
   "execution_count": 29,
   "metadata": {},
   "outputs": [
    {
     "name": "stdout",
     "output_type": "stream",
     "text": [
      "i değeri: 1 j değeri: 2\n",
      "i değeri: 3 j değeri: 4\n",
      "i değeri: 5 j değeri: 6\n"
     ]
    }
   ],
   "source": [
    "a=[[1,2],[3,4],[5,6]]\n",
    "for i,j in a:\n",
    "    print(f\"i değeri: {i} j değeri: {j}\")"
   ]
  },
  {
   "cell_type": "code",
   "execution_count": 32,
   "metadata": {},
   "outputs": [
    {
     "name": "stdout",
     "output_type": "stream",
     "text": [
      "Geçtiniz, 75.0\n",
      "Kaldınız, 45.0\n",
      "Geçtiniz, 55.0\n",
      "Kaldınız, 35.0\n"
     ]
    }
   ],
   "source": [
    "a=[[80,70],[50,40],[50,60],[40,30]]\n",
    "for i,j in a:\n",
    "    if (i+j)/2>=50: \n",
    "        print(f\"Geçtiniz, {(i+j)/2}\")\n",
    "    else: \n",
    "        print(f\"Kaldınız, {(i+j)/2}\")"
   ]
  },
  {
   "cell_type": "code",
   "execution_count": 53,
   "metadata": {},
   "outputs": [
    {
     "name": "stdout",
     "output_type": "stream",
     "text": [
      "elma: apple\n",
      "muz: banana\n",
      "armut: pear\n",
      "vişne: cherry\n"
     ]
    }
   ],
   "source": [
    "a={\"elma\":\"apple\",\"muz\":\"banana\",\"armut\":\"pear\",\"vişne\":\"cherry\"}\n",
    "for i,j in a.items():\n",
    "    print(f\"{i}: {j}\")"
   ]
  }
 ],
 "metadata": {
  "kernelspec": {
   "display_name": "Python 3",
   "language": "python",
   "name": "python3"
  },
  "language_info": {
   "codemirror_mode": {
    "name": "ipython",
    "version": 3
   },
   "file_extension": ".py",
   "mimetype": "text/x-python",
   "name": "python",
   "nbconvert_exporter": "python",
   "pygments_lexer": "ipython3",
   "version": "3.10.7"
  },
  "orig_nbformat": 4
 },
 "nbformat": 4,
 "nbformat_minor": 2
}
