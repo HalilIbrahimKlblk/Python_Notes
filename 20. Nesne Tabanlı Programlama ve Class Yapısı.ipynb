{
 "cells": [
  {
   "cell_type": "markdown",
   "metadata": {},
   "source": [
    "Nesne Tabanlı Programlama Mantığı\n",
    "-  Bu programlama, dış dünyadaki nesnelerin dijital ortamda somutlaştırılma işleminde kolaylık sağlayan bir programlama mantığıdır. "
   ]
  },
  {
   "cell_type": "markdown",
   "metadata": {},
   "source": [
    "- Sınıflar : Sınıfların görünürde yaptığı en temel iş  fonksiyonları ve değişkenleri gruplandırabilmemizi sağlamaktır. Sınıf oluşturmak için 'class' ifadesi kullanılır."
   ]
  },
  {
   "cell_type": "markdown",
   "metadata": {},
   "source": [
    "- Nesne : Pythonda str, list, tuple... gibi bir değişkene tanımladığımız birtakım metot ve niteliklere sahip olan ögelere nesne denir."
   ]
  },
  {
   "cell_type": "code",
   "execution_count": 5,
   "metadata": {},
   "outputs": [
    {
     "name": "stdout",
     "output_type": "stream",
     "text": [
      "<class 'type'>\n"
     ]
    }
   ],
   "source": [
    "class cls():\n",
    "    pass\n",
    "\n",
    "print(type(cls))"
   ]
  },
  {
   "cell_type": "code",
   "execution_count": 10,
   "metadata": {},
   "outputs": [
    {
     "name": "stdout",
     "output_type": "stream",
     "text": [
      "2018\n"
     ]
    }
   ],
   "source": [
    "class araba():\n",
    "    marka=\"Renault\"\n",
    "    model=\"Megane\"\n",
    "    yıl=2018\n",
    "    km=\"43.000\"\n",
    "\n",
    "print(araba.yıl)"
   ]
  },
  {
   "cell_type": "markdown",
   "metadata": {},
   "source": [
    "- Class updating"
   ]
  },
  {
   "cell_type": "code",
   "execution_count": 13,
   "metadata": {},
   "outputs": [
    {
     "name": "stdout",
     "output_type": "stream",
     "text": [
      "Talisman\n"
     ]
    }
   ],
   "source": [
    "class araba():\n",
    "    marka=\"Renault\"\n",
    "    model=\"Megane\"\n",
    "\n",
    "araba.model=\"Talisman\"\n",
    "print(araba.model)"
   ]
  },
  {
   "cell_type": "markdown",
   "metadata": {},
   "source": [
    "__ init __ Metodu:\n",
    "- Yapıcı (constructor) olarak bilinen sınıf ilk oluşturulan yapılacak işlemlerin tanımlandığı özel bir metottur.\n",
    "- Sınıf çalıştırıldığında yapılacak işlemleri tanımlamak için kulanılan metoddur."
   ]
  },
  {
   "cell_type": "code",
   "execution_count": 12,
   "metadata": {},
   "outputs": [
    {
     "name": "stdout",
     "output_type": "stream",
     "text": [
      "__init__ metodu çalıştırıldı\n"
     ]
    },
    {
     "data": {
      "text/plain": [
       "<__main__.cls at 0x1f77a854100>"
      ]
     },
     "execution_count": 12,
     "metadata": {},
     "output_type": "execute_result"
    }
   ],
   "source": [
    "class cls():    \n",
    "    def __init__(self):\n",
    "            print(\"__init__ metodu çalıştırıldı\")\n",
    "\n",
    "cls()"
   ]
  },
  {
   "cell_type": "markdown",
   "metadata": {},
   "source": [
    "self Parametresi:\n",
    "- Sınıfın bir olgusunun yerini tutar.\n",
    "- Sınıfın metodlarına dışarıdan erişebilmek için en az bir tane ilave parametreye ihtiyaç duyulur bu genelde 'self' olarak kullanılır."
   ]
  },
  {
   "cell_type": "code",
   "execution_count": 25,
   "metadata": {},
   "outputs": [
    {
     "name": "stdout",
     "output_type": "stream",
     "text": [
      "Bağlantı kes\n"
     ]
    }
   ],
   "source": [
    "class snf():\n",
    "    def kur(self):\n",
    "        print(\"Bağlantı kur\")\n",
    "    def kes(self):\n",
    "        print(\"Bağlantı kes\")\n",
    "\n",
    "sınıfım=snf()\n",
    "sınıfım.kes()"
   ]
  },
  {
   "cell_type": "code",
   "execution_count": 1,
   "metadata": {},
   "outputs": [
    {
     "name": "stdout",
     "output_type": "stream",
     "text": [
      "Renault\n",
      "Toyota\n"
     ]
    }
   ],
   "source": [
    "class araba():\n",
    "    def __init__(self,marka=\"Bilgi yok\",model=\"Bilgi yok\",yıl=\"Bilgi\",km=\"Bilgi yok\"):\n",
    "        self.marka=marka\n",
    "        self.model=model\n",
    "        self.yıl=yıl\n",
    "        self.km=km\n",
    "\n",
    "araba1=araba(\"Renault\",\"Megane\",\"2018\",\"43.000\")\n",
    "print(araba1.marka)\n",
    "araba2=araba(\"Toyota\",\"Corolla\",\"2019\",\"78.000\")\n",
    "print(araba2.marka)"
   ]
  },
  {
   "cell_type": "markdown",
   "metadata": {},
   "source": [
    "Metodlar"
   ]
  },
  {
   "cell_type": "code",
   "execution_count": 35,
   "metadata": {},
   "outputs": [
    {
     "name": "stdout",
     "output_type": "stream",
     "text": [
      "***************** \n",
      "Bilgiler: \n",
      "ad: Halil İbrahim \n",
      "soyad: Kalabalık \n",
      "num: 45 \n",
      "vize: 75 \n",
      "final: 90 \n",
      "*****************\n",
      "\n",
      "****************** \n",
      "vize: 75 final: 50 \n",
      "******************\n",
      "\n",
      "************** \n",
      "ortalama: 60.0 \n",
      "**************\n"
     ]
    }
   ],
   "source": [
    "class bst_1():\n",
    "    def __init__(self,ad,soyad,num,vize,final):\n",
    "        self.ad=ad\n",
    "        self.soyad=soyad\n",
    "        self.num=num\n",
    "        self.vize=vize\n",
    "        self.final=final\n",
    "\n",
    "    def bigiler(self):\n",
    "        print(\"\"\"***************** \\nBilgiler: \\nad: {} \\nsoyad: {} \\nnum: {} \\nvize: {} \\nfinal: {} \\n*****************\"\"\".format(self.ad,self.soyad,self.num,self.vize,self.final))\n",
    "    def büt(self,büt):\n",
    "        self.final=büt\n",
    "        print(\"\\n****************** \\nvize: {} final: {} \\n******************\".format(self.vize,self.final))\n",
    "    def ortalama(self,vize,final):\n",
    "        print(\"\\n**************\",\"\\nortalama:\",(vize*0.4)+(final*0.6),\"\\n**************\")\n",
    "\n",
    "bst=bst_1(\"Halil İbrahim\",\"Kalabalık\",\"45\",vize=75,final=90)  \n",
    "bst.bigiler()\n",
    "bst.büt(50)\n",
    "bst.ortalama(75,50)"
   ]
  },
  {
   "cell_type": "code",
   "execution_count": 60,
   "metadata": {},
   "outputs": [
    {
     "name": "stdout",
     "output_type": "stream",
     "text": [
      "Alan:28.3 \n",
      "Çevre:18.8\n"
     ]
    }
   ],
   "source": [
    "class çember:\n",
    "    pi=3.14\n",
    "    def __init__(self,yarıçap=1):\n",
    "        self.yarıçap=yarıçap\n",
    "    \n",
    "    def alan(self):\n",
    "        return self.pi * (self.yarıçap**2)\n",
    "    \n",
    "    def çevre(self):\n",
    "        return 2* self.pi * self.yarıçap\n",
    "\n",
    "x=çember(3)\n",
    "print(\"Alan:{:.1f} \\nÇevre:{:.1f}\".format(x.alan(),x.çevre()))"
   ]
  },
  {
   "cell_type": "markdown",
   "metadata": {},
   "source": [
    "Kalıtım: Bir sınıftaki metotları diğeri bir sınıfa aktarmak için kullanılan yöntemdir. "
   ]
  },
  {
   "cell_type": "code",
   "execution_count": 8,
   "metadata": {},
   "outputs": [
    {
     "name": "stdout",
     "output_type": "stream",
     "text": [
      "***************** \n",
      "Bilgiler: \n",
      "Ad: Halil İbrahim \n",
      "Maaş: 5000 \n",
      "Departman: İnsan Kaynakları\n",
      "***************** \n",
      "Bilgiler: \n",
      "Ad: Ali \n",
      "Maaş: 3500 \n",
      "Departman: Halkla İlişkiler\n"
     ]
    }
   ],
   "source": [
    "class çalışan():\n",
    "    def __init__(self,ad,maaş,departman):\n",
    "        self.ad=ad\n",
    "        self.maaş=maaş\n",
    "        self.departman=departman\n",
    "\n",
    "    def bilgiler(self):\n",
    "        print(f\"***************** \\nBilgiler: \\nAd: {self.ad} \\nMaaş: {self.maaş} \\nDepartman: {self.departman}\")\n",
    "    def departman_değiştir(self,yeni):\n",
    "        self.departman=yeni\n",
    "        print(f\"***************** \\nBilgiler: \\nAd: {self.ad} \\nMaaş: {self.maaş} \\nDepartman: {self.departman}\")\n",
    "\n",
    "class yönetici(çalışan):\n",
    "    pass\n",
    "\n",
    "x=çalışan(\"Halil İbrahim\",\"5000\",\"Bilişim\")\n",
    "x.departman_değiştir(\"İnsan Kaynakları\")\n",
    "y=yönetici(\"Ali\",\"3500\",\"Halkla İlişkiler\")\n",
    "y.bilgiler()"
   ]
  },
  {
   "cell_type": "markdown",
   "metadata": {},
   "source": [
    "-  Yeni fonksiyonlar kullanılarak yeni metodlar eklenebilir."
   ]
  },
  {
   "cell_type": "code",
   "execution_count": 51,
   "metadata": {},
   "outputs": [
    {
     "name": "stdout",
     "output_type": "stream",
     "text": [
      "Ad: Halil İbrahim \n",
      "Soyad: Kalabalık \n",
      "Num: 45\n"
     ]
    }
   ],
   "source": [
    "class çalışan:\n",
    "    def __init__(self,ad,soyad):\n",
    "        self.ad=ad\n",
    "        self.soyad=soyad\n",
    "    def bilgiler(self):\n",
    "        print(f\"Ad: {self.ad} Soyad: {self.soyad}\")\n",
    "\n",
    "class yönetici(çalışan):\n",
    "    def num(self,num):\n",
    "        print(f\"Ad: {self.ad} \\nSoyad: {self.soyad} \\nNum: {num}\")\n",
    "\n",
    "y=yönetici(\"Halil İbrahim\",\"Kalabalık\")\n",
    "y.num(\"45\")"
   ]
  },
  {
   "cell_type": "markdown",
   "metadata": {},
   "source": [
    "- Yeniden __ init __ fonksiyonu tanımlanarak class'taki metodlar güncellenebilir."
   ]
  },
  {
   "cell_type": "code",
   "execution_count": 63,
   "metadata": {},
   "outputs": [
    {
     "name": "stdout",
     "output_type": "stream",
     "text": [
      "*** Çalışanlar *** \n",
      "Ad: Halil İbrahim \n",
      "Soyad: Kalabalık\n",
      "*** Yöneticiler *** \n",
      "Ad: Halil İbrahim \n",
      "Soyad: Kalabalık\n"
     ]
    }
   ],
   "source": [
    "class çalışan:\n",
    "    def __init__(self,ad,soyad):\n",
    "        self.ad=ad\n",
    "        self.soyad=soyad\n",
    "    def bilgiler(self):\n",
    "        print(f\"*** Çalışanlar *** \\nAd: {self.ad} \\nSoyad: {self.soyad}\")\n",
    "    def soyadad(self):\n",
    "        print(f\"*** Çalışanlar *** \\nSoyad: {self.soyad} \\nAd: {self.ad}\")\n",
    "class yönetici(çalışan):\n",
    "    def __init__(self, ad, soyad):\n",
    "        self.ad=ad\n",
    "        self.soyad=soyad\n",
    "    def bilgiler(self):\n",
    "        print(f\"*** Yöneticiler *** \\nAd: {self.ad} \\nSoyad: {self.soyad}\")\n",
    "\n",
    "x=çalışan(\"Halil İbrahim\",\"Kalabalık\")\n",
    "x.bilgiler()\n",
    "y=yönetici(\"Halil İbrahim\",\"Kalabalık\")\n",
    "y.bilgiler()"
   ]
  },
  {
   "cell_type": "markdown",
   "metadata": {},
   "source": [
    "- super( ) ifadesi: Bu ifade yukarıda tanımlı __ init __ anahtarlarını kullanmak için kullanılır."
   ]
  },
  {
   "cell_type": "code",
   "execution_count": 65,
   "metadata": {},
   "outputs": [
    {
     "name": "stdout",
     "output_type": "stream",
     "text": [
      "*** Yöneticiler *** \n",
      "Ad: Halil İbrahim \n",
      "Soyad: Kalabalık \n",
      "Num: 45\n"
     ]
    }
   ],
   "source": [
    "class çalışan:\n",
    "    def __init__(self,ad,soyad):\n",
    "        self.ad=ad\n",
    "        self.soyad=soyad\n",
    "    def bilgiler(self):\n",
    "        print(f\"*** Çalışanlar *** \\nAd: {self.ad} \\nSoyad: {self.soyad}\")\n",
    "    def soyadad(self):\n",
    "        print(f\"*** Çalışanlar *** \\nSoyad: {self.soyad} \\nAd: {self.ad}\")\n",
    "class yönetici(çalışan):\n",
    "    def __init__(self, ad, soyad,num):\n",
    "        super().__init__(ad, soyad)\n",
    "        self.num=num\n",
    "    def bilgiler(self):\n",
    "        print(f\"*** Yöneticiler *** \\nAd: {self.ad} \\nSoyad: {self.soyad} \\nNum: {self.num}\")\n",
    "\n",
    "y=yönetici(\"Halil İbrahim\",\"Kalabalık\",\"45\")\n",
    "y.bilgiler()"
   ]
  },
  {
   "cell_type": "markdown",
   "metadata": {},
   "source": [
    "Özel Metodlar: \n",
    "- Özel metodlar bizim özel olarak çağırmadığımız ancak her classa ait metodlardır. Bunların çoğu biz tanımlamasak bile Python tarafından varsayılan olarak tanımlanır. Ancak bu metodların bazılarını da özel olarak bizim tanımlamamız gerekmektedir. \n",
    "- len fonksiyonunu biz tanımlamasaydık eror verirdi. len burda sayfa sayısı olarak kullanılmıştır."
   ]
  },
  {
   "cell_type": "code",
   "execution_count": 2,
   "metadata": {},
   "outputs": [
    {
     "data": {
      "text/plain": [
       "543"
      ]
     },
     "execution_count": 2,
     "metadata": {},
     "output_type": "execute_result"
    }
   ],
   "source": [
    "class kitap:\n",
    "    def __init__(self,ad,yazar,sayfa):\n",
    "        self.ad=ad\n",
    "        self.yazar=yazar\n",
    "        self.sayfa=sayfa\n",
    "    def bilgiler(self):\n",
    "        print(f\"*** Çalışanlar *** \\nAd: {self.ad} \\nSoyad: {self.yazar}\")\n",
    "    def __len__(self):\n",
    "        return self.sayfa\n",
    "    \n",
    "a=kitap(\"Nutuk\",\"Mustafa Kemal Atatürk\",543)\n",
    "len(a)"
   ]
  },
  {
   "cell_type": "markdown",
   "metadata": {},
   "source": [
    "- __ del __ metodunun özelliği silinemez ama yeni özellikler çıktılar eklenebilir."
   ]
  },
  {
   "cell_type": "code",
   "execution_count": 3,
   "metadata": {},
   "outputs": [
    {
     "name": "stdout",
     "output_type": "stream",
     "text": [
      "Kitap siliniyor...\n"
     ]
    }
   ],
   "source": [
    "class kitap:\n",
    "    def __init__(self,ad,yazar,sayfa):\n",
    "        self.ad=ad\n",
    "        self.yazar=yazar\n",
    "        self.sayfa=sayfa\n",
    "    def bilgiler(self):\n",
    "        print(f\"*** Çalışanlar *** \\nAd: {self.ad} \\nSoyad: {self.yazar}\")\n",
    "    def __del__(self):\n",
    "        print(\"Kitap siliniyor...\")\n",
    "    \n",
    "a=kitap(\"Nutuk\",\"Mustafa Kemal Atatürk\",543)\n",
    "del(a)"
   ]
  }
 ],
 "metadata": {
  "kernelspec": {
   "display_name": "Python 3",
   "language": "python",
   "name": "python3"
  },
  "language_info": {
   "codemirror_mode": {
    "name": "ipython",
    "version": 3
   },
   "file_extension": ".py",
   "mimetype": "text/x-python",
   "name": "python",
   "nbconvert_exporter": "python",
   "pygments_lexer": "ipython3",
   "version": "3.10.7"
  },
  "orig_nbformat": 4
 },
 "nbformat": 4,
 "nbformat_minor": 2
}
