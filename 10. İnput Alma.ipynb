{
 "cells": [
  {
   "cell_type": "markdown",
   "metadata": {},
   "source": [
    "Kullanıcıdan input alma"
   ]
  },
  {
   "cell_type": "markdown",
   "metadata": {},
   "source": [
    "- input( ) Fonksiyonu: Bu fonksiyon çalıştırıldığında kullanıcıdan girdi alır."
   ]
  },
  {
   "cell_type": "code",
   "execution_count": 1,
   "metadata": {},
   "outputs": [
    {
     "data": {
      "text/plain": [
       "'Halil İbrahim'"
      ]
     },
     "execution_count": 1,
     "metadata": {},
     "output_type": "execute_result"
    }
   ],
   "source": [
    "input(\"Adınızı giriniz: \")"
   ]
  },
  {
   "cell_type": "markdown",
   "metadata": {},
   "source": [
    "- İnput fonksiyonu ile aldğımız değerin veri tipini tanımlamazsak 'str' olrak işlem yapar."
   ]
  },
  {
   "cell_type": "code",
   "execution_count": 12,
   "metadata": {},
   "outputs": [
    {
     "name": "stdout",
     "output_type": "stream",
     "text": [
      "55\n",
      "<class 'str'>\n",
      "10\n",
      "<class 'int'>\n"
     ]
    }
   ],
   "source": [
    "a=input(\"Bir sayı giriniz:\")\n",
    "print(a*2)\n",
    "print(type(a))\n",
    "\n",
    "a=int(input(\"Bir sayı giriniz:\"))\n",
    "print(a*2)\n",
    "print(type(a))"
   ]
  },
  {
   "cell_type": "code",
   "execution_count": 13,
   "metadata": {},
   "outputs": [
    {
     "name": "stdout",
     "output_type": "stream",
     "text": [
      "2023 yılındaki yaşınız 20\n"
     ]
    }
   ],
   "source": [
    "a=int(input(\"Doğum yılınızı giriniz:\"))\n",
    "b=2023-a\n",
    "print(\"2023 yılındaki yaşınız\",b)"
   ]
  },
  {
   "cell_type": "markdown",
   "metadata": {},
   "source": [
    "- İstenilen veri tipinde kullanıcı veri tipi girmediği zaman uyarı verme."
   ]
  },
  {
   "cell_type": "code",
   "execution_count": 26,
   "metadata": {},
   "outputs": [
    {
     "name": "stdout",
     "output_type": "stream",
     "text": [
      "Lütfen sayı giriniz !!!\n"
     ]
    }
   ],
   "source": [
    "try:\n",
    "    a=a=int(input(\"Bir sayı giriniz:\"))\n",
    "    print(a)\n",
    "except ValueError:\n",
    "    print(\"Lütfen sayı giriniz !!!\")"
   ]
  }
 ],
 "metadata": {
  "kernelspec": {
   "display_name": "Python 3",
   "language": "python",
   "name": "python3"
  },
  "language_info": {
   "codemirror_mode": {
    "name": "ipython",
    "version": 3
   },
   "file_extension": ".py",
   "mimetype": "text/x-python",
   "name": "python",
   "nbconvert_exporter": "python",
   "pygments_lexer": "ipython3",
   "version": "3.10.7"
  },
  "orig_nbformat": 4
 },
 "nbformat": 4,
 "nbformat_minor": 2
}
