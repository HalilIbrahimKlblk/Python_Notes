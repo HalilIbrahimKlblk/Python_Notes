{
 "cells": [
  {
   "cell_type": "markdown",
   "metadata": {},
   "source": [
    "Demetler\n",
    "- Normal parantez içinde birbirinde virgül ile ayrılmış ögeler bulunan yapılara demetler denir.\n",
    "- Bu veri tipi 'tuple' şeklindedir.\n",
    "- Boş demet oluşturmak için normal parantez kullanılır yada değişkene tuple tanımlanır.\n",
    "- Demet içinde demet oluşturulabilir.\n",
    "- Demetlerin listelerden farkı oynama yapılamaz öge ekleyip çıkarılamaz."
   ]
  },
  {
   "cell_type": "code",
   "execution_count": 1,
   "metadata": {},
   "outputs": [
    {
     "name": "stdout",
     "output_type": "stream",
     "text": [
      "<class 'tuple'>\n",
      "<class 'tuple'>\n"
     ]
    }
   ],
   "source": [
    "a=tuple()\n",
    "print(type(a))\n",
    "b=()\n",
    "print(type(b))"
   ]
  },
  {
   "cell_type": "code",
   "execution_count": null,
   "metadata": {},
   "outputs": [],
   "source": [
    "a=(\"elma\",\"armut\",1,2)"
   ]
  },
  {
   "cell_type": "markdown",
   "metadata": {},
   "source": [
    "- Demetlerin uzunluğu len( ) fonksiyonu ile hesaplanabilir."
   ]
  },
  {
   "cell_type": "code",
   "execution_count": 3,
   "metadata": {},
   "outputs": [
    {
     "name": "stdout",
     "output_type": "stream",
     "text": [
      "4\n",
      "2\n"
     ]
    }
   ],
   "source": [
    "a=(\"elma\",\"armut\",\"muz\",\"çilek\")\n",
    "print(len(a))\n",
    "b=((\"elma\",\"armut\"),(\"muz\",\"çilek\"))\n",
    "print(len(b))"
   ]
  },
  {
   "cell_type": "markdown",
   "metadata": {},
   "source": [
    "Demetleri İndeksleme ve Parçalama\n",
    "- İndeks numaraları 0'dan başlar.\n",
    "- En sonuncu karakter -1 şeklindedir.\n",
    "- Parçalama [başlangıç : bitiş : artış miktarı] şeklinde yapılır.\n",
    "- Bitiş kısmına yazılan değer parçalara dahil edilmez.\n",
    "- Parçalama [ : : artış miktarı] başlangıç bitiş kısmı boş bırakılırsa baştan sona olarak tanımlanır.\n",
    "- Demet uzunluğundan 1 çıkarıldığında sondaki karaktere gene ulaşılabilir."
   ]
  },
  {
   "cell_type": "code",
   "execution_count": 5,
   "metadata": {},
   "outputs": [
    {
     "name": "stdout",
     "output_type": "stream",
     "text": [
      "2\n",
      "(2, 4, 6, 8, 0)\n"
     ]
    }
   ],
   "source": [
    "a=(1,2,3,4,5)\n",
    "print(a[1])\n",
    "b=(1,2,3,4,5,6,7,8,9,0)\n",
    "print(b[1::2])"
   ]
  },
  {
   "cell_type": "code",
   "execution_count": 6,
   "metadata": {},
   "outputs": [
    {
     "name": "stdout",
     "output_type": "stream",
     "text": [
      "3\n"
     ]
    }
   ],
   "source": [
    "a=((1,2),(3,4),(5,6))\n",
    "print(a[1][0])"
   ]
  },
  {
   "cell_type": "markdown",
   "metadata": {},
   "source": [
    "Temel demet metotları ve işlemleri"
   ]
  },
  {
   "cell_type": "markdown",
   "metadata": {},
   "source": [
    "- Count Metodu: Bu metod demette parantez içindeki ögeden kaç tane olduğu öğrenmek için kullanılır."
   ]
  },
  {
   "cell_type": "code",
   "execution_count": 7,
   "metadata": {},
   "outputs": [
    {
     "name": "stdout",
     "output_type": "stream",
     "text": [
      "2\n"
     ]
    }
   ],
   "source": [
    "a=(\"a\",\"b\",\"c\",\"d\",\"c\")\n",
    "print(a.count(\"c\"))"
   ]
  },
  {
   "cell_type": "markdown",
   "metadata": {},
   "source": [
    "- İndex Metodu: Bu metod demette parantez içindeki ögenin kaçıncı öge olduğunu öğrenmek için kullanılır."
   ]
  },
  {
   "cell_type": "code",
   "execution_count": 11,
   "metadata": {},
   "outputs": [
    {
     "name": "stdout",
     "output_type": "stream",
     "text": [
      "1\n"
     ]
    }
   ],
   "source": [
    "a=(\"a\",\"b\",\"c\",\"d\",\"e\")\n",
    "print(a.index(\"b\"))"
   ]
  },
  {
   "cell_type": "markdown",
   "metadata": {},
   "source": [
    "'list' veri tipini 'tuple' veri tipne dönüştürmek"
   ]
  },
  {
   "cell_type": "code",
   "execution_count": 12,
   "metadata": {},
   "outputs": [
    {
     "name": "stdout",
     "output_type": "stream",
     "text": [
      "<class 'list'>\n",
      "<class 'tuple'>\n"
     ]
    }
   ],
   "source": [
    "a=[1,2,3,4,5]\n",
    "print(type(a)) \n",
    "b=tuple(a)\n",
    "print(type(b))"
   ]
  }
 ],
 "metadata": {
  "kernelspec": {
   "display_name": "Python 3",
   "language": "python",
   "name": "python3"
  },
  "language_info": {
   "codemirror_mode": {
    "name": "ipython",
    "version": 3
   },
   "file_extension": ".py",
   "mimetype": "text/x-python",
   "name": "python",
   "nbconvert_exporter": "python",
   "pygments_lexer": "ipython3",
   "version": "3.10.7"
  },
  "orig_nbformat": 4
 },
 "nbformat": 4,
 "nbformat_minor": 2
}
