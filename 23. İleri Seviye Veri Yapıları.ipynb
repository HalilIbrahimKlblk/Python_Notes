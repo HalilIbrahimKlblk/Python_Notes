{
 "cells": [
  {
   "cell_type": "markdown",
   "metadata": {},
   "source": [
    "İleri Seviye Veri Yapıları ve Objeler"
   ]
  },
  {
   "cell_type": "markdown",
   "metadata": {},
   "source": [
    "İleri Seviye Sayılar\n",
    "- 10'luk tabandaki sayıları 2'lik (binary) ve 16'lık (hexadecimal) tabanda göstermek."
   ]
  },
  {
   "cell_type": "code",
   "execution_count": 3,
   "metadata": {},
   "outputs": [
    {
     "name": "stdout",
     "output_type": "stream",
     "text": [
      "0b100\n",
      "0x4\n"
     ]
    }
   ],
   "source": [
    "print(bin(4)) #2'lik\n",
    "print(hex(4)) #16'lık"
   ]
  },
  {
   "cell_type": "markdown",
   "metadata": {},
   "source": [
    "- abs Fonksiyonu: Sayıların mutlak değerini almamızı sağlayan fonksiyondur."
   ]
  },
  {
   "cell_type": "code",
   "execution_count": 4,
   "metadata": {},
   "outputs": [
    {
     "name": "stdout",
     "output_type": "stream",
     "text": [
      "4\n",
      "4\n"
     ]
    }
   ],
   "source": [
    "print(abs(-4))\n",
    "print(abs(4))"
   ]
  },
  {
   "cell_type": "markdown",
   "metadata": {},
   "source": [
    "- raund Fonksiyonu: Sayıları yukarı veya aşağı yuvarlamaya yarayan fonksiyondur. Virgülden sonra yazılan rakam virgülden sonra kaç karakter olacağını belirtir."
   ]
  },
  {
   "cell_type": "code",
   "execution_count": 8,
   "metadata": {},
   "outputs": [
    {
     "name": "stdout",
     "output_type": "stream",
     "text": [
      "1\n",
      "2\n",
      "1.92\n"
     ]
    }
   ],
   "source": [
    "print(round(1.4))\n",
    "print(round(1.6))\n",
    "print(round(1.91919,2))"
   ]
  },
  {
   "cell_type": "markdown",
   "metadata": {},
   "source": [
    "- max Fonksiyonu: Fonksiyona verdiğimiz değerlerin en büyüğünü döndürür.\n",
    "- min Fonksiyonu: Fonksiyona verdiğimiz değerlerin en küçüğünü döndürür."
   ]
  },
  {
   "cell_type": "code",
   "execution_count": 9,
   "metadata": {},
   "outputs": [
    {
     "name": "stdout",
     "output_type": "stream",
     "text": [
      "3\n",
      "-3\n"
     ]
    }
   ],
   "source": [
    "print(max(-3,-2,-1,0,1,2,3))\n",
    "print(min(-3,-2,-1,0,1,2,3))"
   ]
  },
  {
   "cell_type": "markdown",
   "metadata": {},
   "source": [
    "- sum Fonksiyonu: Verilen değeri (liste,demet,vb.) toplayarak döndürüren fonksiyondur."
   ]
  },
  {
   "cell_type": "code",
   "execution_count": 13,
   "metadata": {},
   "outputs": [
    {
     "name": "stdout",
     "output_type": "stream",
     "text": [
      "10\n",
      "10\n"
     ]
    }
   ],
   "source": [
    "print(sum((-1,0,1,10)))\n",
    "print(sum([-1,0,1,10]))"
   ]
  },
  {
   "cell_type": "markdown",
   "metadata": {},
   "source": [
    "- pow Fonksiyonu: Üs alma işleminde kullanılan fonksiyondur."
   ]
  },
  {
   "cell_type": "code",
   "execution_count": 17,
   "metadata": {},
   "outputs": [
    {
     "name": "stdout",
     "output_type": "stream",
     "text": [
      "8\n",
      "-8\n"
     ]
    }
   ],
   "source": [
    "print(pow(2,3))\n",
    "print(pow(-2,3))"
   ]
  },
  {
   "cell_type": "markdown",
   "metadata": {},
   "source": [
    "İleri Seviye Karakter Dizinleri"
   ]
  },
  {
   "cell_type": "markdown",
   "metadata": {},
   "source": [
    "- Replace Metodu: Str içinde düzenlemeler güncellemeler yapan fonksiyondur."
   ]
  },
  {
   "cell_type": "code",
   "execution_count": 18,
   "metadata": {},
   "outputs": [
    {
     "data": {
      "text/plain": [
       "'Merhaba Veli'"
      ]
     },
     "execution_count": 18,
     "metadata": {},
     "output_type": "execute_result"
    }
   ],
   "source": [
    "\"Merhaba Ali\".replace(\"Ali\",\"Veli\")"
   ]
  },
  {
   "cell_type": "markdown",
   "metadata": {},
   "source": [
    "- startswith Fonksiyonu: Belirtilen string parantez içindeki öge ile mi başlıyor.\n",
    "- endswith Fonksiyonu: Belirtilen string parantez içindeki öge ile mi bitiyor."
   ]
  },
  {
   "cell_type": "code",
   "execution_count": 20,
   "metadata": {},
   "outputs": [
    {
     "name": "stdout",
     "output_type": "stream",
     "text": [
      "True\n",
      "True\n"
     ]
    }
   ],
   "source": [
    "print(\"Python\".startswith(\"P\"))\n",
    "print(\"Python\".endswith(\"n\"))"
   ]
  },
  {
   "cell_type": "markdown",
   "metadata": {},
   "source": [
    "- split Fonksiyonu: Belirtilen stringi belirtilen karakter aralığı ile parçalara ayıran fonksiyondur."
   ]
  },
  {
   "cell_type": "code",
   "execution_count": 21,
   "metadata": {},
   "outputs": [
    {
     "data": {
      "text/plain": [
       "['Python', 'Java', 'PHP']"
      ]
     },
     "execution_count": 21,
     "metadata": {},
     "output_type": "execute_result"
    }
   ],
   "source": [
    "\"Python,Java,PHP\".split(\",\")"
   ]
  },
  {
   "cell_type": "markdown",
   "metadata": {},
   "source": [
    "- strip Fonksiyonu: Belirtilen stringin başında ve sonunda bulunan boşlukları silen fonksiyondur."
   ]
  },
  {
   "cell_type": "code",
   "execution_count": 25,
   "metadata": {},
   "outputs": [
    {
     "name": "stdout",
     "output_type": "stream",
     "text": [
      "Python\n",
      "Python  \n",
      "  Python\n"
     ]
    }
   ],
   "source": [
    "print(\"  Python  \".strip())\n",
    "print(\"  Python  \".lstrip())\n",
    "print(\"  Python  \".rstrip())"
   ]
  },
  {
   "cell_type": "markdown",
   "metadata": {},
   "source": [
    "- join Fonksiyonu: Listedeki elemanaların bir string değeri ile birleşmesini sağlayan fonksiyondur."
   ]
  },
  {
   "cell_type": "code",
   "execution_count": 27,
   "metadata": {},
   "outputs": [
    {
     "data": {
      "text/plain": [
       "'23/02/2023'"
      ]
     },
     "execution_count": 27,
     "metadata": {},
     "output_type": "execute_result"
    }
   ],
   "source": [
    "\"/\".join([\"23\",\"02\",\"2023\"])"
   ]
  },
  {
   "cell_type": "markdown",
   "metadata": {},
   "source": [
    "- count Fonksiyonu: Belirtilen stringde parantez içindeki ögeden kaç tane olduğunu sorar."
   ]
  },
  {
   "cell_type": "code",
   "execution_count": 31,
   "metadata": {},
   "outputs": [
    {
     "data": {
      "text/plain": [
       "1"
      ]
     },
     "execution_count": 31,
     "metadata": {},
     "output_type": "execute_result"
    }
   ],
   "source": [
    "\"Python\".count(\"y\")"
   ]
  },
  {
   "cell_type": "markdown",
   "metadata": {},
   "source": [
    "- find Fonksiyonu: Sol baştan belirtilen karakterin kaçıncı karakter olduğunu sorgular. Bulamazsa -1 değerini verir.\n",
    "- rfind Fonksiyonu: Sağ baştan belirtilen karakterin kaçıncı karakter olduğunu sorgular. Bulamazsa -1 değerini verir."
   ]
  },
  {
   "cell_type": "code",
   "execution_count": 39,
   "metadata": {},
   "outputs": [
    {
     "name": "stdout",
     "output_type": "stream",
     "text": [
      "2\n",
      "4\n"
     ]
    }
   ],
   "source": [
    "print(\"Halil\".find(\"l\"))\n",
    "print(\"Halil\".rfind(\"l\"))"
   ]
  },
  {
   "cell_type": "markdown",
   "metadata": {},
   "source": [
    "İleri Seviye Kümeler"
   ]
  },
  {
   "cell_type": "markdown",
   "metadata": {},
   "source": [
    "- add Fonksiyonu: Kümeye eleman eklemek için kullanılan fonksiyondur."
   ]
  },
  {
   "cell_type": "code",
   "execution_count": 40,
   "metadata": {},
   "outputs": [
    {
     "name": "stdout",
     "output_type": "stream",
     "text": [
      "{'Python'}\n"
     ]
    }
   ],
   "source": [
    "a=set()\n",
    "a.add(\"Python\")\n",
    "print(a)"
   ]
  },
  {
   "cell_type": "markdown",
   "metadata": {},
   "source": [
    "- discard Fonksiyonu: Kümeden eleman atmak için kullanılan fonksiyondur."
   ]
  },
  {
   "cell_type": "code",
   "execution_count": 48,
   "metadata": {},
   "outputs": [
    {
     "name": "stdout",
     "output_type": "stream",
     "text": [
      "{'Java'}\n"
     ]
    }
   ],
   "source": [
    "a=set({\"Python\",\"Java\"})\n",
    "a.discard(\"Python\")\n",
    "print(a)"
   ]
  },
  {
   "cell_type": "markdown",
   "metadata": {},
   "source": [
    "- union Metodu (Birleşim): Matematikteki gibi birleşim işlemi yapar."
   ]
  },
  {
   "cell_type": "code",
   "execution_count": 50,
   "metadata": {},
   "outputs": [
    {
     "name": "stdout",
     "output_type": "stream",
     "text": [
      "{'a', 'b', 'c', 'y', 'x'}\n"
     ]
    }
   ],
   "source": [
    "a={\"a\",\"b\",\"c\"}\n",
    "b={\"x\",\"y\",\"a\"}\n",
    "c=a.union(b) \n",
    "print(c)"
   ]
  },
  {
   "cell_type": "markdown",
   "metadata": {},
   "source": [
    "- intersection Metodu: Matematikteki gibi kesişim işlemi yapar."
   ]
  },
  {
   "cell_type": "code",
   "execution_count": 51,
   "metadata": {},
   "outputs": [
    {
     "name": "stdout",
     "output_type": "stream",
     "text": [
      "{'a'}\n"
     ]
    }
   ],
   "source": [
    "a={\"a\",\"b\",\"c\"}\n",
    "b={\"x\",\"y\",\"a\"}\n",
    "c=a.intersection(b) \n",
    "print(c)"
   ]
  },
  {
   "cell_type": "markdown",
   "metadata": {},
   "source": [
    "- difference Metodu (Fark): Matematikteki gibi fark işlemi yapar."
   ]
  },
  {
   "cell_type": "code",
   "execution_count": 49,
   "metadata": {},
   "outputs": [
    {
     "name": "stdout",
     "output_type": "stream",
     "text": [
      "{'b', 'c'}\n"
     ]
    }
   ],
   "source": [
    "a={\"a\",\"b\",\"c\"}\n",
    "b={\"x\",\"y\",\"a\"}\n",
    "c=a.difference(b) \n",
    "print(c)"
   ]
  }
 ],
 "metadata": {
  "kernelspec": {
   "display_name": "Python 3",
   "language": "python",
   "name": "python3"
  },
  "language_info": {
   "codemirror_mode": {
    "name": "ipython",
    "version": 3
   },
   "file_extension": ".py",
   "mimetype": "text/x-python",
   "name": "python",
   "nbconvert_exporter": "python",
   "pygments_lexer": "ipython3",
   "version": "3.10.7"
  },
  "orig_nbformat": 4
 },
 "nbformat": 4,
 "nbformat_minor": 2
}
