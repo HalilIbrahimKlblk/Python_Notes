{
 "cells": [
  {
   "cell_type": "markdown",
   "metadata": {},
   "source": [
    "SQL ve NoSQL Veritabanı\n",
    "- SQL: Tablolara benzer. Verilerin ve veri kümelerinin yapılacak iş doğrultusunda modellenmesidir. MySql, MsSql, Sqlite\n",
    "\n",
    "- NoSQL: Json veri tipine benzer. Düşük gecikme süreli uygulamaları içeren çeşitli veri erişimi için kullanılan databasedir. MongoDb\n",
    "\n",
    "- Server: Verilerin güvenle ve bütünlük içerisinde depolanmasını ve aynı anda birden fazla kullanıcı tarafından erişilmesini sağlayan kurumsal çaplı bir ilişkisel veri tabanı yönetim sistemidir: MySql, MsSql, MongoDb\n",
    "\n",
    "- Serverless: Uygulamaların bulut sağlayıcılar tarafından barındırıldığı ve geliştiricilerin sunucu, yazılım ve donanım yönetimi ihtiyacını ortadan kaldıran bir yapıdır. Serverless yani “Sunucusuz\": Sqlite"
   ]
  },
  {
   "cell_type": "markdown",
   "metadata": {},
   "source": [
    "- MYSQL ile kurduğumuz servere bağlanmak için mysql.connector modülü kullanılır."
   ]
  },
  {
   "cell_type": "code",
   "execution_count": 2,
   "metadata": {},
   "outputs": [
    {
     "name": "stdout",
     "output_type": "stream",
     "text": [
      "<mysql.connector.connection_cext.CMySQLConnection object at 0x000001D068CCB8E0>\n"
     ]
    }
   ],
   "source": [
    "import mysql.connector\n",
    "mydb=mysql.connector.connect(\n",
    "    host=\"localhost\",\n",
    "    user=\"root\",\n",
    "    password=\"12345678\")\n",
    "print(mydb)"
   ]
  },
  {
   "cell_type": "markdown",
   "metadata": {},
   "source": [
    "- Python kullanarak database oluşturmak."
   ]
  },
  {
   "cell_type": "code",
   "execution_count": 3,
   "metadata": {},
   "outputs": [],
   "source": [
    "import mysql.connector\n",
    "mydb=mysql.connector.connect(\n",
    "    host=\"localhost\",\n",
    "    user=\"root\",\n",
    "    password=\"12345678\")\n",
    "\n",
    "my_cursor=mydb.cursor()\n",
    "my_cursor.execute(\"CREATE DATABASE mydatabase\")"
   ]
  },
  {
   "cell_type": "markdown",
   "metadata": {},
   "source": [
    "- Databasedeki bilgileri ekrana yazdırmak için şekildeki gibi işlem yapılabilir."
   ]
  },
  {
   "cell_type": "code",
   "execution_count": 5,
   "metadata": {},
   "outputs": [
    {
     "name": "stdout",
     "output_type": "stream",
     "text": [
      "('information_schema',)\n",
      "('mydatabase',)\n",
      "('mysql',)\n",
      "('node-app',)\n",
      "('performance_schema',)\n",
      "('sys',)\n"
     ]
    }
   ],
   "source": [
    "import mysql.connector\n",
    "mydb=mysql.connector.connect(\n",
    "    host=\"localhost\",\n",
    "    user=\"root\",\n",
    "    password=\"12345678\")\n",
    "\n",
    "my_cursor=mydb.cursor()\n",
    "my_cursor.execute(\"SHOW DATABASES\")\n",
    "\n",
    "for x in my_cursor:\n",
    "    print(x)"
   ]
  },
  {
   "cell_type": "markdown",
   "metadata": {},
   "source": [
    "- MYSQL server eklemek."
   ]
  },
  {
   "cell_type": "code",
   "execution_count": 24,
   "metadata": {},
   "outputs": [],
   "source": [
    "import mysql.connector\n",
    "mydb=mysql.connector.connect(\n",
    "    host=\"localhost\",\n",
    "    user=\"root\",\n",
    "    password=\"12345678\",\n",
    "    database=\"node-app\")\n",
    "\n",
    "cursor=mydb.cursor()\n",
    "cursor.execute(\"CREATE DATABASE mydatabase\")"
   ]
  },
  {
   "cell_type": "markdown",
   "metadata": {},
   "source": [
    "- MYSQL server silmek."
   ]
  },
  {
   "cell_type": "code",
   "execution_count": null,
   "metadata": {},
   "outputs": [],
   "source": [
    "import mysql.connector\n",
    "mydb=mysql.connector.connect(\n",
    "    host=\"localhost\",\n",
    "    user=\"root\",\n",
    "    password=\"12345678\",\n",
    "    database=\"node-app\")\n",
    "\n",
    "cursor=mydb.cursor()\n",
    "cursor.execute(\"DROP DATABASE mydatabase\")"
   ]
  },
  {
   "cell_type": "markdown",
   "metadata": {},
   "source": [
    "- MYSQL servera tablo eklemek."
   ]
  },
  {
   "cell_type": "code",
   "execution_count": 17,
   "metadata": {},
   "outputs": [],
   "source": [
    "import mysql.connector\n",
    "mydb=mysql.connector.connect(\n",
    "    host=\"localhost\",\n",
    "    user=\"root\",\n",
    "    password=\"12345678\",\n",
    "    database=\"node-app\")\n",
    "\n",
    "cursor=mydb.cursor()\n",
    "cursor.execute(\"CREATE TABLE muşteriler (name VARCHAR(255),address VARCHAR(255))\")"
   ]
  },
  {
   "cell_type": "markdown",
   "metadata": {},
   "source": [
    "- MYSQL serverdan tablo silmek."
   ]
  },
  {
   "cell_type": "code",
   "execution_count": 18,
   "metadata": {},
   "outputs": [],
   "source": [
    "import mysql.connector\n",
    "mydb=mysql.connector.connect(\n",
    "    host=\"localhost\",\n",
    "    user=\"root\",\n",
    "    password=\"12345678\",\n",
    "    database=\"node-app\")\n",
    "\n",
    "cursor=mydb.cursor()\n",
    "cursor.execute(\"DROP TABLE müşteriler\")"
   ]
  },
  {
   "cell_type": "markdown",
   "metadata": {},
   "source": [
    "- Select ile kayıt sorgulama"
   ]
  },
  {
   "cell_type": "code",
   "execution_count": 4,
   "metadata": {},
   "outputs": [
    {
     "name": "stdout",
     "output_type": "stream",
     "text": [
      "(1, '530', 'Halil İbrahim', 'Kalabalık', datetime.datetime(2004, 1, 1, 0, 0), 'E')\n",
      "(5, '407', 'Halil İbrahim', 'Kalabalık', datetime.datetime(1960, 1, 1, 0, 0), 'E')\n",
      "(6, '112', 'Kaan', 'Gerçek', datetime.datetime(2002, 2, 3, 0, 0), 'K')\n",
      "\n",
      "\n",
      "Ad:Halil İbrahim Soyad: Kalabalık\n",
      "Ad:Halil İbrahim Soyad: Kalabalık\n",
      "Ad:Kaan Soyad: Gerçek\n"
     ]
    }
   ],
   "source": [
    "import mysql.connector\n",
    "mydb=mysql.connector.connect(\n",
    "    host=\"localhost\",\n",
    "    user=\"root\",\n",
    "    password=\"12345678\",\n",
    "    database=\"okul\")\n",
    "\n",
    "cursor=mydb.cursor()\n",
    "cursor.execute(\"Select * From öğrenci\")\n",
    "result=cursor.fetchall()\n",
    "for i in result: \n",
    "    print(i) \n",
    "print(\"\\n\")\n",
    "for öğrenci in result:\n",
    "    print(f\"Ad:{öğrenci[2]} Soyad: {öğrenci[3]}\")"
   ]
  },
  {
   "cell_type": "markdown",
   "metadata": {},
   "source": [
    "- Sadece istediğimiz sütunları çekmek için select sorgusundan sonra sütun adı belirtilir."
   ]
  },
  {
   "cell_type": "code",
   "execution_count": 7,
   "metadata": {},
   "outputs": [
    {
     "name": "stdout",
     "output_type": "stream",
     "text": [
      "Ad: Halil İbrahim Soyad: Kalabalık\n",
      "Ad: Halil İbrahim Soyad: Kalabalık\n",
      "Ad: Kaan Soyad: Gerçek\n"
     ]
    }
   ],
   "source": [
    "import mysql.connector\n",
    "mydb=mysql.connector.connect(\n",
    "    host=\"localhost\",\n",
    "    user=\"root\",\n",
    "    password=\"12345678\",\n",
    "    database=\"okul\")\n",
    "\n",
    "cursor=mydb.cursor()\n",
    "cursor.execute(\"Select ad,soyad From öğrenci\")\n",
    "result=cursor.fetchall()\n",
    "for öğrenci in result: \n",
    "    print(f\"Ad: {öğrenci[0]} Soyad: {öğrenci[1]}\") "
   ]
  },
  {
   "cell_type": "markdown",
   "metadata": {},
   "source": [
    "- İlk kayıtı ekrana bastırma."
   ]
  },
  {
   "cell_type": "code",
   "execution_count": 15,
   "metadata": {},
   "outputs": [
    {
     "name": "stdout",
     "output_type": "stream",
     "text": [
      "Ad: Halil İbrahim Soyad: Kalabalık\n"
     ]
    }
   ],
   "source": [
    "import mysql.connector\n",
    "mydb=mysql.connector.connect(\n",
    "    host=\"localhost\",\n",
    "    user=\"root\",\n",
    "    password=\"12345678\",\n",
    "    database=\"okul\")\n",
    "\n",
    "cursor=mydb.cursor()\n",
    "cursor.execute(\"Select ad,soyad From öğrenci\")\n",
    "result=cursor.fetchone()\n",
    "\n",
    "print(f\"Ad: {result[0]} Soyad: {result[1]}\")"
   ]
  },
  {
   "cell_type": "markdown",
   "metadata": {},
   "source": [
    "- where ile kayıt filtreleme."
   ]
  },
  {
   "cell_type": "code",
   "execution_count": 5,
   "metadata": {},
   "outputs": [
    {
     "name": "stdout",
     "output_type": "stream",
     "text": [
      "id:1 Ad:Halil İbrahim Soyad: Kalabalık\n"
     ]
    }
   ],
   "source": [
    "import mysql.connector\n",
    "mydb=mysql.connector.connect(\n",
    "    host=\"localhost\",\n",
    "    user=\"root\",\n",
    "    password=\"12345678\",\n",
    "    database=\"okul\")\n",
    "\n",
    "cursor=mydb.cursor()\n",
    "cursor.execute(\"Select * From öğrenci Where id='1'\")\n",
    "result=cursor.fetchall()\n",
    "for öğrenci in result:\n",
    "    print(f\"id:{öğrenci[0]} Ad:{öğrenci[2]} Soyad: {öğrenci[3]}\")"
   ]
  },
  {
   "cell_type": "markdown",
   "metadata": {},
   "source": [
    "- Birden fazla değişkene bağlı filtrelemek için and-or bağlaçları kullanılır."
   ]
  },
  {
   "cell_type": "code",
   "execution_count": 7,
   "metadata": {},
   "outputs": [
    {
     "name": "stdout",
     "output_type": "stream",
     "text": [
      "No:530 Ad:Halil İbrahim Soyad: Kalabalık\n"
     ]
    }
   ],
   "source": [
    "import mysql.connector\n",
    "mydb=mysql.connector.connect(\n",
    "    host=\"localhost\",\n",
    "    user=\"root\",\n",
    "    password=\"12345678\",\n",
    "    database=\"okul\")\n",
    "\n",
    "cursor=mydb.cursor()\n",
    "cursor.execute(\"Select * From öğrenci Where ad='Halil İbrahim' and öğrencino='530'\")\n",
    "result=cursor.fetchall()\n",
    "for öğrenci in result:\n",
    "    print(f\"No:{öğrenci[1]} Ad:{öğrenci[2]} Soyad: {öğrenci[3]}\")"
   ]
  },
  {
   "cell_type": "markdown",
   "metadata": {},
   "source": [
    "- Belirtilen kelimeye göre filtreleme işlemi yapmak için LIKE ifadesi ve % işaretleri kullanılır."
   ]
  },
  {
   "cell_type": "code",
   "execution_count": 12,
   "metadata": {},
   "outputs": [
    {
     "name": "stdout",
     "output_type": "stream",
     "text": [
      "No:112 Ad:Kaan Soyad: Gerçek\n",
      "No:112 Ad:Kaan Soyad: Gerçek\n"
     ]
    }
   ],
   "source": [
    "import mysql.connector\n",
    "mydb=mysql.connector.connect(\n",
    "    host=\"localhost\",\n",
    "    user=\"root\",\n",
    "    password=\"12345678\",\n",
    "    database=\"okul\")\n",
    "\n",
    "cursor=mydb.cursor()\n",
    "cursor.execute(\"Select * From öğrenci Where ad LIKE '%Kaan%'\") # Sağ baştan arama yapar.\n",
    "result=cursor.fetchall()\n",
    "for öğrenci in result:\n",
    "    print(f\"No:{öğrenci[1]} Ad:{öğrenci[2]} Soyad: {öğrenci[3]}\")"
   ]
  },
  {
   "cell_type": "markdown",
   "metadata": {},
   "source": [
    "- OrderBy sorgusu ile kayıt sıralama. ASC: Artan şekilde. DESC: Azalan şekilde."
   ]
  },
  {
   "cell_type": "code",
   "execution_count": 19,
   "metadata": {},
   "outputs": [
    {
     "name": "stdout",
     "output_type": "stream",
     "text": [
      "ID:8 Ad:Mustafa Soyad: Aydın\n",
      "ID:7 Ad:Muammer Soyad: Çelik\n",
      "ID:6 Ad:Kaan Soyad: Gerçek\n",
      "ID:1 Ad:Halil İbrahim Soyad: Kalabalık\n",
      "ID:5 Ad:Halil İbrahim Soyad: Kalabalık\n"
     ]
    }
   ],
   "source": [
    "import mysql.connector\n",
    "mydb=mysql.connector.connect(\n",
    "    host=\"localhost\",\n",
    "    user=\"root\",\n",
    "    password=\"12345678\",\n",
    "    database=\"okul\")\n",
    "\n",
    "cursor=mydb.cursor()\n",
    "cursor.execute(\"Select * From öğrenci Order By soyad,id\")\n",
    "result=cursor.fetchall()\n",
    "for öğrenci in result:\n",
    "    print(f\"ID:{öğrenci[0]} Ad:{öğrenci[2]} Soyad: {öğrenci[3]}\")"
   ]
  },
  {
   "cell_type": "markdown",
   "metadata": {},
   "source": [
    "- LIMIT ifadesi ile sınırlandırma yapma."
   ]
  },
  {
   "cell_type": "code",
   "execution_count": 2,
   "metadata": {},
   "outputs": [
    {
     "name": "stdout",
     "output_type": "stream",
     "text": [
      "ID:8 Ad:Mustafa Soyad: Aydın\n",
      "ID:7 Ad:Muammer Soyad: Çelik\n",
      "ID:6 Ad:Kaan Soyad: Gerçek\n"
     ]
    }
   ],
   "source": [
    "import mysql.connector\n",
    "mydb=mysql.connector.connect(\n",
    "    host=\"localhost\",\n",
    "    user=\"root\",\n",
    "    password=\"12345678\",\n",
    "    database=\"okul\")\n",
    "\n",
    "cursor=mydb.cursor()\n",
    "cursor.execute(\"Select * From öğrenci Order By soyad,id LIMIT 3\")\n",
    "result=cursor.fetchall()\n",
    "for öğrenci in result:\n",
    "    print(f\"ID:{öğrenci[0]} Ad:{öğrenci[2]} Soyad: {öğrenci[3]}\")"
   ]
  },
  {
   "cell_type": "markdown",
   "metadata": {},
   "source": [
    "- Count Metodu: Toplam kayıt sayısı ve filtrelem işlemi sonrası kaç tane öge olduğu bulunabilir."
   ]
  },
  {
   "cell_type": "code",
   "execution_count": 23,
   "metadata": {},
   "outputs": [
    {
     "name": "stdout",
     "output_type": "stream",
     "text": [
      "Toplam kayıt sayısı: 5\n"
     ]
    }
   ],
   "source": [
    "import mysql.connector\n",
    "mydb=mysql.connector.connect(\n",
    "    host=\"localhost\",\n",
    "    user=\"root\",\n",
    "    password=\"12345678\",\n",
    "    database=\"okul\")\n",
    "\n",
    "cursor=mydb.cursor()\n",
    "cursor.execute(\"Select COUNT(*) From öğrenci\")\n",
    "result=cursor.fetchone()\n",
    "for i in result:\n",
    "    print(\"Toplam kayıt sayısı:\",i)"
   ]
  },
  {
   "cell_type": "markdown",
   "metadata": {},
   "source": [
    "- AVG Metodu: Ortalama alma işlemi için kullanılan metotdur."
   ]
  },
  {
   "cell_type": "code",
   "execution_count": 27,
   "metadata": {},
   "outputs": [
    {
     "name": "stdout",
     "output_type": "stream",
     "text": [
      "ID'ler ortalaması: 5.4000\n"
     ]
    }
   ],
   "source": [
    "import mysql.connector\n",
    "mydb=mysql.connector.connect(\n",
    "    host=\"localhost\",\n",
    "    user=\"root\",\n",
    "    password=\"12345678\",\n",
    "    database=\"okul\")\n",
    "\n",
    "cursor=mydb.cursor()\n",
    "cursor.execute(\"Select AVG(id) From öğrenci\")\n",
    "result=cursor.fetchone()\n",
    "for i in result:\n",
    "    print(\"ID'ler ortalaması:\",i)"
   ]
  },
  {
   "cell_type": "markdown",
   "metadata": {},
   "source": [
    "- SUM Metodu: Toplama işlemi yapmak için kullanılan metotdur."
   ]
  },
  {
   "cell_type": "code",
   "execution_count": 26,
   "metadata": {},
   "outputs": [
    {
     "name": "stdout",
     "output_type": "stream",
     "text": [
      "ID'ler toplamı: 27\n"
     ]
    }
   ],
   "source": [
    "import mysql.connector\n",
    "mydb=mysql.connector.connect(\n",
    "    host=\"localhost\",\n",
    "    user=\"root\",\n",
    "    password=\"12345678\",\n",
    "    database=\"okul\")\n",
    "\n",
    "cursor=mydb.cursor()\n",
    "cursor.execute(\"Select SUM(id) From öğrenci\")\n",
    "result=cursor.fetchone()\n",
    "for i in result:\n",
    "    print(\"ID'ler toplamı:\",i)"
   ]
  },
  {
   "cell_type": "markdown",
   "metadata": {},
   "source": [
    "- MIN Metedu: Belitilen durumlar arasında en küçük değeri ekrana getirir."
   ]
  },
  {
   "cell_type": "code",
   "execution_count": 30,
   "metadata": {},
   "outputs": [
    {
     "name": "stdout",
     "output_type": "stream",
     "text": [
      "Min ID: 1\n"
     ]
    }
   ],
   "source": [
    "import mysql.connector\n",
    "mydb=mysql.connector.connect(\n",
    "    host=\"localhost\",\n",
    "    user=\"root\",\n",
    "    password=\"12345678\",\n",
    "    database=\"okul\")\n",
    "\n",
    "cursor=mydb.cursor()\n",
    "cursor.execute(\"Select MIN(id) From öğrenci\")\n",
    "result=cursor.fetchone()\n",
    "for i in result:\n",
    "    print(\"Min ID:\",i)"
   ]
  },
  {
   "cell_type": "markdown",
   "metadata": {},
   "source": [
    "- MAX Metedu: Belitilen durumlar arasında en büyük değeri ekrana getirir."
   ]
  },
  {
   "cell_type": "code",
   "execution_count": 29,
   "metadata": {},
   "outputs": [
    {
     "name": "stdout",
     "output_type": "stream",
     "text": [
      "Max ID: 8\n"
     ]
    }
   ],
   "source": [
    "import mysql.connector\n",
    "mydb=mysql.connector.connect(\n",
    "    host=\"localhost\",\n",
    "    user=\"root\",\n",
    "    password=\"12345678\",\n",
    "    database=\"okul\")\n",
    "\n",
    "cursor=mydb.cursor()\n",
    "cursor.execute(\"Select MAX(id) From öğrenci\")\n",
    "result=cursor.fetchone()\n",
    "for i in result:\n",
    "    print(\"Max ID:\",i)"
   ]
  },
  {
   "cell_type": "markdown",
   "metadata": {},
   "source": [
    "- Update kayıt güncelleme."
   ]
  },
  {
   "cell_type": "code",
   "execution_count": 6,
   "metadata": {},
   "outputs": [
    {
     "name": "stdout",
     "output_type": "stream",
     "text": [
      "Ad:Halil İbrahim  Soyad:Kalabalık\n",
      "--------------------------------\n",
      "Ad:Mustafa Kemal  Soyad:Atatürk\n"
     ]
    }
   ],
   "source": [
    "import mysql.connector\n",
    "mydb=mysql.connector.connect(\n",
    "    host=\"localhost\",\n",
    "    user=\"root\",\n",
    "    password=\"12345678\",\n",
    "    database=\"okul\")\n",
    "\n",
    "cursor=mydb.cursor()\n",
    "cursor.execute(\"Select * From öğrenci Where id='5'\")\n",
    "result=cursor.fetchall()\n",
    "for i in result:\n",
    "    print(f\"Ad:{i[2]}  Soyad:{i[3]}\")\n",
    "\n",
    "cursor=mydb.cursor()\n",
    "cursor.execute(\"Update öğrenci Set ad='Mustafa Kemal',soyad='Atatürk' Where id='5'\")\n",
    "mydb.commit()\n",
    "print(\"-\"*32)\n",
    "cursor=mydb.cursor()\n",
    "cursor.execute(\"Select * From öğrenci Where id='5'\")\n",
    "result=cursor.fetchall()\n",
    "for i in result:\n",
    "    print(f\"Ad:{i[2]}  Soyad:{i[3]}\")"
   ]
  },
  {
   "cell_type": "markdown",
   "metadata": {},
   "source": [
    "- Delete kayıt silme."
   ]
  },
  {
   "cell_type": "code",
   "execution_count": 10,
   "metadata": {},
   "outputs": [
    {
     "name": "stdout",
     "output_type": "stream",
     "text": [
      "Kayıt silindi\n"
     ]
    }
   ],
   "source": [
    "import mysql.connector\n",
    "mydb=mysql.connector.connect(\n",
    "    host=\"localhost\",\n",
    "    user=\"root\",\n",
    "    password=\"12345678\",\n",
    "    database=\"okul\")\n",
    "\n",
    "cursor=mydb.cursor()\n",
    "cursor.execute(\"Delete from öğrenci Where öğrencino=112\")\n",
    "mydb.commit()\n",
    "print(\"Kayıt silindi\")"
   ]
  },
  {
   "cell_type": "markdown",
   "metadata": {},
   "source": [
    "- Birden fazla tablo ile çalışmak."
   ]
  },
  {
   "cell_type": "code",
   "execution_count": null,
   "metadata": {},
   "outputs": [],
   "source": [
    "import mysql.connector\n",
    "mydb=mysql.connector.connect(\n",
    "    host=\"localhost\",\n",
    "    user=\"root\",\n",
    "    password=\"12345678\",\n",
    "    database=\"okul\")\n",
    "\n",
    "cursor=mydb.cursor()\n",
    "sql=\"Select * From Öğrenci inner join öğretmen on öğretmen.id=öğrenci.öğretmenid\"\n",
    "sql=\"Select * From Öğrenci as a inner join öğretmen as b on b.id=a.öğretmenid\" # Kod kısaltma\n",
    "cursor.execute(sql)\n",
    "mydb.commit()\n",
    "print(\"Kayıt silindi\")"
   ]
  }
 ],
 "metadata": {
  "kernelspec": {
   "display_name": "Python 3",
   "language": "python",
   "name": "python3"
  },
  "language_info": {
   "codemirror_mode": {
    "name": "ipython",
    "version": 3
   },
   "file_extension": ".py",
   "mimetype": "text/x-python",
   "name": "python",
   "nbconvert_exporter": "python",
   "pygments_lexer": "ipython3",
   "version": "3.10.7"
  },
  "orig_nbformat": 4
 },
 "nbformat": 4,
 "nbformat_minor": 2
}
