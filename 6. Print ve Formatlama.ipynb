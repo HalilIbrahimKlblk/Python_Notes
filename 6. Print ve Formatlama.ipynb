{
 "cells": [
  {
   "cell_type": "markdown",
   "metadata": {},
   "source": [
    "Print fonksiyonu özellikleri"
   ]
  },
  {
   "cell_type": "code",
   "execution_count": 5,
   "metadata": {},
   "outputs": [
    {
     "name": "stdout",
     "output_type": "stream",
     "text": [
      "ankaraistanbul\n",
      "ankara istanbul\n"
     ]
    }
   ],
   "source": [
    "print(\"ankara\"\"istanbul\")\n",
    "print(\"ankara\",\"istanbul\")"
   ]
  },
  {
   "cell_type": "code",
   "execution_count": 4,
   "metadata": {},
   "outputs": [
    {
     "name": "stdout",
     "output_type": "stream",
     "text": [
      "İstabul'a gidiyorum\n",
      "İstabul'a gidiyorum\n"
     ]
    }
   ],
   "source": [
    "print(\"İstabul'a gidiyorum\") \n",
    "print('İstabul\\'a gidiyorum') "
   ]
  },
  {
   "cell_type": "markdown",
   "metadata": {},
   "source": [
    "- String değiştirme"
   ]
  },
  {
   "cell_type": "code",
   "execution_count": 12,
   "metadata": {},
   "outputs": [
    {
     "name": "stdout",
     "output_type": "stream",
     "text": [
      "Hello world\n"
     ]
    }
   ],
   "source": [
    "a= \"Hello warld\"\n",
    "print(a[:7]+\"o\"+ a[-3:])"
   ]
  },
  {
   "cell_type": "markdown",
   "metadata": {},
   "source": [
    "- sep( ) Parametresi"
   ]
  },
  {
   "cell_type": "code",
   "execution_count": 6,
   "metadata": {},
   "outputs": [
    {
     "name": "stdout",
     "output_type": "stream",
     "text": [
      "giresun o ordu\n"
     ]
    }
   ],
   "source": [
    "print(\"giresun\", \"ordu\", sep=\" o \")"
   ]
  },
  {
   "cell_type": "markdown",
   "metadata": {},
   "source": [
    "- ( * ) Komutu"
   ]
  },
  {
   "cell_type": "code",
   "execution_count": 7,
   "metadata": {},
   "outputs": [
    {
     "name": "stdout",
     "output_type": "stream",
     "text": [
      "a n k a r a\n"
     ]
    }
   ],
   "source": [
    "print(*\"ankara\")"
   ]
  },
  {
   "cell_type": "code",
   "execution_count": 13,
   "metadata": {},
   "outputs": [
    {
     "name": "stdout",
     "output_type": "stream",
     "text": [
      "25/08/2003\n",
      "istanbul\n",
      "izmir\n"
     ]
    }
   ],
   "source": [
    "print(\"25\",\"08\",\"2003\",sep=\"/\")\n",
    "print(\"istanbul\",\"izmir\", sep=\"\\n\")"
   ]
  },
  {
   "cell_type": "code",
   "execution_count": null,
   "metadata": {},
   "outputs": [],
   "source": [
    "print(\"ordu\",\"bursa\",\"balıkesir\",\"yozgat\",\"amasya\", sep=\"\\n\")"
   ]
  },
  {
   "cell_type": "markdown",
   "metadata": {},
   "source": [
    "- Yol olarak kopyalananlar \\n \\t gibi ifadelerle karışmaması için \\ \\ şeklinde yazılır."
   ]
  },
  {
   "cell_type": "code",
   "execution_count": null,
   "metadata": {},
   "outputs": [],
   "source": [
    "print(\"C:\\\\Users\\\\HALİL İBRAHİM\")"
   ]
  },
  {
   "cell_type": "markdown",
   "metadata": {},
   "source": [
    "String Meotadları\n",
    "- .upper( ) Metodu: Değişkendeki karekterleri büyük harfle yazdırır."
   ]
  },
  {
   "cell_type": "code",
   "execution_count": 13,
   "metadata": {},
   "outputs": [
    {
     "name": "stdout",
     "output_type": "stream",
     "text": [
      "HALIL İBRAHIM KALABALIK\n"
     ]
    }
   ],
   "source": [
    "a= \"Halil İbrahim Kalabalık\"\n",
    "print(a.upper())"
   ]
  },
  {
   "cell_type": "markdown",
   "metadata": {},
   "source": [
    "- .lower( ) Metodu: Değişkendeki karekterleri küçük harfle yazdırır."
   ]
  },
  {
   "cell_type": "code",
   "execution_count": 14,
   "metadata": {},
   "outputs": [
    {
     "name": "stdout",
     "output_type": "stream",
     "text": [
      "halil i̇brahim kalabalık\n"
     ]
    }
   ],
   "source": [
    "a= \"Halil İbrahim Kalabalık\"\n",
    "print(a.lower())"
   ]
  },
  {
   "cell_type": "markdown",
   "metadata": {},
   "source": [
    "- .title( ) Metodu: Değişkendeki karekterlerin sadece ilk harflerini büyük harflerle yazdırır."
   ]
  },
  {
   "cell_type": "code",
   "execution_count": 15,
   "metadata": {},
   "outputs": [
    {
     "name": "stdout",
     "output_type": "stream",
     "text": [
      "Hali̇l İbrahim Kalabalık\n"
     ]
    }
   ],
   "source": [
    "a= \"hALİL İbrahim kalabalık\"\n",
    "print(a.title())"
   ]
  },
  {
   "cell_type": "markdown",
   "metadata": {},
   "source": [
    "- .capitalize( ) Metodu: Değişkendeki cümlenin sadece ilk harfini büyük harfle yazdırır."
   ]
  },
  {
   "cell_type": "code",
   "execution_count": 16,
   "metadata": {},
   "outputs": [
    {
     "name": "stdout",
     "output_type": "stream",
     "text": [
      "Hali̇l i̇brahim kalabalık\n"
     ]
    }
   ],
   "source": [
    "a= \"hALİL İbrahim kalabalık\"\n",
    "print(a.capitalize())"
   ]
  },
  {
   "cell_type": "markdown",
   "metadata": {},
   "source": [
    "- .strip( ) Metodu: Değişkendeki cümlenin başında ve sonundaki boşlukları yada parantez içinde belirtilen karakterleri silerek ekrana yazdırır."
   ]
  },
  {
   "cell_type": "code",
   "execution_count": 44,
   "metadata": {},
   "outputs": [
    {
     "name": "stdout",
     "output_type": "stream",
     "text": [
      "Halil İbrahim Kalabalık\n",
      "Halil İbrahim Kalabalık    \n",
      "    Halil İbrahim Kalabalık\n",
      "www.turkiye.gov.tr\n"
     ]
    }
   ],
   "source": [
    "a= \"    Halil İbrahim Kalabalık    \"\n",
    "b=\"https://www.turkiye.gov.tr/\"\n",
    "print(a.strip())\n",
    "print(a.lstrip()) # Sadece soldaki boşlukları sil.\n",
    "print(a.rstrip()) # Sadece sağdaki boşlukları sil.\n",
    "print(b.lstrip(\"htps:/\").rstrip(\"/\"))"
   ]
  },
  {
   "cell_type": "markdown",
   "metadata": {},
   "source": [
    "- .split( ) Metodu: Değişkendeki boşluklarını kaldırıp dizi şeklinde parçalayarak ekrana yazdırır."
   ]
  },
  {
   "cell_type": "code",
   "execution_count": 7,
   "metadata": {},
   "outputs": [
    {
     "name": "stdout",
     "output_type": "stream",
     "text": [
      "['Halil', 'İbrahim', 'Kalabalık']\n",
      "['Mustafa Kemal Atatürk', ' İsmet İnönü']\n",
      "İbrahim\n"
     ]
    }
   ],
   "source": [
    "a= \"    Halil İbrahim Kalabalık   \"\n",
    "b= \"Mustafa Kemal Atatürk. İsmet İnönü\"\n",
    "print(a.split())\n",
    "print(b.split(\".\"))\n",
    "print(a.split()[1])"
   ]
  },
  {
   "cell_type": "markdown",
   "metadata": {},
   "source": [
    "- .join( ) Metodu: Değişkene birleştirme ve ekleme yaparak ekrana yazdırır."
   ]
  },
  {
   "cell_type": "code",
   "execution_count": 26,
   "metadata": {},
   "outputs": [
    {
     "name": "stdout",
     "output_type": "stream",
     "text": [
      "Halil İbrahim-Kalabalık\n"
     ]
    }
   ],
   "source": [
    "a= (\"Halil İbrahim\",\"Kalabalık\")\n",
    "print(\"-\".join(a))"
   ]
  },
  {
   "cell_type": "markdown",
   "metadata": {},
   "source": [
    "- .find( ) Metodu: Değişkende istenilen ögeyi arar varsa karkter numarasını yoksa '-1' ekrana yazdırır."
   ]
  },
  {
   "cell_type": "code",
   "execution_count": 47,
   "metadata": {},
   "outputs": [
    {
     "name": "stdout",
     "output_type": "stream",
     "text": [
      "6\n",
      "24\n"
     ]
    }
   ],
   "source": [
    "a= \"Halil Kalabalık İbrahim Kalabalık\"\n",
    "print(a.find(\"Kalabalık\"))\n",
    "print(a.rfind(\"Kalabalık\"))"
   ]
  },
  {
   "cell_type": "markdown",
   "metadata": {},
   "source": [
    "- .index( ) Metodu: Değişkende istenilen ögeyi arar varsa karakter numarasını yoksa eror ekrana yazdırır."
   ]
  },
  {
   "cell_type": "code",
   "execution_count": 53,
   "metadata": {},
   "outputs": [
    {
     "name": "stdout",
     "output_type": "stream",
     "text": [
      "6\n",
      "25\n"
     ]
    }
   ],
   "source": [
    "a= \"Halil Kalabalık, İbrahim Kalabalık\"\n",
    "print(a.index(\"Kalabalık\"))\n",
    "print(a.rindex(\"Kalabalık\"))"
   ]
  },
  {
   "cell_type": "markdown",
   "metadata": {},
   "source": [
    "- .isalpha( ) Metodu: Değişken içerisinde harf harici bir şey olup olmadığına bakarak ekrana yazdırır."
   ]
  },
  {
   "cell_type": "code",
   "execution_count": 69,
   "metadata": {},
   "outputs": [
    {
     "name": "stdout",
     "output_type": "stream",
     "text": [
      "True\n",
      "False\n"
     ]
    }
   ],
   "source": [
    "a,b=\"Halilibrahimkalabalık\",\"Halil-1 İbrahim-2 Kalabalık-3\"\n",
    "print(a.isalpha())\n",
    "print(b.isalpha())"
   ]
  },
  {
   "cell_type": "markdown",
   "metadata": {},
   "source": [
    ".isdigit( ) Metodu: Değişken içerisinde sayı harici bir şey olup olmadığına bakarak ekrana yazdırır."
   ]
  },
  {
   "cell_type": "code",
   "execution_count": 74,
   "metadata": {},
   "outputs": [
    {
     "name": "stdout",
     "output_type": "stream",
     "text": [
      "True\n",
      "False\n"
     ]
    }
   ],
   "source": [
    "a,b=\"12345678\",\"Halil-1 İbrahim-2 Kalabalık-3\"\n",
    "print(a.isdigit())\n",
    "print(b.isdigit())"
   ]
  },
  {
   "cell_type": "markdown",
   "metadata": {},
   "source": [
    "- .count( ) Metodu: Değişkende istenilen ögeden kaç tane olduğunu ekrana yazdırır."
   ]
  },
  {
   "cell_type": "code",
   "execution_count": 45,
   "metadata": {},
   "outputs": [
    {
     "name": "stdout",
     "output_type": "stream",
     "text": [
      "5\n"
     ]
    }
   ],
   "source": [
    "a= \"Halil İbrahim Kalabalık\"\n",
    "print(a.count(\"a\"))"
   ]
  },
  {
   "cell_type": "markdown",
   "metadata": {},
   "source": [
    "- .startswith( ) Metodu: Değişken parantez içindeki ögeyle başlayıp başlamdığını ekrana yazdırır."
   ]
  },
  {
   "cell_type": "code",
   "execution_count": 32,
   "metadata": {},
   "outputs": [
    {
     "name": "stdout",
     "output_type": "stream",
     "text": [
      "True\n"
     ]
    }
   ],
   "source": [
    "a= \"Halil İbrahim Kalabalık\"\n",
    "print(a.startswith(\"H\"))"
   ]
  },
  {
   "cell_type": "markdown",
   "metadata": {},
   "source": [
    "- .endswith( ) Metodu: Değişken parantez içindeki ögeyle bitip bitmediğini ekrana yazdırır."
   ]
  },
  {
   "cell_type": "code",
   "execution_count": 33,
   "metadata": {},
   "outputs": [
    {
     "name": "stdout",
     "output_type": "stream",
     "text": [
      "False\n"
     ]
    }
   ],
   "source": [
    "a= \"Halil İbrahim Kalabalık\"\n",
    "print(a.endswith(\"H\"))"
   ]
  },
  {
   "cell_type": "markdown",
   "metadata": {},
   "source": [
    "- .replace( ) Metodu: Değişken içerisinde tanımlanan değeri yeni değer ile günceller ve ekrana yazdırır."
   ]
  },
  {
   "cell_type": "code",
   "execution_count": 34,
   "metadata": {},
   "outputs": [
    {
     "name": "stdout",
     "output_type": "stream",
     "text": [
      "Halil Osman Kalabalık\n"
     ]
    }
   ],
   "source": [
    "a= \"Halil İbrahim Kalabalık\"\n",
    "print(a.replace(\"İbrahim\",\"Osman\"))"
   ]
  },
  {
   "cell_type": "markdown",
   "metadata": {},
   "source": [
    "- .center( ) Metodu: Değişken içerisinde değeri ortalayarak ekrana yazdırır."
   ]
  },
  {
   "cell_type": "code",
   "execution_count": 76,
   "metadata": {},
   "outputs": [
    {
     "name": "stdout",
     "output_type": "stream",
     "text": [
      "---Halil İbrahim Kalabalık----\n",
      "-------Halil İbrahim Kalabalık\n",
      "Halil İbrahim Kalabalık-------\n"
     ]
    }
   ],
   "source": [
    "a= \"Halil İbrahim Kalabalık\"\n",
    "print(a.center(30,\"-\"))\n",
    "print(a.rjust(30,\"-\")) # Sağa yaslamak için kullanılır.\n",
    "print(a.ljust(30,\"-\")) # Sola yaslamak için kullanılır."
   ]
  },
  {
   "cell_type": "markdown",
   "metadata": {},
   "source": [
    "Formatlama"
   ]
  },
  {
   "cell_type": "code",
   "execution_count": 3,
   "metadata": {},
   "outputs": [
    {
     "name": "stdout",
     "output_type": "stream",
     "text": [
      "4 ve 5 çarpımı 20'dir.\n"
     ]
    }
   ],
   "source": [
    "print(\"{} ve {} çarpımı {}'dir.\".format(4,5,20))"
   ]
  },
  {
   "cell_type": "code",
   "execution_count": 1,
   "metadata": {},
   "outputs": [
    {
     "name": "stdout",
     "output_type": "stream",
     "text": [
      "Benim adım Halil ibrahim soyadım Kalabalık.\n"
     ]
    }
   ],
   "source": [
    "print(\"Benim adım {} {} soyadım {}.\" .format(\"Halil\", \"ibrahim\", \"Kalabalık\"))"
   ]
  },
  {
   "cell_type": "code",
   "execution_count": 2,
   "metadata": {},
   "outputs": [
    {
     "name": "stdout",
     "output_type": "stream",
     "text": [
      "Benim adım ibrahim Kalabalık soyadım Halil.\n"
     ]
    }
   ],
   "source": [
    "print(\"Benim adım {1} {2} soyadım {0}.\" .format(\"Halil\", \"ibrahim\", \"Kalabalık\"))"
   ]
  },
  {
   "cell_type": "code",
   "execution_count": 1,
   "metadata": {},
   "outputs": [
    {
     "name": "stdout",
     "output_type": "stream",
     "text": [
      "Benim adım ibrahim Halil soyadım Kalabalık.\n"
     ]
    }
   ],
   "source": [
    "print(\"Benim adım {ad2} {ad1} soyadım {soyad}.\" .format(ad1=\"Halil\", ad2=\"ibrahim\", soyad=\"Kalabalık\"))"
   ]
  },
  {
   "cell_type": "code",
   "execution_count": 4,
   "metadata": {},
   "outputs": [
    {
     "name": "stdout",
     "output_type": "stream",
     "text": [
      "Sonuç 0.3\n"
     ]
    }
   ],
   "source": [
    "a=200/700\n",
    "print(\"Sonuç {:.1f}\".format(a))"
   ]
  },
  {
   "cell_type": "code",
   "execution_count": 4,
   "metadata": {},
   "outputs": [
    {
     "name": "stdout",
     "output_type": "stream",
     "text": [
      "3.15 5.324 7.3243\n"
     ]
    }
   ],
   "source": [
    "print(\"{:.2f} {:.3f} {:.4f}\" .format(3.1463,5.324,7.324324))"
   ]
  },
  {
   "cell_type": "markdown",
   "metadata": {},
   "source": [
    "(f \" \")'li String Yazma Metodu"
   ]
  },
  {
   "cell_type": "code",
   "execution_count": 5,
   "metadata": {},
   "outputs": [
    {
     "name": "stdout",
     "output_type": "stream",
     "text": [
      "Benim adım Halil İbrahim soyadım Kalabalık.\n"
     ]
    }
   ],
   "source": [
    "ad=\"Halil İbrahim\"\n",
    "soyad=\"Kalabalık\"\n",
    "print(f\"Benim adım {ad} soyadım {soyad}.\")"
   ]
  }
 ],
 "metadata": {
  "kernelspec": {
   "display_name": "Python 3",
   "language": "python",
   "name": "python3"
  },
  "language_info": {
   "codemirror_mode": {
    "name": "ipython",
    "version": 3
   },
   "file_extension": ".py",
   "mimetype": "text/x-python",
   "name": "python",
   "nbconvert_exporter": "python",
   "pygments_lexer": "ipython3",
   "version": "3.10.7"
  },
  "orig_nbformat": 4
 },
 "nbformat": 4,
 "nbformat_minor": 2
}
