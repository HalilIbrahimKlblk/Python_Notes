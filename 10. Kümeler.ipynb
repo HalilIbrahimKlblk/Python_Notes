{
 "cells": [
  {
   "cell_type": "markdown",
   "metadata": {},
   "source": [
    "Kümeler\n",
    "- Kümeler pythonda karşımıza sık sık çıkmasada işlerimizi epey kolaylaştırır.\n",
    "- Veri tipi ' set ' şeklindedir.\n",
    "- Karışık bir veri tipidir parçalanamazlar."
   ]
  },
  {
   "cell_type": "markdown",
   "metadata": {},
   "source": [
    "- Set fonksiyonunu kullanarak kullanıcıda aldığımız kelimenin harflerini karışık ve birer kere olmak üzere ekrana yazdırdık."
   ]
  },
  {
   "cell_type": "code",
   "execution_count": 1,
   "metadata": {},
   "outputs": [
    {
     "name": "stdout",
     "output_type": "stream",
     "text": [
      "{'a', 'r', 'm', 'b'}\n"
     ]
    }
   ],
   "source": [
    "kelime=input(\"kelime:\")\n",
    "a=set(kelime)\n",
    "print(a)"
   ]
  },
  {
   "cell_type": "code",
   "execution_count": 3,
   "metadata": {},
   "outputs": [
    {
     "name": "stdout",
     "output_type": "stream",
     "text": [
      "<class 'set'>\n",
      "{'e', 'c', 'a', 'b', 'd'}\n"
     ]
    }
   ],
   "source": [
    "a={\"a\",\"b\",\"c\",\"d\",\"e\"}\n",
    "print(type(a))\n",
    "print(a)"
   ]
  },
  {
   "cell_type": "markdown",
   "metadata": {},
   "source": [
    "Temel liste metotları ve işlemleri"
   ]
  },
  {
   "cell_type": "markdown",
   "metadata": {},
   "source": [
    "- .add() Metodu: Bu metod kümeye tek bir öge eklemek için kullanılan metotdur."
   ]
  },
  {
   "cell_type": "code",
   "execution_count": 5,
   "metadata": {},
   "outputs": [
    {
     "name": "stdout",
     "output_type": "stream",
     "text": [
      "{'ahmet'}\n",
      "{'a', 'b', 'd', 'c'}\n"
     ]
    }
   ],
   "source": [
    "a=set()\n",
    "a.add(\"ahmet\")\n",
    "print(a)\n",
    "\n",
    "b=set()\n",
    "liste=[\"a\",\"b\",\"c\",\"d\"]\n",
    "for i in liste:\n",
    "    b.add(i)\n",
    "print(b)"
   ]
  },
  {
   "cell_type": "markdown",
   "metadata": {},
   "source": [
    "- .remove Metodu: Bu metod kümeden öge silmek için kullanılır."
   ]
  },
  {
   "cell_type": "code",
   "execution_count": 6,
   "metadata": {},
   "outputs": [
    {
     "name": "stdout",
     "output_type": "stream",
     "text": [
      "{'ali', 'mehmet'}\n"
     ]
    }
   ],
   "source": [
    "a={\"ahmet\",\"mehmet\",\"ali\"}\n",
    "a.remove(\"ahmet\") \n",
    "print(a)"
   ]
  },
  {
   "cell_type": "markdown",
   "metadata": {},
   "source": [
    "- .discard() Metodu: Bu metod kümeden öge çıkarmak için kullanılan metotdur. Removeden farklı olarak çıkarılmak istenen öge kümede yoksa hata vermez."
   ]
  },
  {
   "cell_type": "code",
   "execution_count": 7,
   "metadata": {},
   "outputs": [
    {
     "name": "stdout",
     "output_type": "stream",
     "text": [
      "{'ali', 'ahmet', 'mehmet'}\n"
     ]
    }
   ],
   "source": [
    "a={\"ahmet\",\"mehmet\",\"ali\"}\n",
    "a.discard(\"veli\") \n",
    "print(a)"
   ]
  },
  {
   "cell_type": "markdown",
   "metadata": {},
   "source": [
    "- .clear() Metodu: Bu metod kümeyi tamamen boşaltmak temizlemek için kullanılan metotdur."
   ]
  },
  {
   "cell_type": "code",
   "execution_count": 9,
   "metadata": {},
   "outputs": [
    {
     "name": "stdout",
     "output_type": "stream",
     "text": [
      "set()\n"
     ]
    }
   ],
   "source": [
    "a={\"ahmet\",\"mehmet\",\"ali\"}\n",
    "a.clear() \n",
    "print(a)"
   ]
  },
  {
   "cell_type": "markdown",
   "metadata": {},
   "source": [
    "- del Metodu: Bu metod kümeyi tamamen ortadan kaldırmak için kullanılan metotdur."
   ]
  },
  {
   "cell_type": "code",
   "execution_count": 10,
   "metadata": {},
   "outputs": [],
   "source": [
    "a={\"ahmet\",\"mehmet\",\"ali\"}\n",
    "del a"
   ]
  },
  {
   "cell_type": "markdown",
   "metadata": {},
   "source": [
    "- .pop Metodu: Bu metod kümeden rastgele bir öge atmak için kullanılır."
   ]
  },
  {
   "cell_type": "code",
   "execution_count": 11,
   "metadata": {},
   "outputs": [
    {
     "name": "stdout",
     "output_type": "stream",
     "text": [
      "{'b', 'd', 'c'}\n"
     ]
    }
   ],
   "source": [
    "a={\"a\",\"b\",\"c\",\"d\"}\n",
    "a.pop()\n",
    "print(a)"
   ]
  },
  {
   "cell_type": "markdown",
   "metadata": {},
   "source": [
    "- .update() Metodu: Bu metod kümeye öge eklemek için kullanılır birden fazla öge ekleyebilir."
   ]
  },
  {
   "cell_type": "code",
   "execution_count": 12,
   "metadata": {},
   "outputs": [
    {
     "name": "stdout",
     "output_type": "stream",
     "text": [
      "{'z', 'c', 'a', 'b', 'y', 'x'}\n"
     ]
    }
   ],
   "source": [
    "a={\"a\",\"b\",\"c\"}\n",
    "b={\"x\",\"y\",\"z\"}\n",
    "a.update(b) \n",
    "print(a)"
   ]
  },
  {
   "cell_type": "markdown",
   "metadata": {},
   "source": [
    "- .copy() Metodu: Bu metod kümeyi kopyalamak için kullanılır."
   ]
  },
  {
   "cell_type": "code",
   "execution_count": 13,
   "metadata": {},
   "outputs": [
    {
     "name": "stdout",
     "output_type": "stream",
     "text": [
      "{'a', 'b', 'c'}\n"
     ]
    }
   ],
   "source": [
    "a={\"a\",\"b\",\"c\"}\n",
    "b=a.copy()\n",
    "print(b)"
   ]
  },
  {
   "cell_type": "markdown",
   "metadata": {},
   "source": [
    "- .union() Metodu (Birleşim): Matematikteki gibi birleşim işlemi yapar."
   ]
  },
  {
   "cell_type": "code",
   "execution_count": 14,
   "metadata": {},
   "outputs": [
    {
     "name": "stdout",
     "output_type": "stream",
     "text": [
      "{'c', 'a', 'b', 'y', 'x'}\n"
     ]
    }
   ],
   "source": [
    "a={\"a\",\"b\",\"c\"}\n",
    "b={\"x\",\"y\",\"a\"}\n",
    "c=a.union(b) \n",
    "print(c)"
   ]
  },
  {
   "cell_type": "markdown",
   "metadata": {},
   "source": [
    "- .difference() Metodu (Fark): Matematikteki gibi fark işlemi yapar."
   ]
  },
  {
   "cell_type": "code",
   "execution_count": 15,
   "metadata": {},
   "outputs": [
    {
     "name": "stdout",
     "output_type": "stream",
     "text": [
      "{'b', 'c'}\n"
     ]
    }
   ],
   "source": [
    "a={\"a\",\"b\",\"c\"}\n",
    "b={\"x\",\"y\",\"a\"}\n",
    "c=a.difference(b) \n",
    "print(c)"
   ]
  },
  {
   "cell_type": "markdown",
   "metadata": {},
   "source": [
    "- .symmetric_difference() Metodu: Kümenin birleşiminden kesişimini çıkartır ve ekrana yazdırır yani ortak olmayanlar."
   ]
  },
  {
   "cell_type": "code",
   "execution_count": 17,
   "metadata": {},
   "outputs": [
    {
     "name": "stdout",
     "output_type": "stream",
     "text": [
      "{'c', 'b', 'y', 'x'}\n"
     ]
    }
   ],
   "source": [
    "a={\"a\",\"b\",\"c\"}\n",
    "b={\"x\",\"y\",\"a\"}\n",
    "c=a.symmetric_difference(b)\n",
    "print(c)"
   ]
  },
  {
   "cell_type": "markdown",
   "metadata": {},
   "source": [
    "- .intersection() Metodu: Matematikteki gibi kesişim işlemi yapar."
   ]
  },
  {
   "cell_type": "code",
   "execution_count": 18,
   "metadata": {},
   "outputs": [
    {
     "name": "stdout",
     "output_type": "stream",
     "text": [
      "{'a'}\n"
     ]
    }
   ],
   "source": [
    "a={\"a\",\"b\",\"c\"}\n",
    "b={\"x\",\"y\",\"a\"}\n",
    "c=a.intersection(b) \n",
    "print(c)"
   ]
  },
  {
   "cell_type": "markdown",
   "metadata": {},
   "source": [
    "- _update() Metodu: Kümeyi güncellemek için update kullanılır.\n",
    "- Aşağıda k1-k2 kümesinin farkının sonucu yeni k1 kümesi olarak güncellenmiştir. Kümelerde kümeyi güncellemek için ..._update tagı kullanılır."
   ]
  },
  {
   "cell_type": "code",
   "execution_count": 19,
   "metadata": {},
   "outputs": [
    {
     "name": "stdout",
     "output_type": "stream",
     "text": [
      "{2}\n"
     ]
    }
   ],
   "source": [
    "k1=set([1,2,3])\n",
    "k2=set([1,3,5])\n",
    "k1.difference_update(k2) \n",
    "print(k1)"
   ]
  },
  {
   "cell_type": "markdown",
   "metadata": {},
   "source": [
    "- .isdisjoint() Metodu: Bu metod yukarıdaki kümelerin kesişiminin boş küme olup olmadığını sorgulamak için kullanılır."
   ]
  },
  {
   "cell_type": "code",
   "execution_count": 20,
   "metadata": {},
   "outputs": [
    {
     "name": "stdout",
     "output_type": "stream",
     "text": [
      "True\n"
     ]
    }
   ],
   "source": [
    "a={\"a\",\"b\",\"c\"}\n",
    "b={\"x\",\"y\",\"z\"}\n",
    "print(a.isdisjoint(b))"
   ]
  },
  {
   "cell_type": "markdown",
   "metadata": {},
   "source": [
    "- .issubset() Metodu: Bu metod kümenin alt küme olup olmadığını sorgulayan ögedir."
   ]
  },
  {
   "cell_type": "code",
   "execution_count": 21,
   "metadata": {},
   "outputs": [
    {
     "name": "stdout",
     "output_type": "stream",
     "text": [
      "True\n"
     ]
    }
   ],
   "source": [
    "a={\"a\",\"b\",\"c\"}\n",
    "b={\"a\",\"b\",\"c\",\"d\",\"e\"}\n",
    "print(a.issubset(b))"
   ]
  },
  {
   "cell_type": "markdown",
   "metadata": {},
   "source": [
    "- .issuperset() Metodu: Bu metod kümenin diğer kümeyi kapsayıp kapsamadığını sorgulayan ögedir."
   ]
  },
  {
   "cell_type": "code",
   "execution_count": null,
   "metadata": {},
   "outputs": [],
   "source": [
    "a={\"a\",\"b\",\"c\"}\n",
    "b={\"a\",\"b\",\"c\",\"d\",\"e\"}\n",
    "print(b.issuperset(a))"
   ]
  }
 ],
 "metadata": {
  "kernelspec": {
   "display_name": "Python 3",
   "language": "python",
   "name": "python3"
  },
  "language_info": {
   "codemirror_mode": {
    "name": "ipython",
    "version": 3
   },
   "file_extension": ".py",
   "mimetype": "text/x-python",
   "name": "python",
   "nbconvert_exporter": "python",
   "pygments_lexer": "ipython3",
   "version": "3.10.7"
  },
  "orig_nbformat": 4
 },
 "nbformat": 4,
 "nbformat_minor": 2
}
