{
 "cells": [
  {
   "cell_type": "markdown",
   "metadata": {},
   "source": [
    "Pythonda Iteratorlar ve Generatorlar"
   ]
  },
  {
   "cell_type": "markdown",
   "metadata": {},
   "source": [
    "Iterator : Pythona iterasyon özelliği kazandıran bir nesnedir. Verileri döndüren nesne her seferinde bir öğe döndürür. Iteratorlar pyhtonda döngüler, liste, tüple ve generators gibi noktalarda karşımıza çıkar. iter( ) fonksiyonu ile olşturulan iteratörler ve next( ) fonksiyonu ile bir sonraki ögeye geçmek için kullanılır."
   ]
  },
  {
   "cell_type": "code",
   "execution_count": 4,
   "metadata": {},
   "outputs": [
    {
     "name": "stdout",
     "output_type": "stream",
     "text": [
      "1\n",
      "2\n"
     ]
    }
   ],
   "source": [
    "liste=[1,2,3,4,5]\n",
    "iteratör=iter(liste)\n",
    "print(next(iteratör))\n",
    "print(next(iteratör))"
   ]
  },
  {
   "cell_type": "markdown",
   "metadata": {},
   "source": [
    "- For döngüsü ile yapılan işlemlerde aslında arka planda iteratörler şekildeki gibi çalışır."
   ]
  },
  {
   "cell_type": "code",
   "execution_count": 6,
   "metadata": {},
   "outputs": [
    {
     "name": "stdout",
     "output_type": "stream",
     "text": [
      "1\n",
      "2\n",
      "3\n"
     ]
    }
   ],
   "source": [
    "liste=[1,2,3]\n",
    "iteratör=iter(liste)\n",
    "while True:\n",
    "    try:\n",
    "        print(next(iteratör))\n",
    "    except StopIteration:\n",
    "        break"
   ]
  },
  {
   "cell_type": "markdown",
   "metadata": {},
   "source": [
    "Generator : Fonksiyona sanki bir iterator gibi davranıp, fonksiyon içerisinde akışı durdurup ilerletebildiğiniz bir mekanizmaya dönüştürür. Pythonda iterable objeler oluşturmak için kullanılan objelerdir ve bellekte herhangi bir yer kaplamazlar.\n",
    "- Generatorlerin değer üretmesi için yield anahtar kelimesini kullanacağız."
   ]
  },
  {
   "cell_type": "code",
   "execution_count": 1,
   "metadata": {},
   "outputs": [
    {
     "name": "stdout",
     "output_type": "stream",
     "text": [
      "[1, 4, 9, 16, 25]\n"
     ]
    }
   ],
   "source": [
    "def karelerial():\n",
    "    sonuç = []\n",
    "    for i in range(1,6):\n",
    "        sonuç.append(i**2)\n",
    "    return sonuç\n",
    "print(karelerial())"
   ]
  },
  {
   "cell_type": "code",
   "execution_count": 7,
   "metadata": {},
   "outputs": [
    {
     "name": "stdout",
     "output_type": "stream",
     "text": [
      "1\n",
      "4\n"
     ]
    }
   ],
   "source": [
    "def karelerial():\n",
    "    for i in range(1,6):\n",
    "        yield i**2 \n",
    "generator =  karelerial()\n",
    "iteratör = iter(generator)\n",
    "print(next(iteratör))\n",
    "print(next(iteratör))"
   ]
  },
  {
   "cell_type": "code",
   "execution_count": 13,
   "metadata": {},
   "outputs": [
    {
     "name": "stdout",
     "output_type": "stream",
     "text": [
      "2\n",
      "4\n",
      "6\n"
     ]
    }
   ],
   "source": [
    "generator=(i*2 for i in range(1,5))\n",
    "iteratör=iter(generator)\n",
    "print(next(iteratör))\n",
    "print(next(iteratör))\n",
    "print(next(iteratör))"
   ]
  },
  {
   "cell_type": "code",
   "execution_count": 19,
   "metadata": {},
   "outputs": [
    {
     "name": "stdout",
     "output_type": "stream",
     "text": [
      "1x1=1\n",
      "2x1=2\n",
      "3x1=3\n",
      "4x1=4\n",
      "5x1=5\n",
      "6x1=6\n",
      "7x1=7\n",
      "8x1=8\n",
      "9x1=9\n",
      "10x1=10\n"
     ]
    }
   ],
   "source": [
    "def çarpım():\n",
    "    for i in range(1,11):\n",
    "        for j in range(1,2):\n",
    "            yield \"{}x{}={}\".format(i,j,i*j)\n",
    "\n",
    "for i in çarpım():\n",
    "    print(i)"
   ]
  },
  {
   "cell_type": "code",
   "execution_count": 25,
   "metadata": {},
   "outputs": [
    {
     "name": "stdout",
     "output_type": "stream",
     "text": [
      "1\n",
      "3\n",
      "9\n"
     ]
    }
   ],
   "source": [
    "class Kuvvet3():\n",
    "    def __init__(self,max = 0):\n",
    "        self.max = max\n",
    "        self.kuvvet = 0\n",
    "\n",
    "    def __iter__(self):\n",
    "        return self\n",
    "    \n",
    "    def __next__(self):\n",
    "        if (self.kuvvet <= self.max):\n",
    "            sonuc = 3 ** self.kuvvet\n",
    "            self.kuvvet += 1\n",
    "            return sonuc\n",
    "        else:\n",
    "            self.kuvvet = 0\n",
    "            raise StopIteration\n",
    "\n",
    "kuvvet = Kuvvet3(6)\n",
    "\n",
    "print(next(kuvvet))\n",
    "print(next(kuvvet))\n",
    "print(next(kuvvet))"
   ]
  },
  {
   "cell_type": "code",
   "execution_count": 5,
   "metadata": {},
   "outputs": [
    {
     "name": "stdout",
     "output_type": "stream",
     "text": [
      "<generator object <genexpr> at 0x000002B70CCE94D0>\n",
      "1\n",
      "8\n",
      "27\n"
     ]
    }
   ],
   "source": [
    "generator=(i**3 for i in range(1,5))\n",
    "print(generator)\n",
    "print(next(generator))\n",
    "print(next(generator))\n",
    "print(next(generator))"
   ]
  }
 ],
 "metadata": {
  "kernelspec": {
   "display_name": "Python 3",
   "language": "python",
   "name": "python3"
  },
  "language_info": {
   "codemirror_mode": {
    "name": "ipython",
    "version": 3
   },
   "file_extension": ".py",
   "mimetype": "text/x-python",
   "name": "python",
   "nbconvert_exporter": "python",
   "pygments_lexer": "ipython3",
   "version": "3.10.7"
  },
  "orig_nbformat": 4
 },
 "nbformat": 4,
 "nbformat_minor": 2
}
