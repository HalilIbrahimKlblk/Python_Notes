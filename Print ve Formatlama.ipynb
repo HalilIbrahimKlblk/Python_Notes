{
 "cells": [
  {
   "cell_type": "markdown",
   "metadata": {},
   "source": [
    "Print fonksiyonu özellikleri"
   ]
  },
  {
   "cell_type": "code",
   "execution_count": 5,
   "metadata": {},
   "outputs": [
    {
     "name": "stdout",
     "output_type": "stream",
     "text": [
      "ankaraistanbul\n",
      "ankara istanbul\n"
     ]
    }
   ],
   "source": [
    "print(\"ankara\"\"istanbul\")\n",
    "print(\"ankara\",\"istanbul\")"
   ]
  },
  {
   "cell_type": "code",
   "execution_count": 4,
   "metadata": {},
   "outputs": [
    {
     "name": "stdout",
     "output_type": "stream",
     "text": [
      "İstabul'a gidiyorum\n",
      "İstabul'a gidiyorum\n"
     ]
    }
   ],
   "source": [
    "print(\"İstabul'a gidiyorum\") \n",
    "print('İstabul\\'a gidiyorum') "
   ]
  },
  {
   "cell_type": "markdown",
   "metadata": {},
   "source": [
    "- sep( ) Parametresi"
   ]
  },
  {
   "cell_type": "code",
   "execution_count": 6,
   "metadata": {},
   "outputs": [
    {
     "name": "stdout",
     "output_type": "stream",
     "text": [
      "giresun o ordu\n"
     ]
    }
   ],
   "source": [
    "print(\"giresun\", \"ordu\", sep=\" o \")"
   ]
  },
  {
   "cell_type": "markdown",
   "metadata": {},
   "source": [
    "- ( * ) Komutu"
   ]
  },
  {
   "cell_type": "code",
   "execution_count": 7,
   "metadata": {},
   "outputs": [
    {
     "name": "stdout",
     "output_type": "stream",
     "text": [
      "a n k a r a\n"
     ]
    }
   ],
   "source": [
    "print(*\"ankara\")"
   ]
  },
  {
   "cell_type": "code",
   "execution_count": 13,
   "metadata": {},
   "outputs": [
    {
     "name": "stdout",
     "output_type": "stream",
     "text": [
      "25/08/2003\n",
      "istanbul\n",
      "izmir\n"
     ]
    }
   ],
   "source": [
    "print(\"25\",\"08\",\"2003\",sep=\"/\")\n",
    "print(\"istanbul\",\"izmir\", sep=\"\\n\")"
   ]
  },
  {
   "cell_type": "code",
   "execution_count": null,
   "metadata": {},
   "outputs": [],
   "source": [
    "print(\"ordu\",\"bursa\",\"balıkesir\",\"yozgat\",\"amasya\", sep=\"\\n\")"
   ]
  },
  {
   "cell_type": "markdown",
   "metadata": {},
   "source": [
    "- Yol olarak kopyalananlar \\n \\t gibi ifadelerle karışmaması için \\ \\ şeklinde yazılır."
   ]
  },
  {
   "cell_type": "code",
   "execution_count": null,
   "metadata": {},
   "outputs": [],
   "source": [
    "print(\"C:\\\\Users\\\\HALİL İBRAHİM\")"
   ]
  },
  {
   "cell_type": "markdown",
   "metadata": {},
   "source": [
    "Formatlama"
   ]
  },
  {
   "cell_type": "code",
   "execution_count": 3,
   "metadata": {},
   "outputs": [
    {
     "name": "stdout",
     "output_type": "stream",
     "text": [
      "4 ve 5 çarpımı 20'dir.\n"
     ]
    }
   ],
   "source": [
    "print(\"{} ve {} çarpımı {}'dir.\".format(4,5,20))"
   ]
  },
  {
   "cell_type": "code",
   "execution_count": 1,
   "metadata": {},
   "outputs": [
    {
     "name": "stdout",
     "output_type": "stream",
     "text": [
      "Benim adım Halil ibrahim soyadım Kalabalık.\n"
     ]
    }
   ],
   "source": [
    "print(\"Benim adım {} {} soyadım {}.\" .format(\"Halil\", \"ibrahim\", \"Kalabalık\"))"
   ]
  },
  {
   "cell_type": "code",
   "execution_count": 2,
   "metadata": {},
   "outputs": [
    {
     "name": "stdout",
     "output_type": "stream",
     "text": [
      "Benim adım ibrahim Kalabalık soyadım Halil.\n"
     ]
    }
   ],
   "source": [
    "print(\"Benim adım {1} {2} soyadım {0}.\" .format(\"Halil\", \"ibrahim\", \"Kalabalık\"))"
   ]
  },
  {
   "cell_type": "code",
   "execution_count": 4,
   "metadata": {},
   "outputs": [
    {
     "name": "stdout",
     "output_type": "stream",
     "text": [
      "3.15 5.324 7.3243\n"
     ]
    }
   ],
   "source": [
    "print(\"{:.2f} {:.3f} {:.4f}\" .format(3.1463,5.324,7.324324))"
   ]
  }
 ],
 "metadata": {
  "kernelspec": {
   "display_name": "Python 3",
   "language": "python",
   "name": "python3"
  },
  "language_info": {
   "codemirror_mode": {
    "name": "ipython",
    "version": 3
   },
   "file_extension": ".py",
   "mimetype": "text/x-python",
   "name": "python",
   "nbconvert_exporter": "python",
   "pygments_lexer": "ipython3",
   "version": "3.10.7"
  },
  "orig_nbformat": 4
 },
 "nbformat": 4,
 "nbformat_minor": 2
}
