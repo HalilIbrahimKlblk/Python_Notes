{
 "cells": [
  {
   "cell_type": "markdown",
   "metadata": {},
   "source": [
    "Değişken Tanımlama\n",
    "- Değişken isimleri sayı ile başlamaz.\n",
    "- ! . , < > + - ( ) \" : ; gibi semboller değişken içinde yer alamaz. Sadece \"_\" yer alabilir.\n",
    "- Değişkenler arasındda boşluk olamaz.\n",
    "- Pythonda tanımlı anahtar kelimeler değişken ismi olamaz: while, for, not vs.\n",
    "- Büyük küçük harf duyarlılığı vardır.\n",
    "- Türkçe karakter \"ç, i, ö, ş\" kullanmamaya özen gösterilmelidir.\n",
    "- Aynı değişken iki kere tanımlanırsa sondaki hedef alınarak işlem yapılır."
   ]
  },
  {
   "cell_type": "code",
   "execution_count": 1,
   "metadata": {},
   "outputs": [
    {
     "name": "stdout",
     "output_type": "stream",
     "text": [
      "20\n"
     ]
    }
   ],
   "source": [
    "a=5\n",
    "b=4\n",
    "print(a*b)"
   ]
  },
  {
   "cell_type": "code",
   "execution_count": 7,
   "metadata": {},
   "outputs": [
    {
     "name": "stdout",
     "output_type": "stream",
     "text": [
      "5 ve 6 'nın çarpımı 30 'dur.\n"
     ]
    }
   ],
   "source": [
    "x=5 \n",
    "y=6 \n",
    "print(x,\"ve\",y,\"'nın çarpımı\",x*y,\"'dur.\")"
   ]
  },
  {
   "cell_type": "code",
   "execution_count": 12,
   "metadata": {},
   "outputs": [
    {
     "name": "stdout",
     "output_type": "stream",
     "text": [
      "a sayısı= 2   b sayısı= 4   c sayısı= 6\n",
      "a sayısı= 4   b sayısı= 2   c sayısı= 6\n"
     ]
    }
   ],
   "source": [
    "a,b,c=2,4,6\n",
    "print(\"a sayısı=\",a,\"  b sayısı=\",b,\"  c sayısı=\",c)\n",
    "#Değişken değiştirme\n",
    "a,b=b,a\n",
    "print(\"a sayısı=\",a,\"  b sayısı=\",b,\"  c sayısı=\",c)"
   ]
  },
  {
   "cell_type": "code",
   "execution_count": 14,
   "metadata": {},
   "outputs": [
    {
     "name": "stdout",
     "output_type": "stream",
     "text": [
      "h_kalabalık\n"
     ]
    }
   ],
   "source": [
    "isim = \"halil ibrahim\"\n",
    "soyisim= \"kalabalık\"\n",
    "kullanici_adi= isim[0] + \"_\" + soyisim\n",
    "print(kullanici_adi)"
   ]
  },
  {
   "cell_type": "code",
   "execution_count": 15,
   "metadata": {},
   "outputs": [
    {
     "name": "stdout",
     "output_type": "stream",
     "text": [
      "48\n"
     ]
    }
   ],
   "source": [
    "pi_sayısı=3\n",
    "yarıçap=4\n",
    "alan= pi_sayısı*yarıçap**2\n",
    "print(alan)"
   ]
  },
  {
   "cell_type": "code",
   "execution_count": 17,
   "metadata": {},
   "outputs": [
    {
     "name": "stdout",
     "output_type": "stream",
     "text": [
      "6\n",
      "6\n"
     ]
    }
   ],
   "source": [
    "i=5\n",
    "i=i+1\n",
    "print(i)\n",
    "#Sayı değerini artırma\n",
    "i=5\n",
    "i+=1\n",
    "print(i)"
   ]
  },
  {
   "cell_type": "markdown",
   "metadata": {},
   "source": [
    "Yorum Satırı\n",
    "- \"#\" işareti ile yorum satırı oluşturulabilir.\n",
    "- ' ', \" \" işaretleri ile yorum satırı oluşturulabilir.\n",
    "- \"\"\" \"\"\" işaretleri ile çoklu yorum satırı oluşturulabilir."
   ]
  },
  {
   "cell_type": "code",
   "execution_count": 20,
   "metadata": {},
   "outputs": [
    {
     "name": "stdout",
     "output_type": "stream",
     "text": [
      "Ahmet'in uçağı 12 de kalkacak\n",
      "Ahmet'in uçağı 12 de kalkacak\n"
     ]
    }
   ],
   "source": [
    "print(\"Ahmet'in uçağı 12 de kalkacak\")\n",
    "print('Ahmet\\'in uçağı 12 de kalkacak')"
   ]
  }
 ],
 "metadata": {
  "kernelspec": {
   "display_name": "Python 3",
   "language": "python",
   "name": "python3"
  },
  "language_info": {
   "codemirror_mode": {
    "name": "ipython",
    "version": 3
   },
   "file_extension": ".py",
   "mimetype": "text/x-python",
   "name": "python",
   "nbconvert_exporter": "python",
   "pygments_lexer": "ipython3",
   "version": "3.10.7"
  },
  "orig_nbformat": 4
 },
 "nbformat": 4,
 "nbformat_minor": 2
}
