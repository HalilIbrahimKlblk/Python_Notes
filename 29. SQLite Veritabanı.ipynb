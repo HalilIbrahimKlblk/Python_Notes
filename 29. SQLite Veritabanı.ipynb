{
 "cells": [
  {
   "cell_type": "markdown",
   "metadata": {},
   "source": [
    "Sqlite VeriTabanı ve Tablolar\n",
    "- Sqlite veritabanı diğer veritabanları gibi sunucu kurmamızı gerektirmez, yani sunucusuz bir veritabanıdır. Bu anlamda herhangi bir programımızın yanına direk olarak kurulabilir. \n",
    "- Veritabanı uygulamalarımızda , websitelerimizde veya en genel anlamda programlarımızda gerekli olan bilgileri depoladığımız bir yapıdır. Örneğin , Facebook'un kullanıcıları, gönderileri tuttuğu veritabanları gibi. Günümüzde kullanılan bazı veritabanı türleri şunlardır;\n",
    "\n",
    "  - Relational Database (İlişkisel Veritabanları) : Tablolardan oluşur. Mysql, Sqlite vs.\n",
    "  - DocumentBased Database (Doküman Veritabanları) : Dokümanlardan oluşur. MongoDb, Azure DocumentDb "
   ]
  },
  {
   "cell_type": "markdown",
   "metadata": {},
   "source": [
    "- Aşağıda .db uzantısı ile 'kütüphane' adında database yani veri tabanı oluşturulmuştur."
   ]
  },
  {
   "cell_type": "code",
   "execution_count": 1,
   "metadata": {},
   "outputs": [],
   "source": [
    "import sqlite3\n",
    "con=sqlite3.connect(\"kütüphane.db\")\n",
    "cursor=con.cursor() # Veritabanı üzerinde işlem yapmak için kullanacağımız imleç olacak.\n",
    "con.close()"
   ]
  },
  {
   "cell_type": "markdown",
   "metadata": {},
   "source": [
    "- Tablo oluşturmak."
   ]
  },
  {
   "cell_type": "code",
   "execution_count": null,
   "metadata": {},
   "outputs": [],
   "source": [
    "import sqlite3 \n",
    "con = sqlite3.connect(\"kütüphane.db\") \n",
    "cursor = con.cursor() \n",
    "def tablo_oluştur():\n",
    "    cursor.execute(\"CREATE TABLE IF NOT EXISTS kitaplık (İsim TEXT, Yazar TEXT, Yayınevi TEXT, Sayfa_Sayısı INT)\")\n",
    "    con.commit() \n",
    "tablo_oluştur()\n",
    "con.close()"
   ]
  },
  {
   "cell_type": "markdown",
   "metadata": {},
   "source": [
    "- Tabloya veri eklemek."
   ]
  },
  {
   "cell_type": "code",
   "execution_count": 5,
   "metadata": {},
   "outputs": [],
   "source": [
    "import sqlite3 \n",
    "con = sqlite3.connect(\"kütüphane.db\") \n",
    "cursor = con.cursor() \n",
    "def tablo_oluştur():\n",
    "    cursor.execute(\"CREATE TABLE IF NOT EXISTS kitaplık (İsim TEXT, Yazar TEXT, Yayınevi TEXT, Sayfa_Sayısı INT)\")\n",
    "    con.commit() \n",
    "def veri_ekle():\n",
    "    cursor.execute(\"Insert into kitaplık Values ('Nutuk','Mustafa Kemal Atatürk','Can Yayınları',543)\")\n",
    "    con.commit()\n",
    "def veri_ekle2(isim,yazar,yayın,sayfa):\n",
    "    cursor.execute(\"Insert into kitaplık Values(?,?,?,?)\",(isim,yazar,yayın,sayfa))\n",
    "    con.commit()\n",
    "\n",
    "tablo_oluştur()\n",
    "veri_ekle()\n",
    "\n",
    "isim=input(\"Kitabın ismini giriniz:\")\n",
    "yazar=input(\"Kitabın yazar ismini giriniz:\")\n",
    "yayın=input(\"Kitabın yayın evini giriniz:\")\n",
    "sayfa=int(input(\"Kitabın sayfa sayısını giriniz:\"))\n",
    "\n",
    "veri_ekle2(isim,yazar,yayın,sayfa)\n",
    "con.close()"
   ]
  },
  {
   "cell_type": "markdown",
   "metadata": {},
   "source": [
    "- Tablodan veri çekme"
   ]
  },
  {
   "cell_type": "code",
   "execution_count": 2,
   "metadata": {},
   "outputs": [
    {
     "name": "stdout",
     "output_type": "stream",
     "text": [
      "Kitaplık tablosunun bilgileri\n",
      "-----------------------------------------------------------------\n",
      "('Nutuk', 'Mustafa Kemal Atatürk', 'Can Yayınları', 543)\n",
      "('Sinekli Bakkal', 'Halide Edip Adıvar', 'İş Bankası Yayınları', 483)\n",
      "\n",
      "Kitaplık tablosunun bilgileri\n",
      "-----------------------------------------------------------------\n",
      "('Nutuk', 'Mustafa Kemal Atatürk')\n",
      "('Sinekli Bakkal', 'Halide Edip Adıvar')\n",
      "\n",
      "Kitaplık tablosunun bilgileri\n",
      "-----------------------------------------------------------------\n",
      "('Nutuk', 'Mustafa Kemal Atatürk', 'Can Yayınları', 543)\n"
     ]
    }
   ],
   "source": [
    "import sqlite3 \n",
    "con = sqlite3.connect(\"kütüphane.db\") \n",
    "cursor = con.cursor() \n",
    "def tablo_oluştur():\n",
    "    cursor.execute(\"CREATE TABLE IF NOT EXISTS kitaplık (İsim TEXT, Yazar TEXT, Yayınevi TEXT, Sayfa_Sayısı INT)\")\n",
    "    con.commit() \n",
    "def veri_ekle():\n",
    "    cursor.execute(\"Insert into kitaplık Values ('Nutuk','Mustafa Kemal Atatürk','Can Yayınları',543)\")\n",
    "    con.commit()\n",
    "def veri_ekle2():\n",
    "    cursor.execute(\"Insert into kitaplık Values ('Sinekli Bakkal','Halide Edip Adıvar','İş Bankası Yayınları',483)\")\n",
    "    con.commit()\n",
    "\n",
    "tablo_oluştur()\n",
    "veri_ekle()\n",
    "veri_ekle2()\n",
    "\n",
    "def veri_çek():\n",
    "    cursor.execute(\"Select * From kitaplık\") # Select * Tüm verileri çekmek için kullanılır.\n",
    "    liste=cursor.fetchall()\n",
    "    print(\"Kitaplık tablosunun bilgileri\\n{}\".format(\"-\"*65))\n",
    "    for i in liste:\n",
    "        print(i)\n",
    "def veri_çek2():\n",
    "    cursor.execute(\"Select İsim,Yazar From kitaplık\") # Sadece istediğimiz verileri çekmek için kullanılır.\n",
    "    liste=cursor.fetchall()\n",
    "    print(\"\\nKitaplık tablosunun bilgileri\\n{}\".format(\"-\"*65))\n",
    "    for i in liste:\n",
    "        print(i)\n",
    "def veri_çek3(yayınevi):\n",
    "    cursor.execute(\"Select * From kitaplık where Yayınevi=?\",(yayınevi,)) # Sadece istediğimiz verileri çekmek için kullanılır.\n",
    "    liste=cursor.fetchall()\n",
    "    print(\"\\nKitaplık tablosunun bilgileri\\n{}\".format(\"-\"*65))\n",
    "    for i in liste:\n",
    "        print(i)\n",
    "\n",
    "veri_çek()\n",
    "veri_çek2()\n",
    "veri_çek3(\"Can Yayınları\")\n",
    "con.close()"
   ]
  },
  {
   "cell_type": "markdown",
   "metadata": {},
   "source": [
    "- Tablodan veri silme - güncelleme"
   ]
  },
  {
   "cell_type": "code",
   "execution_count": 17,
   "metadata": {},
   "outputs": [
    {
     "name": "stdout",
     "output_type": "stream",
     "text": [
      "Kitaplık tablosunun bilgileri\n",
      "-----------------------------------------------------------------\n",
      "('Nutuk', 'Mustafa Kemal Atatürk', 'Can Yayınları', 543)\n",
      "('Sinekli Bakkal', 'Halide Edip Adıvar', 'İş Bankası Yayınları', 483)\n",
      "Kitaplık tablosunun bilgileri\n",
      "-----------------------------------------------------------------\n",
      "('Nutuk', 'Mustafa Kemal Atatürk', 'Everest', 543)\n",
      "('Sinekli Bakkal', 'Halide Edip Adıvar', 'İş Bankası Yayınları', 483)\n"
     ]
    }
   ],
   "source": [
    "import sqlite3 \n",
    "con = sqlite3.connect(\"kütüphane.db\") \n",
    "cursor = con.cursor() \n",
    "def tablo_oluştur():\n",
    "    cursor.execute(\"CREATE TABLE IF NOT EXISTS kitaplık (İsim TEXT, Yazar TEXT, Yayınevi TEXT, Sayfa_Sayısı INT)\")\n",
    "    con.commit() \n",
    "tablo_oluştur()\n",
    "def veri_ekle():\n",
    "    cursor.execute(\"Insert into kitaplık Values ('Nutuk','Mustafa Kemal Atatürk','Can Yayınları',543)\")\n",
    "    con.commit()\n",
    "veri_ekle()\n",
    "def veri_ekle2():\n",
    "    cursor.execute(\"Insert into kitaplık Values ('Sinekli Bakkal','Halide Edip Adıvar','İş Bankası Yayınları',483)\")\n",
    "    con.commit()\n",
    "veri_ekle2()\n",
    "def veri_güncelle(yeni_yayınevi,eski_yayınevi):\n",
    "    cursor.execute(\"UPDATE kitaplık SET Yayınevi = ? WHERE Yayınevi =  ?\",(yeni_yayınevi,eski_yayınevi))\n",
    "    con.commit()\n",
    "def veri_çek():\n",
    "    cursor.execute(\"Select * From kitaplık\") # Select * Tüm verileri çekmek için kullanılır.\n",
    "    liste=cursor.fetchall()\n",
    "    print(\"Kitaplık tablosunun bilgileri\\n{}\".format(\"-\"*65))\n",
    "    for i in liste:\n",
    "        print(i)\n",
    "veri_çek()        \n",
    "veri_güncelle(\"Everest\",\"Can Yayınları\")\n",
    "veri_çek()\n",
    "con.close()"
   ]
  },
  {
   "cell_type": "markdown",
   "metadata": {},
   "source": [
    "- Tablodan veri silme"
   ]
  },
  {
   "cell_type": "code",
   "execution_count": 19,
   "metadata": {},
   "outputs": [
    {
     "name": "stdout",
     "output_type": "stream",
     "text": [
      "Kitaplık tablosunun bilgileri\n",
      "-----------------------------------------------------------------\n",
      "('Nutuk', 'Mustafa Kemal Atatürk', 'Can Yayınları', 543)\n",
      "('Sinekli Bakkal', 'Halide Edip Adıvar', 'İş Bankası Yayınları', 483)\n",
      "Kitaplık tablosunun bilgileri\n",
      "-----------------------------------------------------------------\n",
      "('Nutuk', 'Mustafa Kemal Atatürk', 'Can Yayınları', 543)\n"
     ]
    }
   ],
   "source": [
    "import sqlite3 \n",
    "con = sqlite3.connect(\"kütüphane.db\") \n",
    "cursor = con.cursor() \n",
    "def tablo_oluştur():\n",
    "    cursor.execute(\"CREATE TABLE IF NOT EXISTS kitaplık (İsim TEXT, Yazar TEXT, Yayınevi TEXT, Sayfa_Sayısı INT)\")\n",
    "    con.commit() \n",
    "tablo_oluştur()\n",
    "def veri_ekle():\n",
    "    cursor.execute(\"Insert into kitaplık Values ('Nutuk','Mustafa Kemal Atatürk','Can Yayınları',543)\")\n",
    "    con.commit()\n",
    "veri_ekle()\n",
    "def veri_ekle2():\n",
    "    cursor.execute(\"Insert into kitaplık Values ('Sinekli Bakkal','Halide Edip Adıvar','İş Bankası Yayınları',483)\")\n",
    "    con.commit()\n",
    "veri_ekle2()\n",
    "def veri_sil(yazar):\n",
    "    cursor.execute(\"Delete From kitaplık where Yazar=?\",(yazar,))\n",
    "    con.commit()\n",
    "def veri_çek():\n",
    "    cursor.execute(\"Select * From kitaplık\") # Select * Tüm verileri çekmek için kullanılır.\n",
    "    liste=cursor.fetchall()\n",
    "    print(\"Kitaplık tablosunun bilgileri\\n{}\".format(\"-\"*65))\n",
    "    for i in liste:\n",
    "        print(i)\n",
    "veri_çek() \n",
    "veri_sil('Halide Edip Adıvar')\n",
    "veri_çek() \n",
    "con.close()"
   ]
  }
 ],
 "metadata": {
  "kernelspec": {
   "display_name": "Python 3",
   "language": "python",
   "name": "python3"
  },
  "language_info": {
   "codemirror_mode": {
    "name": "ipython",
    "version": 3
   },
   "file_extension": ".py",
   "mimetype": "text/x-python",
   "name": "python",
   "nbconvert_exporter": "python",
   "pygments_lexer": "ipython3",
   "version": "3.10.7"
  },
  "orig_nbformat": 4
 },
 "nbformat": 4,
 "nbformat_minor": 2
}
