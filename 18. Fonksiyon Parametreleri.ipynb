{
 "cells": [
  {
   "cell_type": "markdown",
   "metadata": {},
   "source": [
    "Fonksiyon Parametreleri\n",
    "- Sıralı parametrelerde verilen argümanların sırası önemlidir yoksa istediğimiz çıktıyı alamayabiliriz."
   ]
  },
  {
   "cell_type": "code",
   "execution_count": null,
   "metadata": {},
   "outputs": [],
   "source": [
    "def fonk(isminiz,soyadınız):\n",
    "    print(f\"Sizin adınız {isminiz} soyadınız {soyadınız}.\")\n",
    "isminiz= input(\"İsminizi giriniz:\")\n",
    "soyadınız= input(\"Soyadınızı giriniz:\")\n",
    "fonk(isminiz,soyadınız)"
   ]
  },
  {
   "cell_type": "markdown",
   "metadata": {},
   "source": [
    "- İsimli parametreler şeklideki gibi tanımlanır ve argüman çok olduğunda kullanmak oldukça faydalıdır."
   ]
  },
  {
   "cell_type": "code",
   "execution_count": 2,
   "metadata": {},
   "outputs": [
    {
     "name": "stdout",
     "output_type": "stream",
     "text": [
      "İsminiz Halil İbrahim soyisminiz Kalabalık\n"
     ]
    }
   ],
   "source": [
    "def fonksiyon(*,isim,soyisim):\n",
    "    print(f\"İsminiz {isim} soyisminiz {soyisim}\")\n",
    "fonksiyon(isim=\"Halil İbrahim\", soyisim=\"Kalabalık\")"
   ]
  },
  {
   "cell_type": "code",
   "execution_count": 5,
   "metadata": {},
   "outputs": [
    {
     "name": "stdout",
     "output_type": "stream",
     "text": [
      "Selam, Halil İbrahim\n",
      "Selam, Ali\n"
     ]
    }
   ],
   "source": [
    "def slm(isim=\"Halil İbrahim\"):\n",
    "    print(f\"Selam, {isim}\")\n",
    "slm()\n",
    "slm(\"Ali\")"
   ]
  },
  {
   "cell_type": "markdown",
   "metadata": {},
   "source": [
    "- Zorunlu isimli parametreler fonksiyon tanımlanırken kullanılan \"*\" ifadesinden sonraki argümanlar mecburen isimli olarak tanımlanmalıdır."
   ]
  },
  {
   "cell_type": "code",
   "execution_count": 18,
   "metadata": {},
   "outputs": [
    {
     "name": "stdout",
     "output_type": "stream",
     "text": [
      "İsminiz Halil İbrahim soyisminiz Kalabalık yaşınız 18\n"
     ]
    }
   ],
   "source": [
    "def fonksi(isim,soyisim,*,yaş):\n",
    "    print(f\"İsminiz {isim} soyisminiz {soyisim} yaşınız {yaş}\")\n",
    "fonksi(\"Halil İbrahim\",\"Kalabalık\", yaş=\"18\")"
   ]
  },
  {
   "cell_type": "code",
   "execution_count": 11,
   "metadata": {},
   "outputs": [
    {
     "name": "stdout",
     "output_type": "stream",
     "text": [
      "Ad:--- Soyad:--- Num:---\n",
      "Ad:Halil İbrahim Soyad:Kalabalık Num:530\n",
      "Ad:Halil İbrahim Soyad:Kalabalık Num:---\n",
      "Ad:--- Soyad:--- Num:530\n"
     ]
    }
   ],
   "source": [
    "def bilgiler(ad=\"---\",soyad=\"---\",num=\"---\"):\n",
    "    print(f\"Ad:{ad} Soyad:{soyad} Num:{num}\")\n",
    "bilgiler()\n",
    "bilgiler(\"Halil İbrahim\",\"Kalabalık\",\"530\")\n",
    "bilgiler(\"Halil İbrahim\",\"Kalabalık\")\n",
    "bilgiler(num=530)"
   ]
  },
  {
   "cell_type": "markdown",
   "metadata": {},
   "source": [
    "- Sınırsız parametreli fonksiyonlar. def fonksiyon_adı(* argüman) şeklinde oluşturulur.\n",
    "- (*) kullanılan fonksiyonlara sınırsız parametre ekleyebiliriz for döngüsünü kullanarak çıktı alabiliriz."
   ]
  },
  {
   "cell_type": "code",
   "execution_count": 14,
   "metadata": {},
   "outputs": [
    {
     "name": "stdout",
     "output_type": "stream",
     "text": [
      "21\n"
     ]
    }
   ],
   "source": [
    "def tot(*x):\n",
    "    toplam=0\n",
    "    for i in x:\n",
    "        toplam+=i\n",
    "    print(toplam)\n",
    "tot(1,2,3,4,5,6)"
   ]
  },
  {
   "cell_type": "markdown",
   "metadata": {},
   "source": [
    "- (**) kullanılan argümanlar sözlük gibi key=\"values\" şeklinde tanımlanmalıdır."
   ]
  },
  {
   "cell_type": "code",
   "execution_count": 36,
   "metadata": {},
   "outputs": [
    {
     "name": "stdout",
     "output_type": "stream",
     "text": [
      "Halil İbrahim\n",
      "{'kavun': 'melon', 'karpuz': 'watermelon'}\n"
     ]
    }
   ],
   "source": [
    "def sözlük(a,**b):\n",
    "    print(a)\n",
    "    print(b)\n",
    "sözlük(\"Halil İbrahim\",kavun=\"melon\",karpuz=\"watermelon\")"
   ]
  },
  {
   "cell_type": "code",
   "execution_count": 32,
   "metadata": {},
   "outputs": [
    {
     "name": "stdout",
     "output_type": "stream",
     "text": [
      "10\n",
      "20\n",
      "30\n",
      "(40, 50, 60)\n",
      "{'key1': 'value1', 'key2': 'value2'}\n"
     ]
    }
   ],
   "source": [
    "def func(a,b,c,*tuples,**dicts):\n",
    "    print(a)\n",
    "    print(b)\n",
    "    print(c)\n",
    "    print(tuples)\n",
    "    print(dicts)\n",
    "func(10,20,30,40,50,60,key1=\"value1\",key2=\"value2\")"
   ]
  }
 ],
 "metadata": {
  "kernelspec": {
   "display_name": "Python 3",
   "language": "python",
   "name": "python3"
  },
  "language_info": {
   "codemirror_mode": {
    "name": "ipython",
    "version": 3
   },
   "file_extension": ".py",
   "mimetype": "text/x-python",
   "name": "python",
   "nbconvert_exporter": "python",
   "pygments_lexer": "ipython3",
   "version": "3.10.7"
  },
  "orig_nbformat": 4
 },
 "nbformat": 4,
 "nbformat_minor": 2
}
