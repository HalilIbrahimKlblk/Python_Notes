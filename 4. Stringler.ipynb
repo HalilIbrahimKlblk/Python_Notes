{
 "cells": [
  {
   "cell_type": "markdown",
   "metadata": {},
   "source": [
    "Karakter Dizileri (Stringler)\n",
    "- Tek tırnak ile (' ')\n",
    "- Çift tırnak ile (\" \")\n",
    "- Üç tırnak ile (\"\"\" \"\"\")"
   ]
  },
  {
   "cell_type": "code",
   "execution_count": null,
   "metadata": {},
   "outputs": [],
   "source": [
    "'Halil İbrahim Kalabalık'"
   ]
  },
  {
   "cell_type": "code",
   "execution_count": null,
   "metadata": {},
   "outputs": [],
   "source": [
    "\"Halil İbrahim Kalabalık\""
   ]
  },
  {
   "cell_type": "code",
   "execution_count": null,
   "metadata": {},
   "outputs": [],
   "source": [
    "\"\"\"Halil İbrahim Kalabalık\"\"\""
   ]
  },
  {
   "cell_type": "markdown",
   "metadata": {},
   "source": [
    "- Stringler oluşturulurken kullanılan tırkan başta ve sonda aynı olmalıdır. Farklı olamaz."
   ]
  },
  {
   "cell_type": "code",
   "execution_count": 3,
   "metadata": {},
   "outputs": [
    {
     "name": "stdout",
     "output_type": "stream",
     "text": [
      "Ahmet'in uçağı 12.00 da kalkacak\n"
     ]
    }
   ],
   "source": [
    "print(\"Ahmet'in uçağı 12.00 da kalkacak\")"
   ]
  },
  {
   "cell_type": "markdown",
   "metadata": {},
   "source": [
    "- Kesme işaretlerinde kaçış dizisi oluşturmak için \\ işareti kullanılır."
   ]
  },
  {
   "cell_type": "code",
   "execution_count": null,
   "metadata": {},
   "outputs": [],
   "source": [
    "print('Ahmet\\'in uçağı 12.00 da kalkacak')"
   ]
  },
  {
   "cell_type": "code",
   "execution_count": 4,
   "metadata": {},
   "outputs": [
    {
     "name": "stdout",
     "output_type": "stream",
     "text": [
      "Halil İbrahim Kalabalık\n"
     ]
    }
   ],
   "source": [
    "a= \"Halil İbrahim\"\n",
    "b= \"Kalabalık\"\n",
    "print(a , b)"
   ]
  },
  {
   "cell_type": "code",
   "execution_count": 18,
   "metadata": {},
   "outputs": [
    {
     "name": "stdout",
     "output_type": "stream",
     "text": [
      "Halil Halil Halil \n"
     ]
    }
   ],
   "source": [
    "a=\"Halil \"\n",
    "print(a*3)"
   ]
  },
  {
   "cell_type": "markdown",
   "metadata": {},
   "source": [
    "\\n Komutu: Yeni satıra geçmek için kullanılan komuttur."
   ]
  },
  {
   "cell_type": "code",
   "execution_count": 4,
   "metadata": {},
   "outputs": [
    {
     "name": "stdout",
     "output_type": "stream",
     "text": [
      "Halil \n",
      "İbrahim \n",
      "Kalabalık\n"
     ]
    }
   ],
   "source": [
    "a= \"Halil \\nİbrahim \\nKalabalık\"\n",
    "print(a)"
   ]
  },
  {
   "cell_type": "markdown",
   "metadata": {},
   "source": [
    "\\t Komutu: Bir tab boşluk bırakmak için kullanılan komuttur."
   ]
  },
  {
   "cell_type": "code",
   "execution_count": 16,
   "metadata": {},
   "outputs": [
    {
     "name": "stdout",
     "output_type": "stream",
     "text": [
      "Halil \tİbrahim \tKalabalık\n"
     ]
    }
   ],
   "source": [
    "a= \"Halil \\tİbrahim \\tKalabalık\"\n",
    "print(a)"
   ]
  },
  {
   "cell_type": "markdown",
   "metadata": {},
   "source": [
    "String İndeksleme ve Parçalama\n",
    "- İndeks numaraları 0'dan başlar.\n",
    "- En sonuncu karakter -1 şeklindedir.\n",
    "- String parçalarken boşluklarda bir değerden sayılır.\n",
    "- Parçalama [başlangıç : bitiş : artış miktarı] şeklinde yapılır.\n",
    "- Bitiş kısmına yazılan değer parçalara dahil edilmez.\n",
    "- Parçalama [ : : artış miktarı] başlangıç bitiş kısmı boş bırakılırsa baştan sona olarak tanımlanır.\n",
    "- String uzunluğundan 1 çıkarıldığında sondaki karaktere gene ulaşılabilir."
   ]
  },
  {
   "cell_type": "code",
   "execution_count": 7,
   "metadata": {},
   "outputs": [
    {
     "name": "stdout",
     "output_type": "stream",
     "text": [
      "H\n",
      "s\n"
     ]
    }
   ],
   "source": [
    "a=\"Halils\"\n",
    "print(a[0])\n",
    "print(a[-1])"
   ]
  },
  {
   "cell_type": "code",
   "execution_count": 9,
   "metadata": {},
   "outputs": [
    {
     "name": "stdout",
     "output_type": "stream",
     "text": [
      "345678\n"
     ]
    }
   ],
   "source": [
    "a=\"1234567890\"\n",
    "print(a[2:-2])"
   ]
  },
  {
   "cell_type": "code",
   "execution_count": 11,
   "metadata": {},
   "outputs": [
    {
     "name": "stdout",
     "output_type": "stream",
     "text": [
      "24680\n"
     ]
    }
   ],
   "source": [
    "a=\"1234567890\"\n",
    "print(a[1::2])"
   ]
  },
  {
   "cell_type": "markdown",
   "metadata": {},
   "source": [
    "- ilk, *orta, son şeklinde karakter dizinleri parçalanır."
   ]
  },
  {
   "cell_type": "code",
   "execution_count": 3,
   "metadata": {},
   "outputs": [
    {
     "name": "stdout",
     "output_type": "stream",
     "text": [
      "#\n",
      "['3', '4', '3', ',', '4', '2', '8']\n",
      "$\n"
     ]
    }
   ],
   "source": [
    "fiyat = \"#343,428$\"\n",
    "ilk,*orta,son = fiyat\n",
    "print(ilk) \n",
    "print(orta) \n",
    "print(son) "
   ]
  },
  {
   "cell_type": "markdown",
   "metadata": {},
   "source": [
    "- Ters düz etme işlemi [ : : -1] şeklindedir."
   ]
  },
  {
   "cell_type": "code",
   "execution_count": 12,
   "metadata": {},
   "outputs": [
    {
     "name": "stdout",
     "output_type": "stream",
     "text": [
      "0987654321\n"
     ]
    }
   ],
   "source": [
    "a= \"1234567890\"\n",
    "print(a[::-1])"
   ]
  },
  {
   "cell_type": "markdown",
   "metadata": {},
   "source": [
    "len( ): Stringlerin uzunluğunu bulmak için kullanılan komuttur."
   ]
  },
  {
   "cell_type": "code",
   "execution_count": 1,
   "metadata": {},
   "outputs": [
    {
     "name": "stdout",
     "output_type": "stream",
     "text": [
      "10\n",
      "20\n"
     ]
    }
   ],
   "source": [
    "a= \"0123456789\"\n",
    "print(len(a))\n",
    "b= \"1 2 3 4 5 6 7 8 9 0 \"\n",
    "print(len(b))"
   ]
  },
  {
   "cell_type": "markdown",
   "metadata": {},
   "source": [
    "- Stringlerin belirli karakterleri indeksleme ve parçalama şeklinde değiştirilemez."
   ]
  }
 ],
 "metadata": {
  "kernelspec": {
   "display_name": "Python 3",
   "language": "python",
   "name": "python3"
  },
  "language_info": {
   "codemirror_mode": {
    "name": "ipython",
    "version": 3
   },
   "file_extension": ".py",
   "mimetype": "text/x-python",
   "name": "python",
   "nbconvert_exporter": "python",
   "pygments_lexer": "ipython3",
   "version": "3.10.7"
  },
  "orig_nbformat": 4
 },
 "nbformat": 4,
 "nbformat_minor": 2
}
