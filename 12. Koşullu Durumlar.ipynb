{
 "cells": [
  {
   "cell_type": "markdown",
   "metadata": {},
   "source": [
    "Koşullu Durumlar\n",
    "- Pythonda koşula bağlılık durumunu kullanmak için girintilemelere dikkat edilmelidir.\n",
    "- if Tagı: İf kelimesi eğer anlamına gelir dolayısıyla phytonda koşula bağlılık durumunu belirtir."
   ]
  },
  {
   "cell_type": "code",
   "execution_count": 3,
   "metadata": {},
   "outputs": [
    {
     "name": "stdout",
     "output_type": "stream",
     "text": [
      "x:2 ve y:2 eşittir.\n"
     ]
    }
   ],
   "source": [
    "x=2\n",
    "y=2\n",
    "if x==y:\n",
    "    print(f\"x:{x} ve y:{y} eşittir.\") "
   ]
  },
  {
   "cell_type": "markdown",
   "metadata": {},
   "source": [
    "- else Tagı: Else kelimesi if ve elif deyiminin dışında kalan bütün durumları göstermek için kullanılır. Tek başına kullanılmayan bir tagdır."
   ]
  },
  {
   "cell_type": "code",
   "execution_count": 6,
   "metadata": {},
   "outputs": [
    {
     "name": "stdout",
     "output_type": "stream",
     "text": [
      "x:2 ve y:3 eşit değildir.\n"
     ]
    }
   ],
   "source": [
    "x=2\n",
    "y=3\n",
    "if x==y:\n",
    "    print(f\"x:{x} ve y:{y} eşittir.\") \n",
    "else:\n",
    "    print(f\"x:{x} ve y:{y} eşit değildir.\") "
   ]
  },
  {
   "cell_type": "markdown",
   "metadata": {},
   "source": [
    "- elif Tagı: Birden fazla if durumu olduğunda ikinci yada daha fazlası elif tagı ile koşula bağlanır."
   ]
  },
  {
   "cell_type": "code",
   "execution_count": 8,
   "metadata": {},
   "outputs": [
    {
     "name": "stdout",
     "output_type": "stream",
     "text": [
      "4 3'den büyüktür.\n"
     ]
    }
   ],
   "source": [
    "x=4\n",
    "y=3\n",
    "if x<y:\n",
    "    print(f\"{x} {y}'den küçüktür.\") \n",
    "elif x==y:\n",
    "    print(f\"{x} ve {y} eşittir.\") \n",
    "else:\n",
    "    print(f\"{x} {y}'den büyüktür.\")"
   ]
  },
  {
   "cell_type": "markdown",
   "metadata": {},
   "source": [
    "- Elif ve Else tagları yukarıdaki koşul çalışmadığı yani koşulu sağlamadığı durumda çalışır fakat İf tagı yukarıdakinin çalışıp çalışmadığına bakmaksızın koşulu sağladığı her durumda çalışır. Bu yüzden iki ve daha fazla koşul olduğu durumlarda elif-else kullanmak avantaj ve doğrudur."
   ]
  },
  {
   "cell_type": "markdown",
   "metadata": {},
   "source": [
    "- İnput ile kullanıcıdan alınan değer değişkene tanımlanır ve bu şekilde koşulla bağlanabilir."
   ]
  },
  {
   "cell_type": "code",
   "execution_count": 20,
   "metadata": {},
   "outputs": [
    {
     "name": "stdout",
     "output_type": "stream",
     "text": [
      "ds ismini pek sevmedim.\n"
     ]
    }
   ],
   "source": [
    "x= input(\"Senin ismin ne?\")\n",
    "if x==\"Halil İbrahim\":\n",
    "    print(\"Güzel isim\")\n",
    "else: \n",
    "    print(f\"{x} ismini pek sevmedim.\")"
   ]
  },
  {
   "cell_type": "markdown",
   "metadata": {},
   "source": [
    "- İç içe if blokları kullanılabilir."
   ]
  },
  {
   "cell_type": "code",
   "execution_count": 1,
   "metadata": {},
   "outputs": [
    {
     "name": "stdout",
     "output_type": "stream",
     "text": [
      "a b'den büyüktür.\n"
     ]
    }
   ],
   "source": [
    "a=9\n",
    "b=7\n",
    "if a>=b:\n",
    "    if a>b:\n",
    "        print(\"a b'den büyüktür.\")\n",
    "    elif a==b:\n",
    "        print(\"a ve b eşittir.\")\n",
    "elif a<b:\n",
    "    print(\"a b'den küçüktür.\")"
   ]
  }
 ],
 "metadata": {
  "kernelspec": {
   "display_name": "Python 3",
   "language": "python",
   "name": "python3"
  },
  "language_info": {
   "codemirror_mode": {
    "name": "ipython",
    "version": 3
   },
   "file_extension": ".py",
   "mimetype": "text/x-python",
   "name": "python",
   "nbconvert_exporter": "python",
   "pygments_lexer": "ipython3",
   "version": "3.10.7"
  },
  "orig_nbformat": 4
 },
 "nbformat": 4,
 "nbformat_minor": 2
}
