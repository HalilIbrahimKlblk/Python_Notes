{
 "cells": [
  {
   "cell_type": "markdown",
   "metadata": {},
   "source": [
    "While Döngüsü\n",
    "- Bu döngü yazdığımız kodları tekrar döndürmemizi sağlayan ve programa süreklilik katan ögedir.\n",
    "- While döngüsünü durdurmak için işlemde false değeri verecek bir değer olmalıdır ve döngüyü durdurmalıdır yoksa kod sonsuz döngüye girer."
   ]
  },
  {
   "cell_type": "markdown",
   "metadata": {},
   "source": [
    "- 1- i değişkeninin değerini konrtol ediyor.\n",
    "- 2- i'nin 0 olduğunu görüyor.\n",
    "- 3- i değerinin 6'dan küçük olduğunu anlıyor.\n",
    "- 4- i değerine 1 ekliyor.\n",
    "- 5- Bu değeri ekrana yazdırıyor.\n",
    "- 6- Başa dönüp aynı işlemleri tekrar uyguluyor.\n",
    "- 7- i değeri 6 ya eşit olunca 'False' değeri alan döngü sona eriyor."
   ]
  },
  {
   "cell_type": "code",
   "execution_count": 1,
   "metadata": {},
   "outputs": [
    {
     "name": "stdout",
     "output_type": "stream",
     "text": [
      "i'nin değeri: 0\n",
      "i'nin değeri: 1\n",
      "i'nin değeri: 2\n",
      "i'nin değeri: 3\n",
      "i'nin değeri: 4\n",
      "i'nin değeri: 5\n"
     ]
    }
   ],
   "source": [
    "i=0\n",
    "while (i<6):\n",
    "    print(\"i'nin değeri:\",i)\n",
    "    i+=1"
   ]
  },
  {
   "cell_type": "code",
   "execution_count": 5,
   "metadata": {},
   "outputs": [
    {
     "name": "stdout",
     "output_type": "stream",
     "text": [
      "index: 0 liste elemanı: 2\n",
      "index: 1 liste elemanı: 4\n",
      "index: 2 liste elemanı: 6\n",
      "index: 3 liste elemanı: 8\n",
      "index: 4 liste elemanı: 0\n"
     ]
    }
   ],
   "source": [
    "liste=[2,4,6,8,0]\n",
    "index=0\n",
    "while (index<len(liste)):\n",
    "    print(\"index:\",index,\"liste elemanı:\",liste[index])\n",
    "    index +=1"
   ]
  },
  {
   "cell_type": "markdown",
   "metadata": {},
   "source": [
    "- Sonsuz Döngü Olayları: Döngünün false bulmadığı ve sonsuza kadar çalıştığı durumdur. Sonsuz döngüden çıkmak için Ctrl+C (Win) Ctrl+Z (Linux) tuşları kullanılabilir.\n",
    "- Aşağıdaki kodda artırma değeri yok bu sebeple i hep sıfır olacak ve sonsuz tane sıfır değeri ekrana bastırılacaktır."
   ]
  },
  {
   "cell_type": "code",
   "execution_count": null,
   "metadata": {},
   "outputs": [],
   "source": [
    "i=0\n",
    "while (i<6):\n",
    "    print(\"i'nin değeri:\",i)"
   ]
  },
  {
   "cell_type": "code",
   "execution_count": 9,
   "metadata": {},
   "outputs": [
    {
     "name": "stdout",
     "output_type": "stream",
     "text": [
      "Merhaba,Halil İbrahim\n"
     ]
    }
   ],
   "source": [
    "isim = \"\"\n",
    "while not isim.strip():\n",
    "    isim=input(\"İsminizi giriniz:\")\n",
    "print(f\"Merhaba,{isim}\")"
   ]
  },
  {
   "cell_type": "markdown",
   "metadata": {},
   "source": [
    "Range Fonksiyonu()\n",
    "- range fonksiyonu sayı aralıklarını belirtmemizi sağlar. \n",
    "- range(başlangıç,bitiş,artış) başlangıç sayısı dahil bitiş sayısı dahil değildir.\n",
    "- range fonksiyonu tek yazıldığında bir işlev görmez fonksiyon veya döngünün içinde kullanılır."
   ]
  },
  {
   "cell_type": "code",
   "execution_count": 6,
   "metadata": {},
   "outputs": [
    {
     "name": "stdout",
     "output_type": "stream",
     "text": [
      "1 2 3 4 5 6 7 8 9 10\n"
     ]
    }
   ],
   "source": [
    "print(*range(1,11))"
   ]
  },
  {
   "cell_type": "markdown",
   "metadata": {},
   "source": [
    "- range fonksiyonunuun for döngüsü ile kullanımı."
   ]
  },
  {
   "cell_type": "code",
   "execution_count": 7,
   "metadata": {},
   "outputs": [
    {
     "name": "stdout",
     "output_type": "stream",
     "text": [
      "1\n",
      "2\n",
      "3\n",
      "4\n",
      "5\n"
     ]
    }
   ],
   "source": [
    "for i in range(1,6):\n",
    "    print(i)"
   ]
  },
  {
   "cell_type": "code",
   "execution_count": 10,
   "metadata": {},
   "outputs": [
    {
     "name": "stdout",
     "output_type": "stream",
     "text": [
      "*\n",
      "**\n",
      "***\n",
      "****\n",
      "*****\n"
     ]
    }
   ],
   "source": [
    "for i in range(1,6):\n",
    "    print(\"*\"*i)"
   ]
  },
  {
   "cell_type": "markdown",
   "metadata": {},
   "source": [
    "Break ifadesi: Break ifadesi bir döngünün sona ermesi gerektiği zaman kullanılır hiçbir koşula bağlı kalmaksızın döngüyü kırarak durdurur. Sadece içinde bulunduğu döngüyü sonlandırır.\n",
    "- Aşağıdaki döngüde bir kere yazdırdı ve ikinciye giderken break döngüyü durdurdu."
   ]
  },
  {
   "cell_type": "code",
   "execution_count": 11,
   "metadata": {},
   "outputs": [
    {
     "name": "stdout",
     "output_type": "stream",
     "text": [
      "i'nin değeri: 0\n"
     ]
    }
   ],
   "source": [
    "i=0\n",
    "while (i<6):\n",
    "    print(\"i'nin değeri:\",i)\n",
    "    i+=1\n",
    "    break"
   ]
  },
  {
   "cell_type": "markdown",
   "metadata": {},
   "source": [
    "While True: Döngünün içinde sonlandırma ifadesi kullanılmazsa sonsuza kadar çalışan döngüdür."
   ]
  },
  {
   "cell_type": "code",
   "execution_count": 17,
   "metadata": {},
   "outputs": [
    {
     "name": "stdout",
     "output_type": "stream",
     "text": [
      "Hoşgeldiniz Halil İbrahim Kalabalık\n",
      "Programdan çıkılıyor...\n"
     ]
    }
   ],
   "source": [
    "while True:\n",
    "    a=input(\"İsminizi giriniz:(Çıkmak için 'q' tuşuna basınız.)\")\n",
    "    if a==\"q\":\n",
    "        print(\"Programdan çıkılıyor...\")\n",
    "        break\n",
    "    b=input(\"Soyisminizi giriniz:(Çıkmak için 'q' tuşuna basınız.)\")\n",
    "    if  b==\"q\":\n",
    "        print(\"Programdan çıkılıyor...\")\n",
    "        break\n",
    "    print(f\"Hoşgeldiniz {a} {b}\")"
   ]
  },
  {
   "cell_type": "markdown",
   "metadata": {},
   "source": [
    "Continue ifadesi: Continue ifadesi döngü için kendisinden sonra gelen her şeyin es geçilip döngünün en başına dönmesini sağlar.\n",
    "- Aşağıdaki döngüde belirtilen değerler atlanarak döngüye devam edilmiştir."
   ]
  },
  {
   "cell_type": "code",
   "execution_count": 18,
   "metadata": {},
   "outputs": [
    {
     "name": "stdout",
     "output_type": "stream",
     "text": [
      "1\n",
      "3\n",
      "5\n"
     ]
    }
   ],
   "source": [
    "liste=list(range(1,6))\n",
    "for i in liste:\n",
    "    if i==2 or i==4:\n",
    "        continue\n",
    "    else:\n",
    "        print(i)"
   ]
  },
  {
   "cell_type": "code",
   "execution_count": 26,
   "metadata": {},
   "outputs": [
    {
     "name": "stdout",
     "output_type": "stream",
     "text": [
      "1\n",
      "3\n",
      "5\n"
     ]
    }
   ],
   "source": [
    "i=0\n",
    "while (i<6):\n",
    "    if i%2==0:\n",
    "        i+=1\n",
    "        continue\n",
    "    else:\n",
    "        print(i)\n",
    "        i+=1"
   ]
  },
  {
   "cell_type": "markdown",
   "metadata": {},
   "source": [
    "zip( ) Fonksiyon: Bu fonksiyonu iki dizisel elemanın öğelerini birbirleriyle eşleştirirerek bir zip objesi oluşturur."
   ]
  },
  {
   "cell_type": "code",
   "execution_count": 3,
   "metadata": {},
   "outputs": [
    {
     "name": "stdout",
     "output_type": "stream",
     "text": [
      "[(1, 'one'), (2, 'two'), (3, 'there'), (4, 'four'), (5, 'five')]\n"
     ]
    }
   ],
   "source": [
    "a=[1,2,3,4,5]\n",
    "b=[\"one\",\"two\",\"there\",\"four\",\"five\"]\n",
    "print(list(zip(a,b)))"
   ]
  },
  {
   "cell_type": "code",
   "execution_count": 4,
   "metadata": {},
   "outputs": [
    {
     "name": "stdout",
     "output_type": "stream",
     "text": [
      "(1, 'one', 'un')\n",
      "(2, 'two', 'deux')\n",
      "(3, 'there', 'trois')\n",
      "(4, 'four', 'quatre')\n",
      "(5, 'five', 'cinq')\n"
     ]
    }
   ],
   "source": [
    "a=[1,2,3,4,5]\n",
    "b=[\"one\",\"two\",\"there\",\"four\",\"five\"]\n",
    "c=[\"un\",\"deux\",\"trois\",\"quatre\",\"cinq\"]\n",
    "for i in list(zip(a,b,c)):\n",
    "    print(i)"
   ]
  }
 ],
 "metadata": {
  "kernelspec": {
   "display_name": "Python 3",
   "language": "python",
   "name": "python3"
  },
  "language_info": {
   "codemirror_mode": {
    "name": "ipython",
    "version": 3
   },
   "file_extension": ".py",
   "mimetype": "text/x-python",
   "name": "python",
   "nbconvert_exporter": "python",
   "pygments_lexer": "ipython3",
   "version": "3.10.7"
  },
  "orig_nbformat": 4
 },
 "nbformat": 4,
 "nbformat_minor": 2
}
