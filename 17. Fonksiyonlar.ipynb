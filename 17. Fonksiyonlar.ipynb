{
 "cells": [
  {
   "cell_type": "markdown",
   "metadata": {},
   "source": [
    "Fonksiyonlar\n",
    "- Pythonda fonksiyonlar bizlerin işlerini hızlandırır aynı şeyleri tekrar tekrar yazmaktan kurtarır.\n",
    "- Pythonda fonksiyonları tanımlamak için def adlı deyimden yararlanırız. def deyiminden sonra fonksiyonun adı yazılır parantezden sonra \" : \" koyulur.\n",
    "- İki noktadan sonraki satır fonksiyonun işlev yapacağı kısımdır \":\" yüzünden girintili yani bir tab boşuk bırakılarak yazılır.\n",
    "- Fonksiyona vereceğimiz adın olabildiğince betimleyici olması kodu okuyanın anlaması için önmelidir.\n",
    "- def fonsiyon_adı( ):"
   ]
  },
  {
   "cell_type": "code",
   "execution_count": 3,
   "metadata": {},
   "outputs": [
    {
     "name": "stdout",
     "output_type": "stream",
     "text": [
      "<class 'function'>\n",
      "Merhaba,Halil İbrahim\n"
     ]
    }
   ],
   "source": [
    "def merhaba():\n",
    "    x=input(\"Adınızı giriniz:\")\n",
    "    print(f\"Merhaba,{x}\")\n",
    "\n",
    "print(type(merhaba))\n",
    "merhaba()"
   ]
  },
  {
   "cell_type": "code",
   "execution_count": 4,
   "metadata": {},
   "outputs": [
    {
     "name": "stdout",
     "output_type": "stream",
     "text": [
      "Girdiğiniz sayı tek sayıdır.\n"
     ]
    }
   ],
   "source": [
    "def tek_sayı():\n",
    "    print(\"Girdiğiniz sayı tek sayıdır.\")\n",
    "def çift_sayı():\n",
    "    print(\"Girdiğiniz sayı çift sayıdır.\")\n",
    "\n",
    "sayı=input(\"Bir sayı giriniz:\")\n",
    "if int(sayı)%2==0:\n",
    "    çift_sayı()\n",
    "else:\n",
    "    tek_sayı()"
   ]
  },
  {
   "cell_type": "markdown",
   "metadata": {},
   "source": [
    "Parametreli Fonksiyonlar\n",
    "- Parametre parantez içine atanan değişken değerdir.\n",
    "- Yazdırılmak istenen değişken \"argüman\" fonksiyondaki yerine koyulur ve çıktı verir. \n",
    "- Fonksiyonlara parametre sayısı kadar argüman atanabilir."
   ]
  },
  {
   "cell_type": "code",
   "execution_count": 7,
   "metadata": {},
   "outputs": [
    {
     "name": "stdout",
     "output_type": "stream",
     "text": [
      "Merhaba, benim adım Halil İbrahim.\n",
      "Benim adım Halil İbrahim soyadım Kalabalık.\n"
     ]
    }
   ],
   "source": [
    "def selam(isim):\n",
    "    print(f\"Merhaba, benim adım {isim}.\")\n",
    "selam(\"Halil İbrahim\")\n",
    "\n",
    "def adım(isim,soyisim): \n",
    "    print(f\"Benim adım\"+ isim +\" soyadım \"+ soyisim +\".\")\n",
    "adım(\" Halil İbrahim\", \"Kalabalık\")"
   ]
  },
  {
   "cell_type": "code",
   "execution_count": 10,
   "metadata": {},
   "outputs": [
    {
     "name": "stdout",
     "output_type": "stream",
     "text": [
      "Sayın Mustafa Bey, 07/08/2023 tarihinde yaptığımız başvurunun sonuçlanması hususunda yardımlarınızı rica ederiz.\n",
      "Saygılarımızla, Halil İbrahim Kalabalık\n"
     ]
    }
   ],
   "source": [
    "def dilekçe_fonsiyonu(kime,kimden,tarih,):\n",
    "    print(f\"Sayın {kime}, {tarih} tarihinde yaptığımız başvurunun sonuçlanması hususunda yardımlarınızı rica ederiz.\\nSaygılarımızla, {kimden}\")\n",
    "dilekçe_fonsiyonu(\"Mustafa Bey\", \"Halil İbrahim Kalabalık\", \"07/08/2023\")"
   ]
  },
  {
   "cell_type": "markdown",
   "metadata": {},
   "source": [
    "Return İfadesi\n",
    "- Foksiyonda return kullanıp döndürdüğümüz için none değeri almayız.\n",
    "- Return deyimi ise herhangi bir değerin döndürülmesinden sorumlu ifadedir.\n",
    "- Return fonksiyonu sonlandıran ifadedir ve return'dan sonraki hiçbir değer çalışmaz."
   ]
  },
  {
   "cell_type": "code",
   "execution_count": 60,
   "metadata": {},
   "outputs": [
    {
     "name": "stdout",
     "output_type": "stream",
     "text": [
      "<class 'NoneType'>\n",
      "None\n"
     ]
    }
   ],
   "source": [
    "def returnsuz_dnm():\n",
    "    a=5\n",
    "print(type(returnsuz_dnm()))\n",
    "print(returnsuz_dnm()) "
   ]
  },
  {
   "cell_type": "code",
   "execution_count": 61,
   "metadata": {},
   "outputs": [
    {
     "name": "stdout",
     "output_type": "stream",
     "text": [
      "6\n"
     ]
    }
   ],
   "source": [
    "def returnlu_dnm():\n",
    "    a=6\n",
    "    return a\n",
    "print(returnlu_dnm())"
   ]
  },
  {
   "cell_type": "markdown",
   "metadata": {},
   "source": [
    "- Aşağıdaki fonksiyon return ile döndürülmezse hata verir ve kod çalışmaz."
   ]
  },
  {
   "cell_type": "code",
   "execution_count": 62,
   "metadata": {},
   "outputs": [
    {
     "name": "stdout",
     "output_type": "stream",
     "text": [
      "12\n"
     ]
    }
   ],
   "source": [
    "def topla(a,b,c):\n",
    "    return a+b+c\n",
    "def ikikatı(a):\n",
    "    return a*2\n",
    "toplam=topla(1,2,3)\n",
    "print(ikikatı(toplam))"
   ]
  },
  {
   "cell_type": "code",
   "execution_count": 2,
   "metadata": {},
   "outputs": [
    {
     "name": "stdout",
     "output_type": "stream",
     "text": [
      "Girdiğiniz sayı:0\n",
      "Çift sayı\n"
     ]
    }
   ],
   "source": [
    "def sayı_işle():\n",
    "    sor=int(input(\"Bir sayı giriniz: \"))\n",
    "    return sor\n",
    "\n",
    "sayı=sayı_işle()\n",
    "print(f\"Girdiğiniz sayı:{sayı}\")\n",
    "if sayı%2==1:\n",
    "    print(\"Tek sayı\")\n",
    "else:\n",
    "    print(\"Çift sayı\")"
   ]
  },
  {
   "cell_type": "code",
   "execution_count": 6,
   "metadata": {},
   "outputs": [
    {
     "name": "stdout",
     "output_type": "stream",
     "text": [
      "['ankara', 'istanbul', 'izmir']\n"
     ]
    }
   ],
   "source": [
    "şehirler=[\"istanbul\",\"ankara\",\"izmir\"]\n",
    "def change(n):\n",
    "    n[0]=\"ankara\"\n",
    "    n[1]=\"istanbul\"\n",
    "change(şehirler)\n",
    "print(şehirler)"
   ]
  },
  {
   "cell_type": "markdown",
   "metadata": {},
   "source": [
    "Global Deyimi\n",
    "- Bu deyim fonksiyon içinde tanımlanan değişkenin fonksiyon dışında kullanılmasını sağlayan ögedir."
   ]
  },
  {
   "cell_type": "code",
   "execution_count": 7,
   "metadata": {},
   "outputs": [
    {
     "name": "stdout",
     "output_type": "stream",
     "text": [
      "10\n",
      "8\n",
      "b'nın değeri: 8\n"
     ]
    }
   ],
   "source": [
    "def f1():\n",
    "    a=10\n",
    "f1()\n",
    "print(f\"b'nın değeri: {a}\") #Tanımsız\n",
    "\n",
    "def f2():\n",
    "    global b \n",
    "    b=8\n",
    "f2()\n",
    "print(f\"b'nın değeri: {b}\") # b=8"
   ]
  },
  {
   "cell_type": "code",
   "execution_count": 6,
   "metadata": {},
   "outputs": [
    {
     "name": "stdout",
     "output_type": "stream",
     "text": [
      "Selam, İbrahim\n",
      "Selam, Halil\n"
     ]
    }
   ],
   "source": [
    "ad=\"Halil\"\n",
    "def selam(ad):\n",
    "    def slm():\n",
    "        print(f\"Selam, {ad}\")\n",
    "    slm()\n",
    "selam(\"İbrahim\")\n",
    "print(f\"Selam, {ad}\")"
   ]
  },
  {
   "cell_type": "markdown",
   "metadata": {},
   "source": [
    "Pass Deyimi\n",
    "- Python sözdizim kurallarına göre bir ifadenin gerekli olduğu, fakat programın bir şey yapması gerekmediği zaman kullanılabilir."
   ]
  },
  {
   "cell_type": "code",
   "execution_count": 11,
   "metadata": {},
   "outputs": [
    {
     "name": "stdout",
     "output_type": "stream",
     "text": [
      "['1']\n",
      "['1', '2']\n",
      "['1', '2', '3']\n"
     ]
    }
   ],
   "source": [
    "def deneme():\n",
    "    liste=[]\n",
    "    while True:\n",
    "        a=input(\"Bir sayı giriniz:\")\n",
    "        if a==\"0\":\n",
    "            pass\n",
    "        elif a==\"q\":\n",
    "            break\n",
    "        else:\n",
    "            liste.append(a)\n",
    "            print(liste)\n",
    "        \n",
    "deneme()"
   ]
  },
  {
   "cell_type": "markdown",
   "metadata": {},
   "source": [
    "Lambda İfadeleri\n",
    "- Lambda tek satırlık fonksiyonlardır. \n",
    "- Bir ya da daha fazla parametre kabul ederler, ancak tek bir işlem yapabilirler."
   ]
  },
  {
   "cell_type": "code",
   "execution_count": 1,
   "metadata": {},
   "outputs": [
    {
     "data": {
      "text/plain": [
       "4"
      ]
     },
     "execution_count": 1,
     "metadata": {},
     "output_type": "execute_result"
    }
   ],
   "source": [
    "def ikikatı(x):\n",
    "    return x*2 \n",
    "ikikatı(2)"
   ]
  },
  {
   "cell_type": "code",
   "execution_count": 2,
   "metadata": {},
   "outputs": [
    {
     "data": {
      "text/plain": [
       "4"
      ]
     },
     "execution_count": 2,
     "metadata": {},
     "output_type": "execute_result"
    }
   ],
   "source": [
    "ikikatı = lambda x : x*2\n",
    "ikikatı(2)"
   ]
  },
  {
   "cell_type": "code",
   "execution_count": 3,
   "metadata": {},
   "outputs": [
    {
     "data": {
      "text/plain": [
       "True"
      ]
     },
     "execution_count": 3,
     "metadata": {},
     "output_type": "execute_result"
    }
   ],
   "source": [
    "def ciftek(x):\n",
    "    return x%2==0\n",
    "ciftek(2)"
   ]
  },
  {
   "cell_type": "code",
   "execution_count": 4,
   "metadata": {},
   "outputs": [
    {
     "data": {
      "text/plain": [
       "False"
      ]
     },
     "execution_count": 4,
     "metadata": {},
     "output_type": "execute_result"
    }
   ],
   "source": [
    "ciftek = lambda x : x%2==0\n",
    "ciftek(3)"
   ]
  },
  {
   "cell_type": "markdown",
   "metadata": {},
   "source": [
    "map İfadesi \n",
    "- For döngüsü gibi ögeleri tek tek işleme sokar."
   ]
  },
  {
   "cell_type": "code",
   "execution_count": null,
   "metadata": {},
   "outputs": [],
   "source": [
    "numbers=[1,2,3,4]\n",
    "print(list(map(lambda num : num*2,numbers)))"
   ]
  },
  {
   "cell_type": "markdown",
   "metadata": {},
   "source": [
    "Filter İfadesi\n",
    "- Sadece istediğimiz sayılar üzerinde fonksiyonu filtreleyebilmek için kullanılır."
   ]
  },
  {
   "cell_type": "code",
   "execution_count": null,
   "metadata": {},
   "outputs": [],
   "source": [
    "numbers=[1,2,3,4]\n",
    "def even(num): return num%2==0\n",
    "print(list(filter(even,numbers)))"
   ]
  }
 ],
 "metadata": {
  "kernelspec": {
   "display_name": "Python 3",
   "language": "python",
   "name": "python3"
  },
  "language_info": {
   "codemirror_mode": {
    "name": "ipython",
    "version": 3
   },
   "file_extension": ".py",
   "mimetype": "text/x-python",
   "name": "python",
   "nbconvert_exporter": "python",
   "pygments_lexer": "ipython3",
   "version": "3.10.7"
  },
  "orig_nbformat": 4
 },
 "nbformat": 4,
 "nbformat_minor": 2
}
