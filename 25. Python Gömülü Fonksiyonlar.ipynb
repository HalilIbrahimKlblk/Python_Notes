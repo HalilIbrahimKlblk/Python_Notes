{
 "cells": [
  {
   "cell_type": "markdown",
   "metadata": {},
   "source": [
    "Python Gömülü Fonksiyonlar"
   ]
  },
  {
   "cell_type": "markdown",
   "metadata": {},
   "source": [
    "- map( ) Fonksiyonu: Bir liste ya da demet gibi işlem yapılabilir veri türlerinin her bir verisini bir fonksiyona tek tek parametre olarak göndermek için kullanılır."
   ]
  },
  {
   "cell_type": "code",
   "execution_count": 9,
   "metadata": {},
   "outputs": [
    {
     "data": {
      "text/plain": [
       "[2, 4, 6, 8, 10]"
      ]
     },
     "execution_count": 9,
     "metadata": {},
     "output_type": "execute_result"
    }
   ],
   "source": [
    "def iki_katı(x):\n",
    "    return x*2\n",
    "\n",
    "liste=[1,2,3,4,5]\n",
    "list(map(iki_katı,liste))"
   ]
  },
  {
   "cell_type": "code",
   "execution_count": 11,
   "metadata": {},
   "outputs": [
    {
     "data": {
      "text/plain": [
       "[2, 4, 6, 8, 10]"
      ]
     },
     "execution_count": 11,
     "metadata": {},
     "output_type": "execute_result"
    }
   ],
   "source": [
    "list(map(lambda x:x*2,[1,2,3,4,5]))"
   ]
  },
  {
   "cell_type": "markdown",
   "metadata": {},
   "source": [
    "- reduce( ) Fonksiyonu:  Parametre olarak fonksiyon, liste ve demet gibi döngüye sokabilecek veri alır. Dizinin her değeri için bir işlev yürütür ve sonunda diziyi tek bir değere düşürür. "
   ]
  },
  {
   "cell_type": "code",
   "execution_count": 12,
   "metadata": {},
   "outputs": [
    {
     "data": {
      "text/plain": [
       "15"
      ]
     },
     "execution_count": 12,
     "metadata": {},
     "output_type": "execute_result"
    }
   ],
   "source": [
    "from functools import reduce\n",
    "def topla(x,y):\n",
    "    return x+y\n",
    "\n",
    "reduce(topla,[1,2,3,4,5])"
   ]
  },
  {
   "cell_type": "code",
   "execution_count": 14,
   "metadata": {},
   "outputs": [
    {
     "data": {
      "text/plain": [
       "120"
      ]
     },
     "execution_count": 14,
     "metadata": {},
     "output_type": "execute_result"
    }
   ],
   "source": [
    "reduce(lambda x,y:x*y,[1,2,3,4,5]) #Faktöriyel"
   ]
  },
  {
   "cell_type": "code",
   "execution_count": 17,
   "metadata": {},
   "outputs": [
    {
     "data": {
      "text/plain": [
       "5"
      ]
     },
     "execution_count": 17,
     "metadata": {},
     "output_type": "execute_result"
    }
   ],
   "source": [
    "def max(x,y):\n",
    "    if x>y:\n",
    "        return x\n",
    "    else:\n",
    "        return y \n",
    "    \n",
    "reduce(max,[1,2,3,4,5])"
   ]
  },
  {
   "cell_type": "markdown",
   "metadata": {},
   "source": [
    "- filter( ) Fonksiyonu: Parametre olarak fonksiyon ve liste, demet gibi döngüye sokulabilecek veri alır."
   ]
  },
  {
   "cell_type": "code",
   "execution_count": 23,
   "metadata": {},
   "outputs": [
    {
     "data": {
      "text/plain": [
       "[0, 2, 4, 6, 8]"
      ]
     },
     "execution_count": 23,
     "metadata": {},
     "output_type": "execute_result"
    }
   ],
   "source": [
    "list(filter(lambda x:x%2==0,[0,1,2,3,4,5,6,7,8,9]))"
   ]
  },
  {
   "cell_type": "code",
   "execution_count": 26,
   "metadata": {},
   "outputs": [
    {
     "data": {
      "text/plain": [
       "[1, 3, 5, 7, 9]"
      ]
     },
     "execution_count": 26,
     "metadata": {},
     "output_type": "execute_result"
    }
   ],
   "source": [
    "def pozitif_mi(x):\n",
    "    if x>0:\n",
    "        return True\n",
    "    elif x>0:\n",
    "        return False\n",
    "    \n",
    "list(filter(pozitif_mi,[0,1,-2,3,-4,5,-6,7,-8,9]))"
   ]
  },
  {
   "cell_type": "markdown",
   "metadata": {},
   "source": [
    "- Zip( ) Fonksiyonu: İki dizisel elemanın öğelerini birbirleriyle eşleştirirerek bir zip objesi oluşturur."
   ]
  },
  {
   "cell_type": "code",
   "execution_count": 27,
   "metadata": {},
   "outputs": [
    {
     "data": {
      "text/plain": [
       "[(1, 'one'), (2, 'two'), (3, 'three'), (4, 'four')]"
      ]
     },
     "execution_count": 27,
     "metadata": {},
     "output_type": "execute_result"
    }
   ],
   "source": [
    "liste1=[1,2,3,4]\n",
    "liste2=[\"one\",\"two\",\"three\",\"four\"]\n",
    "list(zip(liste1,liste2))"
   ]
  },
  {
   "cell_type": "code",
   "execution_count": 30,
   "metadata": {},
   "outputs": [
    {
     "name": "stdout",
     "output_type": "stream",
     "text": [
      "1 : one\n",
      "2 : two\n",
      "3 : three\n",
      "4 : four\n"
     ]
    }
   ],
   "source": [
    "liste1=[1,2,3,4]\n",
    "liste2=[\"one\",\"two\",\"three\",\"four\"]\n",
    "for i,j in zip(liste1,liste2):\n",
    "    print(i,\":\",j)"
   ]
  },
  {
   "cell_type": "markdown",
   "metadata": {},
   "source": [
    "- Enumerate( ) Fonksiyonu: Bu fonksiyon nesneleri numaralandırmak için kullanılır. Yani bir listedeki hem elemanı hem de indeksi getirir."
   ]
  },
  {
   "cell_type": "code",
   "execution_count": 31,
   "metadata": {},
   "outputs": [
    {
     "data": {
      "text/plain": [
       "[(0, 'zero'), (1, 'one'), (2, 'two'), (3, 'three')]"
      ]
     },
     "execution_count": 31,
     "metadata": {},
     "output_type": "execute_result"
    }
   ],
   "source": [
    "liste=[\"zero\",\"one\",\"two\",\"three\"]\n",
    "list(enumerate(liste))"
   ]
  },
  {
   "cell_type": "code",
   "execution_count": 34,
   "metadata": {},
   "outputs": [
    {
     "name": "stdout",
     "output_type": "stream",
     "text": [
      "2243700\n",
      "2243702\n",
      "2243704\n"
     ]
    }
   ],
   "source": [
    "liste=[\"2243700\",\"2243701\",\"2243702\",\"2243703\",\"2243704\",\"2243705\"]\n",
    "for i,j in enumerate(liste):\n",
    "    if i%2==0:\n",
    "        print(j)"
   ]
  },
  {
   "cell_type": "markdown",
   "metadata": {},
   "source": [
    "- All Fonksiyonu: Dizisel bir yapı içerisindeki tüm değerler True ise True değerini döndürürken, bu değerlerden herhangi biri False olduğu durumda False değerini döndürür."
   ]
  },
  {
   "cell_type": "code",
   "execution_count": 40,
   "metadata": {},
   "outputs": [
    {
     "data": {
      "text/plain": [
       "False"
      ]
     },
     "execution_count": 40,
     "metadata": {},
     "output_type": "execute_result"
    }
   ],
   "source": [
    "liste1=[True,False,True,True,True,True]\n",
    "all(liste1)"
   ]
  },
  {
   "cell_type": "code",
   "execution_count": 38,
   "metadata": {},
   "outputs": [
    {
     "data": {
      "text/plain": [
       "True"
      ]
     },
     "execution_count": 38,
     "metadata": {},
     "output_type": "execute_result"
    }
   ],
   "source": [
    "liste2=[True,True,True,True,True,True]\n",
    "all(liste2)"
   ]
  },
  {
   "cell_type": "markdown",
   "metadata": {},
   "source": [
    "- Any Fonksiyonu: Bu fonksiyon all fonksiyonunun tersidir. Any fonksiyonu herhangi bir değer True ise sonuç True iken, hepsi False olduğu durumda False değer döndürmektedir."
   ]
  },
  {
   "cell_type": "code",
   "execution_count": 45,
   "metadata": {},
   "outputs": [
    {
     "data": {
      "text/plain": [
       "False"
      ]
     },
     "execution_count": 45,
     "metadata": {},
     "output_type": "execute_result"
    }
   ],
   "source": [
    "liste2=[False,False,False,False,False]\n",
    "any(liste2)"
   ]
  },
  {
   "cell_type": "code",
   "execution_count": 44,
   "metadata": {},
   "outputs": [
    {
     "data": {
      "text/plain": [
       "True"
      ]
     },
     "execution_count": 44,
     "metadata": {},
     "output_type": "execute_result"
    }
   ],
   "source": [
    "liste1=[False,False,False,False,False,True]\n",
    "any(liste1)"
   ]
  },
  {
   "cell_type": "markdown",
   "metadata": {},
   "source": [
    "- İç içe Fonksiyonlar."
   ]
  },
  {
   "cell_type": "code",
   "execution_count": 17,
   "metadata": {},
   "outputs": [
    {
     "name": "stdout",
     "output_type": "stream",
     "text": [
      "5   sayı artırılıyor...   6\n",
      "5   sayı azaltılıyor...   4\n"
     ]
    }
   ],
   "source": [
    "def sayı(x):\n",
    "    def artır(x):\n",
    "        return x+1\n",
    "    y=artır(x)\n",
    "    print(x,\"  sayı artırılıyor...  \",y)\n",
    "\n",
    "    def azalt(x):\n",
    "        return x-1\n",
    "    z=azalt(x)\n",
    "    print(x,\"  sayı azaltılıyor...  \",z)\n",
    "\n",
    "sayı(5)"
   ]
  },
  {
   "cell_type": "code",
   "execution_count": 15,
   "metadata": {},
   "outputs": [
    {
     "name": "stdout",
     "output_type": "stream",
     "text": [
      "9\n",
      "20\n"
     ]
    }
   ],
   "source": [
    "def func(işlem):\n",
    "    def toplama(*x):\n",
    "        toplam=0\n",
    "        for i in x:\n",
    "            toplam+=i\n",
    "        return toplam\n",
    "    \n",
    "    def çarpma(*x):\n",
    "        çarpım=1\n",
    "        for i in x:\n",
    "            çarpım*=i\n",
    "        return çarpım\n",
    "    if işlem==\"toplama\":\n",
    "        return toplama\n",
    "    else:\n",
    "        return çarpma\n",
    "    \n",
    "toplama=func(\"toplama\")\n",
    "print(toplama(4,5))\n",
    "\n",
    "çarpma=func(\"çarpma\")\n",
    "print(çarpma(4,5))"
   ]
  },
  {
   "cell_type": "code",
   "execution_count": 16,
   "metadata": {},
   "outputs": [
    {
     "name": "stdout",
     "output_type": "stream",
     "text": [
      "5\n"
     ]
    }
   ],
   "source": [
    "def toplama(x,y):\n",
    "    return x+y\n",
    "def çıkarma(x,y):\n",
    "    return x-y\n",
    "def çarpma(x,y):\n",
    "    return x*y\n",
    "def bölme(x,y):\n",
    "    return x/y\n",
    "def işlem(f1,f2,f3,f4,işlem):\n",
    "    if işlem==\"toplama\":\n",
    "        print(f1(2,3))\n",
    "    elif işlem==\"çıkarma\":\n",
    "        print(f2(2,3))\n",
    "    elif işlem==\"çarpma\":\n",
    "        print(f3(2,3))\n",
    "    elif işlem==\"bölme\":\n",
    "        print(f4(2,3))\n",
    "    else:\n",
    "        print(\"Geçersiz işlem\")\n",
    "\n",
    "işlem(toplama,çıkarma,çarpma,bölme,\"toplama\")"
   ]
  }
 ],
 "metadata": {
  "kernelspec": {
   "display_name": "Python 3",
   "language": "python",
   "name": "python3"
  },
  "language_info": {
   "codemirror_mode": {
    "name": "ipython",
    "version": 3
   },
   "file_extension": ".py",
   "mimetype": "text/x-python",
   "name": "python",
   "nbconvert_exporter": "python",
   "pygments_lexer": "ipython3",
   "version": "3.10.7"
  },
  "orig_nbformat": 4
 },
 "nbformat": 4,
 "nbformat_minor": 2
}
