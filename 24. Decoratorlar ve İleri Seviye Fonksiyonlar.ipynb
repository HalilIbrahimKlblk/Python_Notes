{
 "cells": [
  {
   "cell_type": "markdown",
   "metadata": {},
   "source": [
    "Decoratorlar ve İleri Seviye Fonksiyonlar"
   ]
  },
  {
   "cell_type": "markdown",
   "metadata": {},
   "source": [
    "- *args"
   ]
  },
  {
   "cell_type": "code",
   "execution_count": 2,
   "metadata": {},
   "outputs": [
    {
     "name": "stdout",
     "output_type": "stream",
     "text": [
      "(1, 2, 3)\n",
      "1\n",
      "2\n",
      "3\n"
     ]
    }
   ],
   "source": [
    "def func(*args):\n",
    "    print(args)\n",
    "    for i in args:\n",
    "        print(i)\n",
    "\n",
    "func(1,2,3)"
   ]
  },
  {
   "cell_type": "markdown",
   "metadata": {},
   "source": [
    "- **kwargs"
   ]
  },
  {
   "cell_type": "code",
   "execution_count": 6,
   "metadata": {},
   "outputs": [
    {
     "name": "stdout",
     "output_type": "stream",
     "text": [
      "Ad : Halil İbrahim\n",
      "Soyad : Kalabalık\n"
     ]
    }
   ],
   "source": [
    "def func(**kwargs):\n",
    "    for i,j in kwargs.items():\n",
    "        print(i,j)\n",
    "\n",
    "func(Ad=\": Halil İbrahim\",Soyad=\": Kalabalık\")"
   ]
  },
  {
   "cell_type": "code",
   "execution_count": 7,
   "metadata": {},
   "outputs": [
    {
     "name": "stdout",
     "output_type": "stream",
     "text": [
      "1\n",
      "2\n",
      "3\n",
      "Ad : Halil İbrahim\n",
      "Soyad : Kalabalık\n"
     ]
    }
   ],
   "source": [
    "def func(*args,**kwargs):\n",
    "    for i in args:\n",
    "        print(i)\n",
    "    for i,j in kwargs.items():\n",
    "        print(i,j)\n",
    "\n",
    "func(1,2,3,Ad=\": Halil İbrahim\",Soyad=\": Kalabalık\")"
   ]
  },
  {
   "cell_type": "markdown",
   "metadata": {},
   "source": [
    "- Bir fonksiyon eşittir ile bir değişkene atılabilir bu değişkenin veri tipi de 'func' şeklindedir.\n",
    "- İlk fonksiyon del ile silinse bile ikinci fonksiyon çalışmaya devam eder."
   ]
  },
  {
   "cell_type": "code",
   "execution_count": 19,
   "metadata": {},
   "outputs": [
    {
     "name": "stdout",
     "output_type": "stream",
     "text": [
      "<class 'function'>\n",
      "Selam Halil\n",
      "Selam İbrahim\n"
     ]
    }
   ],
   "source": [
    "def slm(isim):\n",
    "    print(\"Selam\",isim)\n",
    "merhaba=slm\n",
    "print(type(merhaba))\n",
    "slm(\"Halil\")\n",
    "merhaba(\"İbrahim\")\n",
    "del slm"
   ]
  },
  {
   "cell_type": "markdown",
   "metadata": {},
   "source": [
    "- İç içe fonksiyonlar"
   ]
  },
  {
   "cell_type": "code",
   "execution_count": 41,
   "metadata": {},
   "outputs": [
    {
     "name": "stdout",
     "output_type": "stream",
     "text": [
      "Toplam: 15\n",
      "Fark: 5\n"
     ]
    }
   ],
   "source": [
    "def işlem(a,b):\n",
    "    def topla(a,b):\n",
    "        return a+b\n",
    "    def çıkar(a,b):\n",
    "        return a-b\n",
    "    print(\"Toplam:\",topla(a,b))\n",
    "    print(\"Fark:\",çıkar(a,b))\n",
    "\n",
    "işlem(10,5)"
   ]
  },
  {
   "cell_type": "markdown",
   "metadata": {},
   "source": [
    "- Fonksiyonlara return ile döndürülebilir ve parametre olarak kullanılabilir. "
   ]
  },
  {
   "cell_type": "code",
   "execution_count": 4,
   "metadata": {},
   "outputs": [
    {
     "name": "stdout",
     "output_type": "stream",
     "text": [
      "15\n",
      "120\n"
     ]
    }
   ],
   "source": [
    "def işlem(işlem_adı):\n",
    "    def topla(*args):\n",
    "        toplam=0\n",
    "        for i in args:\n",
    "            toplam+=i\n",
    "        print(toplam)\n",
    "    def çarp(*args):\n",
    "        çarpım=1\n",
    "        for i in args:\n",
    "            çarpım*=i\n",
    "        print(çarpım)\n",
    "    if işlem_adı==\"toplama\":\n",
    "        return topla\n",
    "    elif işlem_adı==\"çarpma\":\n",
    "        return çarp\n",
    "\n",
    "toplama=işlem(\"toplama\")\n",
    "çarpma=işlem(\"çarpma\")\n",
    "\n",
    "toplama(1,2,3,4,5)\n",
    "çarpma(1,2,3,4,5)"
   ]
  },
  {
   "cell_type": "code",
   "execution_count": 16,
   "metadata": {},
   "outputs": [
    {
     "name": "stdout",
     "output_type": "stream",
     "text": [
      "9\n"
     ]
    },
    {
     "data": {
      "text/plain": [
       "3"
      ]
     },
     "execution_count": 16,
     "metadata": {},
     "output_type": "execute_result"
    }
   ],
   "source": [
    "def topla(a,b):\n",
    "    return a+b\n",
    "def çıkarma(a,b):\n",
    "    return a-b\n",
    "def çarpma(a,b):\n",
    "    return a*b\n",
    "def bölme(a,b):\n",
    "    return a/b\n",
    "\n",
    "def ana_func(f1,f2,f3,f4,işlem):\n",
    "    if işlem==\"toplama\":\n",
    "        return f1(6,3)\n",
    "    elif işlem==\"çıkarma\":\n",
    "        return f2(6,3)\n",
    "    elif işlem==\"çarpma\":\n",
    "        return f3(6,3)\n",
    "    elif işlem==\"bölme\":\n",
    "        return f4(6,3)\n",
    "    else:\n",
    "        print(\"Geçersiz işlem\")\n",
    "\n",
    "ana_func(toplama,çıkarma,çarpma,bölme,\"toplama\")\n",
    "ana_func(toplama,çıkarma,çarpma,bölme,\"çıkarma\")"
   ]
  },
  {
   "cell_type": "markdown",
   "metadata": {},
   "source": [
    "- Decorator Fonksiyonlar: Fonksiyonlarımıza dinamik olarak ekstra özellikler eklediğimiz fonksiyonlardır ve decorator fonksiyonların kullanımı kod tekrarı yapmamızı engeller."
   ]
  },
  {
   "cell_type": "code",
   "execution_count": 24,
   "metadata": {},
   "outputs": [],
   "source": [
    "import time\n",
    "def kare(sayılar):\n",
    "    start=time.time()\n",
    "    sonuç=list()\n",
    "    for i in sayılar:\n",
    "        sonuç.append(i**2)\n",
    "    finish=time.time()\n",
    "    print(str(finish-start),\"sn sürdü\")\n",
    "    return sonuç\n",
    "\n",
    "def küp(sayılar):\n",
    "    start=time.time()\n",
    "    sonuç=list()\n",
    "    for i in sayılar:\n",
    "        sonuç.append(i**3)\n",
    "    finish=time.time()\n",
    "    print(str(finish-start),\"sn sürdü\")\n",
    "    return sonuç\n",
    "\n",
    "kare(range(100000))\n",
    "küp(range(100000))"
   ]
  },
  {
   "cell_type": "markdown",
   "metadata": {},
   "source": [
    "- Decorator fonksiyonların mantığının anlaşılması için verilen üstteki örnekte işlemin kaç sn sürdüğünü her fonksiyon tanımladık. İşlem kolaylığının yanında kod karmaşasının da önüne geçen decoratorlar aşağıdaki gibi bir fonksiyona tanımlanır ve '@' işareti ile diğer fonksiyonlarda da işleme sokulur."
   ]
  },
  {
   "cell_type": "code",
   "execution_count": 26,
   "metadata": {},
   "outputs": [],
   "source": [
    "import time\n",
    "def zaman(func):\n",
    "    def foksiyon(sayılar):\n",
    "        start=time.time()\n",
    "        sonuç=func(sayılar)\n",
    "        finish=time.time()\n",
    "        print(func.__name__ + str(finish-start),\"sn sürdü\")\n",
    "        return sonuç\n",
    "    return foksiyon\n",
    "\n",
    "@zaman\n",
    "def kare(sayılar):\n",
    "    sonuç=list()\n",
    "    for i in sayılar:\n",
    "        sonuç.append(i**2)\n",
    "    return sonuç\n",
    "\n",
    "@zaman\n",
    "def küp(sayılar):\n",
    "    sonuç=list()\n",
    "    for i in sayılar:\n",
    "        sonuç.append(i**3)\n",
    "    return sonuç\n",
    "\n",
    "kare(range(100000))\n",
    "küp(range(100000))"
   ]
  },
  {
   "cell_type": "code",
   "execution_count": 37,
   "metadata": {},
   "outputs": [
    {
     "name": "stdout",
     "output_type": "stream",
     "text": [
      "Çiftlerin ortalaması 50.0\n",
      "Teklerin ortalaması 51.0\n",
      "Sınıf ortalaması 50.5\n"
     ]
    }
   ],
   "source": [
    "def ekstra(fonk):\n",
    "    def wrapper(sayılar):\n",
    "        çift=0\n",
    "        çift_tot=0\n",
    "        tek=0\n",
    "        tek_tot=0\n",
    "\n",
    "        for sayı in sayılar:\n",
    "            if sayı%2==0:\n",
    "                çift+=1\n",
    "                çift_tot+=sayı\n",
    "            else:\n",
    "                tek+=1\n",
    "                tek_tot+=sayı\n",
    "\n",
    "        print(\"Çiftlerin ortalaması {:.1f}\".format(çift_tot/çift))\n",
    "        print(\"Teklerin ortalaması {:.1f}\".format(tek_tot/tek))\n",
    "        fonk(sayılar)\n",
    "    return wrapper\n",
    "\n",
    "@ekstra\n",
    "def ortalama(sayılar):\n",
    "    toplam=0\n",
    "    for i in sayılar:\n",
    "        toplam+=i\n",
    "    print(\"Sınıf ortalaması {:.1f}\".format(toplam/len(sayılar)))\n",
    "try:\n",
    "    ortalama([41,40,51,50,61,60])\n",
    "except ZeroDivisionError:\n",
    "    print(\"En az birer tane tek ve çift sayı bulunmalıdır\")"
   ]
  }
 ],
 "metadata": {
  "kernelspec": {
   "display_name": "Python 3",
   "language": "python",
   "name": "python3"
  },
  "language_info": {
   "codemirror_mode": {
    "name": "ipython",
    "version": 3
   },
   "file_extension": ".py",
   "mimetype": "text/x-python",
   "name": "python",
   "nbconvert_exporter": "python",
   "pygments_lexer": "ipython3",
   "version": "3.10.7"
  },
  "orig_nbformat": 4
 },
 "nbformat": 4,
 "nbformat_minor": 2
}
