{
 "cells": [
  {
   "cell_type": "markdown",
   "metadata": {},
   "source": [
    "Modüller\n",
    "- Python kodumuzu mantıksal olarak organize etmenizi sağlar.  \n",
    "- Bir modül, bağlayabileceğiniz ve başvuruda bulunabileceğiniz isteğe bağlı niteliklere sahip bir Python nesnesidir."
   ]
  },
  {
   "cell_type": "markdown",
   "metadata": {},
   "source": [
    "Modüller aşağıdaki şekilde tanımlanır.\n",
    "+ import math\n",
    "+ help(math): heklp(nodül) şeklinde modül hakkında bilgi alabilir ve fonksiyonların tanımlamalarına ulaşabiliriz.\n"
   ]
  },
  {
   "cell_type": "code",
   "execution_count": 6,
   "metadata": {},
   "outputs": [
    {
     "data": {
      "text/plain": [
       "120"
      ]
     },
     "execution_count": 6,
     "metadata": {},
     "output_type": "execute_result"
    }
   ],
   "source": [
    "import math\n",
    "math.factorial(5)"
   ]
  },
  {
   "cell_type": "code",
   "execution_count": 10,
   "metadata": {},
   "outputs": [
    {
     "data": {
      "text/plain": [
       "5"
      ]
     },
     "execution_count": 10,
     "metadata": {},
     "output_type": "execute_result"
    }
   ],
   "source": [
    "import math\n",
    "math.floor(5.8)"
   ]
  },
  {
   "cell_type": "code",
   "execution_count": 11,
   "metadata": {},
   "outputs": [
    {
     "data": {
      "text/plain": [
       "6"
      ]
     },
     "execution_count": 11,
     "metadata": {},
     "output_type": "execute_result"
    }
   ],
   "source": [
    "import math\n",
    "math.ceil(5.2)"
   ]
  },
  {
   "cell_type": "markdown",
   "metadata": {},
   "source": [
    "- import math as matematik şeklinde math modülünün adı matematik olarak değiştirilir."
   ]
  },
  {
   "cell_type": "code",
   "execution_count": 14,
   "metadata": {},
   "outputs": [
    {
     "data": {
      "text/plain": [
       "120"
      ]
     },
     "execution_count": 14,
     "metadata": {},
     "output_type": "execute_result"
    }
   ],
   "source": [
    "import math as matematik\n",
    "matematik.factorial(5)"
   ]
  },
  {
   "cell_type": "markdown",
   "metadata": {},
   "source": [
    "- from math import* şeklinde math modülündeki tüm fonksiyonlar modülden çıkarıp fonksiyon şeklinde kullanılabilir."
   ]
  },
  {
   "cell_type": "code",
   "execution_count": 18,
   "metadata": {},
   "outputs": [
    {
     "data": {
      "text/plain": [
       "120"
      ]
     },
     "execution_count": 18,
     "metadata": {},
     "output_type": "execute_result"
    }
   ],
   "source": [
    "from math import*\n",
    "factorial(5)"
   ]
  },
  {
   "cell_type": "markdown",
   "metadata": {},
   "source": [
    "- from math ceil,floor şeklinde math modülünde tanımlanan fonksiyonlar modülden çıkarıp fonksiyon şeklinde kullanılabilir."
   ]
  },
  {
   "cell_type": "code",
   "execution_count": 22,
   "metadata": {},
   "outputs": [
    {
     "data": {
      "text/plain": [
       "5"
      ]
     },
     "execution_count": 22,
     "metadata": {},
     "output_type": "execute_result"
    }
   ],
   "source": [
    "from math import ceil,floor\n",
    "floor(5.8)"
   ]
  },
  {
   "cell_type": "markdown",
   "metadata": {},
   "source": [
    "- Python en son gördüğü fonksiyonu işleme alır."
   ]
  },
  {
   "cell_type": "code",
   "execution_count": 26,
   "metadata": {},
   "outputs": [
    {
     "name": "stdout",
     "output_type": "stream",
     "text": [
      "Merhaba dünya\n"
     ]
    }
   ],
   "source": [
    "def floor():\n",
    "    print(\"Merhaba dünya\")\n",
    "from math import*\n",
    "floor(5.8)\n",
    "\n",
    "from math import*\n",
    "def floor():\n",
    "    print(\"Merhaba dünya\")\n",
    "floor()"
   ]
  },
  {
   "cell_type": "markdown",
   "metadata": {},
   "source": [
    "Modül Yazma\n",
    "- Pythonda yazdığımız modülü başka projelerde kullanmak isteyebiliriz bunun için pythonda yazılan modül ve proje aynı klasör içinde bulunmalıdır. Bu şekilde yazılan modül import ifadesi ile ekrana yazdırılabilir. \n",
    "- Pythonda herzaman kullanmak isteyeceğimiz modülü bilgisayarımızda Python>Lib klasörüne atarak her zaman import ifadesi ile bu modüle erişim sağlayabiliriz. "
   ]
  },
  {
   "cell_type": "markdown",
   "metadata": {},
   "source": [
    "Random Modülü\n",
    "- Pythonda random değer üretmek istediğimizde kullancağımız modüldür.\n",
    "- .choice( ): Modül bu fonksiyonla bir liste içerisinden rastgele bir eleman seçer.\n",
    "- .randint( ): Modül bu fonksiyonla a sayısından b sayısına kadar olan sayılardan rasgele seçer."
   ]
  },
  {
   "cell_type": "code",
   "execution_count": 2,
   "metadata": {},
   "outputs": [
    {
     "name": "stdout",
     "output_type": "stream",
     "text": [
      "Adana\n",
      "41\n"
     ]
    }
   ],
   "source": [
    "import random \n",
    "list=[\"Ankara\",\"İstanbul\",\"Mersin\",\"Adana\",\"Hatay\",\"Çorum\"]\n",
    "a= random.choice(list) \n",
    "print(a)\n",
    "import random \n",
    "b= random.randint(0, 101) \n",
    "print(b)"
   ]
  },
  {
   "cell_type": "markdown",
   "metadata": {},
   "source": [
    "Time Modülü\n",
    "- Pythonda zamanla alakalı çeşitli fonksiyonlar sağlayan modüldür. \n",
    "- .sleep( ): Modül bu fonksiyonla parantez içine girilen değer kadar sn bekler."
   ]
  },
  {
   "cell_type": "code",
   "execution_count": 4,
   "metadata": {},
   "outputs": [
    {
     "name": "stdout",
     "output_type": "stream",
     "text": [
      "İşlem yapılıyor...\n",
      "19\n"
     ]
    }
   ],
   "source": [
    "import time\n",
    "x=int(input(\"Birinci sayı:\"))\n",
    "y=int(input(\"İkinci sayı:\"))\n",
    "print(\"İşlem yapılıyor...\")\n",
    "time.sleep(1)\n",
    "print(x+y)"
   ]
  }
 ],
 "metadata": {
  "kernelspec": {
   "display_name": "Python 3",
   "language": "python",
   "name": "python3"
  },
  "language_info": {
   "codemirror_mode": {
    "name": "ipython",
    "version": 3
   },
   "file_extension": ".py",
   "mimetype": "text/x-python",
   "name": "python",
   "nbconvert_exporter": "python",
   "pygments_lexer": "ipython3",
   "version": "3.10.7"
  },
  "orig_nbformat": 4
 },
 "nbformat": 4,
 "nbformat_minor": 2
}
