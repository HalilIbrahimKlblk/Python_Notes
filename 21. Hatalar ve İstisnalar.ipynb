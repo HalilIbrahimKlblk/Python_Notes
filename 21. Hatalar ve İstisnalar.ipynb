{
 "cells": [
  {
   "cell_type": "markdown",
   "metadata": {},
   "source": [
    "Hatalar ve İstisnalar\n",
    "- Python programlarında bazen bir değişkenin tanımlanmadan kullanılmaya çalıştırılması , bazen de yapılamayacak bir aritmetik işlemin yapılması Pythonda hatalara yol açar. Bu istisnai durumlarda, hataların türüne göre programlarımızı daha güvenli bir şekilde yazabiliriz."
   ]
  },
  {
   "cell_type": "markdown",
   "metadata": {},
   "source": [
    "NameError: Tanımlı olmayan değişkeni çağırdığımızda üretilecek hata."
   ]
  },
  {
   "cell_type": "code",
   "execution_count": 1,
   "metadata": {},
   "outputs": [
    {
     "ename": "NameError",
     "evalue": "name 'a' is not defined",
     "output_type": "error",
     "traceback": [
      "\u001b[1;31m---------------------------------------------------------------------------\u001b[0m",
      "\u001b[1;31mNameError\u001b[0m                                 Traceback (most recent call last)",
      "Cell \u001b[1;32mIn[1], line 1\u001b[0m\n\u001b[1;32m----> 1\u001b[0m \u001b[39mprint\u001b[39m(a)\n",
      "\u001b[1;31mNameError\u001b[0m: name 'a' is not defined"
     ]
    }
   ],
   "source": [
    "print(a)"
   ]
  },
  {
   "cell_type": "markdown",
   "metadata": {},
   "source": [
    "ValueError: Veri dönüştürme işlemi sırasında kullanıcının uygun olmayan bir veri girmesi halinde üretilecek hata."
   ]
  },
  {
   "cell_type": "code",
   "execution_count": 3,
   "metadata": {},
   "outputs": [
    {
     "ename": "ValueError",
     "evalue": "invalid literal for int() with base 10: '112abs'",
     "output_type": "error",
     "traceback": [
      "\u001b[1;31m---------------------------------------------------------------------------\u001b[0m",
      "\u001b[1;31mValueError\u001b[0m                                Traceback (most recent call last)",
      "Cell \u001b[1;32mIn[3], line 1\u001b[0m\n\u001b[1;32m----> 1\u001b[0m \u001b[39mprint\u001b[39m(\u001b[39mint\u001b[39;49m(\u001b[39m\"\u001b[39;49m\u001b[39m112abs\u001b[39;49m\u001b[39m\"\u001b[39;49m))\n",
      "\u001b[1;31mValueError\u001b[0m: invalid literal for int() with base 10: '112abs'"
     ]
    }
   ],
   "source": [
    "print(int(\"112abs\"))"
   ]
  },
  {
   "cell_type": "markdown",
   "metadata": {},
   "source": [
    "ZeroDivisionError: Eğer kullanıcı bir sayıyı 0'a bölmeye çalışırsa üretilecek olan hata."
   ]
  },
  {
   "cell_type": "code",
   "execution_count": 4,
   "metadata": {},
   "outputs": [
    {
     "ename": "ZeroDivisionError",
     "evalue": "division by zero",
     "output_type": "error",
     "traceback": [
      "\u001b[1;31m---------------------------------------------------------------------------\u001b[0m",
      "\u001b[1;31mZeroDivisionError\u001b[0m                         Traceback (most recent call last)",
      "Cell \u001b[1;32mIn[4], line 1\u001b[0m\n\u001b[1;32m----> 1\u001b[0m \u001b[39mprint\u001b[39m(\u001b[39m2\u001b[39;49m\u001b[39m/\u001b[39;49m\u001b[39m0\u001b[39;49m)\n",
      "\u001b[1;31mZeroDivisionError\u001b[0m: division by zero"
     ]
    }
   ],
   "source": [
    "print(2/0)"
   ]
  },
  {
   "cell_type": "markdown",
   "metadata": {},
   "source": [
    "SyntaxError: Python'da beklenmedik bir yerde beklenmedik bir işaretin bulunması ile üretilecek olan hata."
   ]
  },
  {
   "cell_type": "code",
   "execution_count": 5,
   "metadata": {},
   "outputs": [
    {
     "ename": "SyntaxError",
     "evalue": "invalid syntax. Perhaps you forgot a comma? (938464340.py, line 1)",
     "output_type": "error",
     "traceback": [
      "\u001b[1;36m  Cell \u001b[1;32mIn[5], line 1\u001b[1;36m\u001b[0m\n\u001b[1;33m    print(\"Halil\"İbrahim)\u001b[0m\n\u001b[1;37m          ^\u001b[0m\n\u001b[1;31mSyntaxError\u001b[0m\u001b[1;31m:\u001b[0m invalid syntax. Perhaps you forgot a comma?\n"
     ]
    }
   ],
   "source": [
    "print(\"Halil\"İbrahim)"
   ]
  },
  {
   "cell_type": "markdown",
   "metadata": {},
   "source": [
    "TypeError: Birbiri ile kullanılmayan veya çevrilemeyen 2 farklı türde değişkeni kullanırsanız üretilecek hata. "
   ]
  },
  {
   "cell_type": "code",
   "execution_count": 8,
   "metadata": {},
   "outputs": [
    {
     "ename": "TypeError",
     "evalue": "'set' object is not subscriptable",
     "output_type": "error",
     "traceback": [
      "\u001b[1;31m---------------------------------------------------------------------------\u001b[0m",
      "\u001b[1;31mTypeError\u001b[0m                                 Traceback (most recent call last)",
      "Cell \u001b[1;32mIn[8], line 2\u001b[0m\n\u001b[0;32m      1\u001b[0m a\u001b[39m=\u001b[39m{\u001b[39m1\u001b[39m,\u001b[39m2\u001b[39m,\u001b[39m3\u001b[39m}\n\u001b[1;32m----> 2\u001b[0m \u001b[39mprint\u001b[39m(a[\u001b[39m0\u001b[39;49m])\n",
      "\u001b[1;31mTypeError\u001b[0m: 'set' object is not subscriptable"
     ]
    }
   ],
   "source": [
    "a={1,2,3}\n",
    "print(a[0])"
   ]
  },
  {
   "cell_type": "markdown",
   "metadata": {},
   "source": [
    "try , except , finally Blokları:\n",
    "- Hataları yakalamak için try, except ve finally kod bloklarından faydalanırız. \n",
    "    - try, bir kod bloğunu hatalara karşı denetler. \n",
    "    - except, kod bloğundaki bir hata durumunda işlemler yapmayı sağlar. \n",
    "    - finally, try-except sonucu fark etmeksizin işlem hata tespit işlemi sonrasına çalıştırılan kod bloğudur."
   ]
  },
  {
   "cell_type": "code",
   "execution_count": 13,
   "metadata": {},
   "outputs": [
    {
     "name": "stdout",
     "output_type": "stream",
     "text": [
      "Lütfen 'int' değerler giriniz\n"
     ]
    }
   ],
   "source": [
    "try:\n",
    "    a=int(input(\"Değeri giriniz:\"))\n",
    "    print(a)\n",
    "except ValueError:\n",
    "    print(\"Lütfen 'int' değerler giriniz\")"
   ]
  },
  {
   "cell_type": "code",
   "execution_count": 19,
   "metadata": {},
   "outputs": [
    {
     "name": "stdout",
     "output_type": "stream",
     "text": [
      "Lütfen 'int' değerler giriniz.\n"
     ]
    }
   ],
   "source": [
    "try:\n",
    "    a=int(input(\"Birinci sayı:\"))\n",
    "    b=int(input(\"İkinci sayı:\"))\n",
    "    print(a/b)\n",
    "except ValueError:\n",
    "    print(\"Lütfen 'int' değerler giriniz.\")\n",
    "except ZeroDivisionError:\n",
    "    print(\"Bir sayı sıfıra bölünemez.\")"
   ]
  },
  {
   "cell_type": "code",
   "execution_count": 16,
   "metadata": {},
   "outputs": [
    {
     "name": "stdout",
     "output_type": "stream",
     "text": [
      "Lütfen 'int' değerler giriniz veya ikinci değeri sıfırdan farklı giriniz.\n"
     ]
    }
   ],
   "source": [
    "try:\n",
    "    a=int(input(\"Birinci sayı:\"))\n",
    "    b=int(input(\"İkinci sayı:\"))\n",
    "    print(a/b)\n",
    "except (ValueError, ZeroDivisionError):\n",
    "    print(\"Lütfen 'int' değerler giriniz veya ikinci değeri sıfırdan farklı giriniz.\")"
   ]
  },
  {
   "cell_type": "code",
   "execution_count": 23,
   "metadata": {},
   "outputs": [
    {
     "name": "stdout",
     "output_type": "stream",
     "text": [
      "Bir sayı sıfıra bölünemez.\n",
      "Finally çalıştı.\n"
     ]
    }
   ],
   "source": [
    "try:\n",
    "    a=int(input(\"Birinci sayı:\"))\n",
    "    b=int(input(\"İkinci sayı:\"))\n",
    "    print(a/b)\n",
    "except ValueError:\n",
    "    print(\"Lütfen 'int' değerler giriniz.\")\n",
    "except ZeroDivisionError:\n",
    "    print(\"Bir sayı sıfıra bölünemez.\")\n",
    "finally:\n",
    "    print(\"Finally çalıştı.\")"
   ]
  },
  {
   "cell_type": "markdown",
   "metadata": {},
   "source": [
    "raise Komutu: Uygulamanın hata vermesini isteyebiliriz. Bunun için raise komutu kullanırız."
   ]
  },
  {
   "cell_type": "code",
   "execution_count": 29,
   "metadata": {},
   "outputs": [
    {
     "name": "stdout",
     "output_type": "stream",
     "text": [
      "lilah\n",
      "Lütfen 'str' değerler giriniz.\n"
     ]
    }
   ],
   "source": [
    "def terstenoku(a):\n",
    "    if type(a)!=str:\n",
    "        raise ValueError(\"Lütfen 'str' değer gönderin\") \n",
    "    else:\n",
    "        print(a[::-1])\n",
    "\n",
    "terstenoku(\"halil\")\n",
    "try:\n",
    "    terstenoku(112)\n",
    "except ValueError:\n",
    "    print(\"Lütfen 'str' değerler giriniz.\")"
   ]
  },
  {
   "cell_type": "code",
   "execution_count": 30,
   "metadata": {},
   "outputs": [
    {
     "name": "stdout",
     "output_type": "stream",
     "text": [
      "345\n",
      "14\n"
     ]
    }
   ],
   "source": [
    "liste = [\"345\",\"sadas\",\"324a\",\"14\",\"kemal\"]\n",
    "\n",
    "for eleman in liste:    \n",
    "    try: \n",
    "        eleman = int(eleman) \n",
    "        print(eleman)\n",
    "    except:\n",
    "        pass"
   ]
  },
  {
   "cell_type": "markdown",
   "metadata": {},
   "source": [
    "Exception\n",
    "- Kodlarımızda beklenmedik durumlarda karşılaşacağımız hatalarda programın hata vermesi ya da kendini durdurması yerine hataya kendi istediğimiz şekilde cevap vermesini sağlama durumudur."
   ]
  },
  {
   "cell_type": "code",
   "execution_count": 4,
   "metadata": {},
   "outputs": [
    {
     "name": "stdout",
     "output_type": "stream",
     "text": [
      "Girdiğiniz sayı: 5\n"
     ]
    }
   ],
   "source": [
    "a=int(input(\"Bir sayı giriniz.\"))\n",
    "try:\n",
    "    if a<5:\n",
    "        raise Exception(\"Girdiğiniz sayı en az 5 olmalıdır.\")\n",
    "except Exception:\n",
    "    print(\"Girdiğiniz sayı en az 5 olmalıdır.\")\n",
    "else:\n",
    "    print(\"Girdiğiniz sayı:\",a)"
   ]
  }
 ],
 "metadata": {
  "kernelspec": {
   "display_name": "Python 3",
   "language": "python",
   "name": "python3"
  },
  "language_info": {
   "codemirror_mode": {
    "name": "ipython",
    "version": 3
   },
   "file_extension": ".py",
   "mimetype": "text/x-python",
   "name": "python",
   "nbconvert_exporter": "python",
   "pygments_lexer": "ipython3",
   "version": "3.10.7"
  },
  "orig_nbformat": 4
 },
 "nbformat": 4,
 "nbformat_minor": 2
}
