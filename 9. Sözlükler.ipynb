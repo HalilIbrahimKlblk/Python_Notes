{
 "cells": [
  {
   "cell_type": "markdown",
   "metadata": {},
   "source": [
    "Sözlükler\n",
    "- Süslü parantez içinde birbirinde virgül ile ayrılmış ögeler bulunan yapılara sözlükler denir.\n",
    "- Bu veri tipi 'dict' şeklindedir.\n",
    "- Boş sözlük oluşturmak için süslü parantez kullanılır yada değişkene dict tanımlanır.\n",
    "- Pythonda sözlük anahtar ve değer çiftlerinden oluşan ve bunlar arasında bağ kuran veri tipleridir."
   ]
  },
  {
   "cell_type": "code",
   "execution_count": 8,
   "metadata": {},
   "outputs": [
    {
     "name": "stdout",
     "output_type": "stream",
     "text": [
      "<class 'dict'>\n",
      "<class 'dict'>\n"
     ]
    }
   ],
   "source": [
    "a=dict()\n",
    "print(type(a))\n",
    "b={}\n",
    "print(type(b))"
   ]
  },
  {
   "cell_type": "code",
   "execution_count": 9,
   "metadata": {},
   "outputs": [
    {
     "name": "stdout",
     "output_type": "stream",
     "text": [
      "<class 'dict'>\n",
      "{'elma': 'apple', 'muz': 'banana'}\n"
     ]
    }
   ],
   "source": [
    "a={\"elma\":\"apple\",\"muz\":\"banana\"}\n",
    "print(type(a))\n",
    "print(a)"
   ]
  },
  {
   "cell_type": "markdown",
   "metadata": {},
   "source": [
    "- İç içe sözlüklerin kullanımı."
   ]
  },
  {
   "cell_type": "code",
   "execution_count": 2,
   "metadata": {},
   "outputs": [
    {
     "name": "stdout",
     "output_type": "stream",
     "text": [
      "apple\n"
     ]
    }
   ],
   "source": [
    "a={\"meyveler\":{\"elma\":\"apple\",\"muz\":\"banana\"},\"sayılar\":{\"bir\":\"one\",\"iki\":\"two\"}}\n",
    "print(a[\"meyveler\"][\"elma\"])"
   ]
  },
  {
   "cell_type": "markdown",
   "metadata": {},
   "source": [
    "- Sözlüklerin uzunluğu len( ) fonksiyonu ile hesaplanabilir."
   ]
  },
  {
   "cell_type": "code",
   "execution_count": 10,
   "metadata": {},
   "outputs": [
    {
     "name": "stdout",
     "output_type": "stream",
     "text": [
      "2\n"
     ]
    }
   ],
   "source": [
    "a={\"elma\":\"apple\",\"muz\":\"banana\"}\n",
    "print(len(a))"
   ]
  },
  {
   "cell_type": "markdown",
   "metadata": {},
   "source": [
    "- Sözlüklerde değerler soldakine yani anahtara göre ve köşeli parantez kullanarak çağırılır. "
   ]
  },
  {
   "cell_type": "code",
   "execution_count": 11,
   "metadata": {},
   "outputs": [
    {
     "name": "stdout",
     "output_type": "stream",
     "text": [
      "apple\n"
     ]
    }
   ],
   "source": [
    "a={\"elma\":\"apple\",\"muz\":\"banana\",\"armut\":\"pear\",\"vişne\":\"cherry\"}\n",
    "print(a[\"elma\"])"
   ]
  },
  {
   "cell_type": "markdown",
   "metadata": {},
   "source": [
    "- Sözlüklere yeni öge eklemek."
   ]
  },
  {
   "cell_type": "code",
   "execution_count": 12,
   "metadata": {},
   "outputs": [
    {
     "name": "stdout",
     "output_type": "stream",
     "text": [
      "{'elma': 'apple', 'muz': 'banana', 'armut': 'pear', 'vişne': 'cherry', 'kavun': 'melon'}\n"
     ]
    }
   ],
   "source": [
    "a={\"elma\":\"apple\",\"muz\":\"banana\",\"armut\":\"pear\",\"vişne\":\"cherry\"}\n",
    "a[\"kavun\"]=\"melon\"\n",
    "print(a)"
   ]
  },
  {
   "cell_type": "markdown",
   "metadata": {},
   "source": [
    "- Sözlükteki ögeyi güncellemek ve değiştirmek."
   ]
  },
  {
   "cell_type": "code",
   "execution_count": 13,
   "metadata": {},
   "outputs": [
    {
     "name": "stdout",
     "output_type": "stream",
     "text": [
      "{'elma': 'melon', 'muz': 'banana', 'armut': 'pear', 'vişne': 'cherry'}\n"
     ]
    }
   ],
   "source": [
    "a={\"elma\":\"apple\",\"muz\":\"banana\",\"armut\":\"pear\",\"vişne\":\"cherry\"}\n",
    "a[\"elma\"]=\"melon\"\n",
    "print(a)"
   ]
  },
  {
   "cell_type": "markdown",
   "metadata": {},
   "source": [
    "- Sözlükteki bir ögeyi silmek."
   ]
  },
  {
   "cell_type": "code",
   "execution_count": 14,
   "metadata": {},
   "outputs": [
    {
     "name": "stdout",
     "output_type": "stream",
     "text": [
      "{'muz': 'banana', 'armut': 'pear', 'vişne': 'cherry'}\n"
     ]
    }
   ],
   "source": [
    "a={\"elma\":\"apple\",\"muz\":\"banana\",\"armut\":\"pear\",\"vişne\":\"cherry\"}\n",
    "del a[\"elma\"]\n",
    "print(a)"
   ]
  },
  {
   "cell_type": "markdown",
   "metadata": {},
   "source": [
    "Temel sözlük metotları ve işlemleri"
   ]
  },
  {
   "cell_type": "markdown",
   "metadata": {},
   "source": [
    "- . keys( ) Metodu: Bu metod sözlük içindeki tüm anahtarları ekrana yazdırır."
   ]
  },
  {
   "cell_type": "code",
   "execution_count": 15,
   "metadata": {},
   "outputs": [
    {
     "name": "stdout",
     "output_type": "stream",
     "text": [
      "dict_keys(['elma', 'muz'])\n"
     ]
    }
   ],
   "source": [
    "a={\"elma\":\"apple\",\"muz\":\"banana\"}\n",
    "print(a.keys())"
   ]
  },
  {
   "cell_type": "markdown",
   "metadata": {},
   "source": [
    "- . values( ) Metodu: Bu metod sözlük içindeki tüm değerleri ekrana yazdırır."
   ]
  },
  {
   "cell_type": "code",
   "execution_count": 16,
   "metadata": {},
   "outputs": [
    {
     "name": "stdout",
     "output_type": "stream",
     "text": [
      "dict_values(['apple', 'banana'])\n"
     ]
    }
   ],
   "source": [
    "a={\"elma\":\"apple\",\"muz\":\"banana\"}\n",
    "print(a.values())"
   ]
  },
  {
   "cell_type": "markdown",
   "metadata": {},
   "source": [
    "- . items( ) Metodu: Bu metod sözlük içindeki tüm anahtarları ve değerleri ekrana yazdırır."
   ]
  },
  {
   "cell_type": "code",
   "execution_count": 17,
   "metadata": {},
   "outputs": [
    {
     "name": "stdout",
     "output_type": "stream",
     "text": [
      "dict_items([('elma', 'apple'), ('muz', 'banana')])\n"
     ]
    }
   ],
   "source": [
    "a={\"elma\":\"apple\",\"muz\":\"banana\"}\n",
    "print(a.items())"
   ]
  },
  {
   "cell_type": "markdown",
   "metadata": {},
   "source": [
    "- Sözlük içindeki anahtarları ve değerleri for döngüsü ile alt alta ekrana yazdırılabilir."
   ]
  },
  {
   "cell_type": "code",
   "execution_count": 22,
   "metadata": {},
   "outputs": [
    {
     "name": "stdout",
     "output_type": "stream",
     "text": [
      "('elma', 'apple')\n",
      "('muz', 'banana')\n",
      "elma=apple\n",
      "muz=banana\n"
     ]
    }
   ],
   "source": [
    "a={\"elma\":\"apple\",\"muz\":\"banana\"}\n",
    "for i in a.items():\n",
    "    print(i)\n",
    "for k,v in a.items():\n",
    "    print(f\"{k}={v}\")"
   ]
  },
  {
   "cell_type": "markdown",
   "metadata": {},
   "source": [
    ". clear( ) Metodu: Bu metod sözlük içindeki tüm ögeleri silmek için kullanılır."
   ]
  },
  {
   "cell_type": "code",
   "execution_count": 23,
   "metadata": {},
   "outputs": [
    {
     "name": "stdout",
     "output_type": "stream",
     "text": [
      "None\n"
     ]
    }
   ],
   "source": [
    "a={\"elma\":\"apple\",\"muz\":\"banana\"}\n",
    "print(a.clear())"
   ]
  },
  {
   "cell_type": "markdown",
   "metadata": {},
   "source": [
    ". get( ) Metodu: Bu metod aranan değerin sözlükte olup olmadığını kontrol eder ve ekrana yazdırır."
   ]
  },
  {
   "cell_type": "code",
   "execution_count": 25,
   "metadata": {},
   "outputs": [
    {
     "name": "stdout",
     "output_type": "stream",
     "text": [
      "apple\n"
     ]
    }
   ],
   "source": [
    "a={\"elma\":\"apple\",\"muz\":\"banana\"}\n",
    "print(a.get(\"elma\"))"
   ]
  }
 ],
 "metadata": {
  "kernelspec": {
   "display_name": "Python 3",
   "language": "python",
   "name": "python3"
  },
  "language_info": {
   "codemirror_mode": {
    "name": "ipython",
    "version": 3
   },
   "file_extension": ".py",
   "mimetype": "text/x-python",
   "name": "python",
   "nbconvert_exporter": "python",
   "pygments_lexer": "ipython3",
   "version": "3.10.7"
  },
  "orig_nbformat": 4
 },
 "nbformat": 4,
 "nbformat_minor": 2
}
