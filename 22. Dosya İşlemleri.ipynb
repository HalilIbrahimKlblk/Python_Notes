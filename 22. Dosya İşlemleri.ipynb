{
 "cells": [
  {
   "cell_type": "markdown",
   "metadata": {},
   "source": [
    "Dosya İşlemleri\n",
    "- open tagı bu klasöre bir metin dosyası açmak için kullanılır.\n",
    "- dosya=open(\"dosya adı.txt\",\"erişim kipi\")\n",
    "- dosya.close() tagı ile dosya kapatılır."
   ]
  },
  {
   "cell_type": "code",
   "execution_count": 1,
   "metadata": {},
   "outputs": [],
   "source": [
    "dosya=open(\"deneme.txt\")\n",
    "dosya.close()"
   ]
  },
  {
   "cell_type": "markdown",
   "metadata": {},
   "source": [
    "- encoding=\" \" Parametresi: Dosyaya hangi dil ile yazılacağını belirtmek için kullanılan parametredir. Türkçe karkter kullandığımızı utf-8 belirtmek zorundayız yoksa hata alırız."
   ]
  },
  {
   "cell_type": "code",
   "execution_count": null,
   "metadata": {},
   "outputs": [],
   "source": [
    "dosya=open(\"deneme.txt\",encoding=\"utf-8\")\n",
    "dosya.close()"
   ]
  },
  {
   "cell_type": "markdown",
   "metadata": {},
   "source": [
    "- \"x\" Kipi: Sıfırdan bir dosya oluşturuken kullanılır yani oluşturmak istenen dizinde deneme.txt adlı dosya varsa onun silinmesini önler ve hata verir."
   ]
  },
  {
   "cell_type": "code",
   "execution_count": null,
   "metadata": {},
   "outputs": [],
   "source": [
    "dosya=open(\"deneme.txt\",\"x\",encoding=\"utf-8\")\n",
    "dosya.close()"
   ]
  },
  {
   "cell_type": "markdown",
   "metadata": {},
   "source": [
    "- \"w\" Kipi: Yazı yazdırma komutudur oluşturmak istenen dizinde deneme.txt dosyası varsa direk ona yazdırır yoksa dosyayı açar öyle yazdırır."
   ]
  },
  {
   "cell_type": "code",
   "execution_count": null,
   "metadata": {},
   "outputs": [],
   "source": [
    "dosya=open(\"deneme.txt\",\"w\",encoding=\"utf-8\")\n",
    "dosya.close()"
   ]
  },
  {
   "cell_type": "markdown",
   "metadata": {},
   "source": [
    "- \"a\" Kipi: Yazı yazdırma komutudur dosyaya yeni veriler ekleyebiliriz yani dizinde deneme.txt dosyası varsa içindekileri silmeden içine ekler, yoksa dosya açar yeni dosyaya ekler."
   ]
  },
  {
   "cell_type": "code",
   "execution_count": null,
   "metadata": {},
   "outputs": [],
   "source": [
    "dosya=open(\"deneme.txt\",\"a\",encoding=\"utf-8\")\n",
    "dosya.close()"
   ]
  },
  {
   "cell_type": "markdown",
   "metadata": {},
   "source": [
    "- Listedeki ögeleri şekildeki gibi for döngüsü kullanarak alt alta txt dosyasının içine yazdırabilirz."
   ]
  },
  {
   "cell_type": "code",
   "execution_count": null,
   "metadata": {},
   "outputs": [],
   "source": [
    "l=[1,2,3,4,5]\n",
    "f=open(\"deneme.txt\",\"x\",encoding=\"utf-8\")\n",
    "for i in l:\n",
    "    f.write(i+\"\\n\")\n",
    "f.close()"
   ]
  },
  {
   "cell_type": "markdown",
   "metadata": {},
   "source": [
    "- Sıfırdan python.txt adında dosyayı açtık.\n",
    "- python.txt dosyasına belittiğimiz ifadeyi yazdırdık.\n",
    "- python.txt dosyasını .close( ) ile kapattık.\n",
    "- python.txt adında dosyayı içindekileri silmeden açtık.\n",
    "- Dosyaya \"a\" kipi ile ikinci satırı ekledik.\n",
    "- python.txt dosyasını .close( ) ile kapattık."
   ]
  },
  {
   "cell_type": "code",
   "execution_count": null,
   "metadata": {},
   "outputs": [],
   "source": [
    "dosya=open(\"python.txt\",\"x\",encoding=\"utf-8\")\n",
    "dosya.write(\"Merhaba zalim dünya\") \n",
    "dosya.close()\n",
    "dosya=open(\"python.txt\",\"a\",encoding=\"utf-8\")\n",
    "dosya.write(\"Merhaba zalim dünya\") \n",
    "dosya.close()"
   ]
  },
  {
   "cell_type": "markdown",
   "metadata": {},
   "source": [
    "- Python write fonksiyonu ile ancak karakter dizini kaydedebiliriz listeleri kaydedememiz için bu writelines fonksiyonu kullanılır."
   ]
  },
  {
   "cell_type": "code",
   "execution_count": null,
   "metadata": {},
   "outputs": [],
   "source": [
    "dosya=open(\"writelines.txt\",\"x\",encoding=\"utf-8\")\n",
    "dosya.writelines([\"aaaaaaaa \\n\"\n",
    "                  \"bbbbbbbb \\n\" \n",
    "                  \"cccccccc \\n\" \n",
    "                  \"dddddddd \\n\"])"
   ]
  },
  {
   "cell_type": "markdown",
   "metadata": {},
   "source": [
    "- Başka bir konumda dosya açmak için  klasör yolu belirtilir.\n",
    "- Yol olarak kopyalanan ifadeler \\ \\ şeklinde yazılır \"\\n\" , \"\\t\" gibi ifadelerle karışmaması için."
   ]
  },
  {
   "cell_type": "code",
   "execution_count": null,
   "metadata": {},
   "outputs": [],
   "source": [
    "dosya=open(\"C:\\\\Users\\\\HALİL İBRAHİM\",encoding=\"utf-8\")\n",
    "dosya.close()"
   ]
  },
  {
   "cell_type": "markdown",
   "metadata": {},
   "source": [
    "Dosya Okumak\n",
    "- \"r\" Kipi: Okuma komutudur yazılan yazının sadece okunabileceğini veri girişi yapılamayacağını belirten kiptir."
   ]
  },
  {
   "cell_type": "code",
   "execution_count": null,
   "metadata": {},
   "outputs": [],
   "source": [
    "dosya=open(\"deneme.txt\",\"r\",encoding=\"utf-8\")\n",
    "dosya.close()"
   ]
  },
  {
   "cell_type": "code",
   "execution_count": null,
   "metadata": {},
   "outputs": [],
   "source": [
    "try:    \n",
    "    dosya=open(\"deneme.txt\",\"r\",encoding=\"utf-8\")\n",
    "except FileNotFoundError:\n",
    "    print(\"HATA! \\nDaha önce oluşturulmamış bir dosya okunmaya çalışılıyor...\")\n",
    "dosya.close()"
   ]
  },
  {
   "cell_type": "markdown",
   "metadata": {},
   "source": [
    "- .read( ) şeklinde dosya okuması yapılabilir."
   ]
  },
  {
   "cell_type": "code",
   "execution_count": null,
   "metadata": {},
   "outputs": [],
   "source": [
    "dosya=open(\"deneme.txt\",\"r\",encoding=\"utf-8\")\n",
    "print(dosya.read())\n",
    "dosya.close()"
   ]
  },
  {
   "cell_type": "markdown",
   "metadata": {},
   "source": [
    "seek( ) Fonksiyonu: Pythonda bazı fonksiyonlar çalıştırıldığında bir satırı okuyacaktır. En başa yada istediğimiz yere dönmesi için kullanılır."
   ]
  },
  {
   "cell_type": "code",
   "execution_count": null,
   "metadata": {},
   "outputs": [],
   "source": [
    "dosya=open(\"deneme.txt\",\"r\",encoding=\"utf-8\")\n",
    "print(dosya.readline())\n",
    "dosya.close()"
   ]
  },
  {
   "cell_type": "markdown",
   "metadata": {},
   "source": [
    "tell( ) Fonksiyonu: Dosya okuma işlemi yapılırken o anki satırın dosyanın kaçıncı byt’ında olduğunu öğrenmek için kullanılır."
   ]
  },
  {
   "cell_type": "code",
   "execution_count": null,
   "metadata": {},
   "outputs": [],
   "source": [
    "dosya=open(\"deneme.txt\",\"r\")\n",
    "print(dosya.tell())\n",
    "dosya.close()"
   ]
  },
  {
   "cell_type": "markdown",
   "metadata": {},
   "source": [
    "\n",
    "- .readlines tagı dosyanın içindekileri bir liste şeklinde okur.\n",
    "- Readline( ) fonksiyonun readlines() ile farkı bu fonksiyon sadece dosyada belirli bir kısmını okumasını sağlar."
   ]
  },
  {
   "cell_type": "code",
   "execution_count": null,
   "metadata": {},
   "outputs": [],
   "source": [
    "dosya=open(\"deneme.txt\",\"r\",encoding=\"utf-8\")\n",
    "print(dosya.readlines())"
   ]
  },
  {
   "cell_type": "markdown",
   "metadata": {},
   "source": [
    "Dosyayı otomatik kapatma: with open(\"Dosya adı\",\"Dosya kipi\") as file:"
   ]
  },
  {
   "cell_type": "code",
   "execution_count": null,
   "metadata": {},
   "outputs": [],
   "source": [
    "with open(\"deneme.txt\",\"r\",encoding=\"utf-8\") as dosya:\n",
    "    dosya.write(\"Merhaba zalim dünya\") "
   ]
  },
  {
   "cell_type": "markdown",
   "metadata": {},
   "source": [
    "- Hem okuma hem yazma yapmak için \"r+\" kipi kullanılır. Dosyanın üzerine yazılır."
   ]
  },
  {
   "cell_type": "code",
   "execution_count": null,
   "metadata": {},
   "outputs": [],
   "source": [
    "with open(\"deneme.txt\",\"r+\",encoding=\"utf-8\") as dosya:\n",
    "    dosya.read() \n",
    "    dosya.write(\"Python\") "
   ]
  },
  {
   "cell_type": "markdown",
   "metadata": {},
   "source": [
    "- Dosyanın başına ekleme yapmak için şekildeki gibi işlem yapılır."
   ]
  },
  {
   "cell_type": "code",
   "execution_count": null,
   "metadata": {},
   "outputs": [],
   "source": [
    "with open(\"deneme.txt\",\"r+\",encoding=\"utf-8\") as dosya:\n",
    "    icerik=dosya.read() \n",
    "    icerik=\"Python\\n\"+icerik\n",
    "    print(icerik)"
   ]
  },
  {
   "cell_type": "markdown",
   "metadata": {},
   "source": [
    "- Dosyanın ortasına ekleme yapmak için şekildeki gibi işlem yapılır."
   ]
  },
  {
   "cell_type": "code",
   "execution_count": null,
   "metadata": {},
   "outputs": [],
   "source": [
    "with open(\"deneme.txt\",\"r+\",encoding=\"utf-8\") as dosya:\n",
    "    liste=dosya.readlines()\n",
    "    liste.insert(2,\"Python\")\n",
    "    dosya.seek(0)\n",
    "    dosya.writelines(liste)"
   ]
  },
  {
   "cell_type": "markdown",
   "metadata": {},
   "source": [
    "- Dosyanın sonuna ekleme yapmak için şekildeki gibi işlem yapılır."
   ]
  },
  {
   "cell_type": "code",
   "execution_count": null,
   "metadata": {},
   "outputs": [],
   "source": [
    "with open(\"deneme.txt\",\"a\",encoding=\"utf-8\") as dosya:\n",
    "    dosya.write(\"Python\")"
   ]
  },
  {
   "cell_type": "markdown",
   "metadata": {},
   "source": [
    "İmport os: Os modülü Pythonda hazır olarak gelen dosya ve dizinlerde kolaylıkla işlemler yapmamızı sağlayan bir modüldür."
   ]
  },
  {
   "cell_type": "markdown",
   "metadata": {},
   "source": [
    "- os.remove tagı dosya silmek için kullanılır os tagı import içine alınır ve remove'nin içine silinecek dosyanın adı yada yolu yazılır."
   ]
  },
  {
   "cell_type": "code",
   "execution_count": null,
   "metadata": {},
   "outputs": [],
   "source": [
    "import os\n",
    "os.remove(\"deneme.txt\")"
   ]
  },
  {
   "cell_type": "markdown",
   "metadata": {},
   "source": [
    "- os.rename tagı dosyanın adını değiştirmek için kullanılan tagdır."
   ]
  },
  {
   "cell_type": "code",
   "execution_count": null,
   "metadata": {},
   "outputs": [],
   "source": [
    "import os\n",
    "os.rename(\"deneme.txt\", \"dene.txt\")"
   ]
  }
 ],
 "metadata": {
  "kernelspec": {
   "display_name": "Python 3",
   "language": "python",
   "name": "python3"
  },
  "language_info": {
   "codemirror_mode": {
    "name": "ipython",
    "version": 3
   },
   "file_extension": ".py",
   "mimetype": "text/x-python",
   "name": "python",
   "nbconvert_exporter": "python",
   "pygments_lexer": "ipython3",
   "version": "3.10.7"
  },
  "orig_nbformat": 4
 },
 "nbformat": 4,
 "nbformat_minor": 2
}
