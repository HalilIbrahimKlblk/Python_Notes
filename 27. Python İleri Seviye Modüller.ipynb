{
 "cells": [
  {
   "cell_type": "markdown",
   "metadata": {},
   "source": [
    "Datetime Modülü"
   ]
  },
  {
   "cell_type": "code",
   "execution_count": 1,
   "metadata": {},
   "outputs": [
    {
     "name": "stdout",
     "output_type": "stream",
     "text": [
      "2023-09-11 14:22:35.218048\n",
      "2023-09-11 14:22:35.218049\n"
     ]
    }
   ],
   "source": [
    "from datetime import datetime\n",
    "now=datetime.now()\n",
    "print(now)\n",
    "today=datetime.today()\n",
    "print(today)"
   ]
  },
  {
   "cell_type": "code",
   "execution_count": 10,
   "metadata": {},
   "outputs": [
    {
     "name": "stdout",
     "output_type": "stream",
     "text": [
      "2023-09-06 11:26:01.662908\n",
      "Yıl: 2023\n",
      "Ay: 9\n",
      "Gün: 6\n",
      "Saat: 11\n",
      "Dakika: 26\n"
     ]
    }
   ],
   "source": [
    "from datetime import datetime\n",
    "now=datetime.now()\n",
    "print(now)\n",
    "print(\"Yıl:\",now.year)\n",
    "print(\"Ay:\",now.month)\n",
    "print(\"Gün:\",now.day)\n",
    "print(\"Saat:\",now.hour)\n",
    "print(\"Dakika:\",now.minute)"
   ]
  },
  {
   "cell_type": "code",
   "execution_count": 5,
   "metadata": {},
   "outputs": [
    {
     "name": "stdout",
     "output_type": "stream",
     "text": [
      "Sat Sep  9 11:22:03 2023\n"
     ]
    }
   ],
   "source": [
    "from datetime import datetime\n",
    "now=datetime.now()\n",
    "print(datetime.ctime(now))"
   ]
  },
  {
   "cell_type": "code",
   "execution_count": 18,
   "metadata": {},
   "outputs": [
    {
     "name": "stdout",
     "output_type": "stream",
     "text": [
      "Yıl: 2023\n",
      "Ay: September\n",
      "Gün: 09/09/23\n",
      "Gün Adı: Saturday\n",
      "Saat: 11:27:51\n"
     ]
    }
   ],
   "source": [
    "from datetime import datetime\n",
    "now=datetime.now()\n",
    "print(\"Yıl:\",datetime.strftime(now,\"%Y\"))\n",
    "print(\"Ay:\",datetime.strftime(now,\"%B\"))\n",
    "print(\"Gün:\",datetime.strftime(now,\"%D\"))\n",
    "print(\"Gün Adı:\",datetime.strftime(now,\"%A\"))\n",
    "print(\"Saat:\",datetime.strftime(now,\"%X\"))"
   ]
  },
  {
   "cell_type": "markdown",
   "metadata": {},
   "source": [
    "- Yazıları taihe çevirmek"
   ]
  },
  {
   "cell_type": "code",
   "execution_count": 4,
   "metadata": {},
   "outputs": [
    {
     "name": "stdout",
     "output_type": "stream",
     "text": [
      "1923-04-23 10:12:30\n"
     ]
    }
   ],
   "source": [
    "from datetime import datetime\n",
    "now=datetime.now()\n",
    "tarih=\"23 April 1923 hour 10:12:30\"\n",
    "dt=datetime.strptime(tarih,\"%d %B %Y hour %H:%M:%S\")\n",
    "print(dt)"
   ]
  },
  {
   "cell_type": "markdown",
   "metadata": {},
   "source": [
    "- İleri bir tarih hesaplama"
   ]
  },
  {
   "cell_type": "code",
   "execution_count": 8,
   "metadata": {},
   "outputs": [
    {
     "name": "stdout",
     "output_type": "stream",
     "text": [
      "2023-09-28 21:10:41.874903\n"
     ]
    }
   ],
   "source": [
    "from datetime import datetime\n",
    "from datetime import timedelta\n",
    "result=datetime.now()+timedelta(days=17)\n",
    "print(result)"
   ]
  },
  {
   "cell_type": "markdown",
   "metadata": {},
   "source": [
    "- Gün / ay / yıl isimlerini modül kullanarak ingilizceden türkçeye çevirmek."
   ]
  },
  {
   "cell_type": "code",
   "execution_count": 2,
   "metadata": {},
   "outputs": [
    {
     "name": "stdout",
     "output_type": "stream",
     "text": [
      "Cumartesi 09/09/23 Eylül 2023\n"
     ]
    }
   ],
   "source": [
    "from datetime import datetime\n",
    "import locale\n",
    "locale.setlocale(locale.LC_ALL,\"\")\n",
    "now=datetime.now()\n",
    "print(datetime.strftime(now,\"%A %D %B %Y\"))"
   ]
  },
  {
   "cell_type": "markdown",
   "metadata": {},
   "source": [
    "timestamp() fromtimestamp()\n",
    "- Şu anki zamanı saniye cinsinden bulmak için datetime objemizi timestamp() fonksiyonumuza gönderebiliriz. Saniye cinsinden verilmiş bir zamanı da fromtimestamp fonksiyonuyla datetime objesine çevirebiliriz."
   ]
  },
  {
   "cell_type": "code",
   "execution_count": 7,
   "metadata": {},
   "outputs": [
    {
     "name": "stdout",
     "output_type": "stream",
     "text": [
      "Saniye: 1694249065.134465\n",
      "Tarih: 2023-09-09 11:44:25.134465\n"
     ]
    }
   ],
   "source": [
    "from datetime import datetime\n",
    "import locale\n",
    "locale.setlocale(locale.LC_ALL,\"\")\n",
    "now=datetime.now()\n",
    "saniye=datetime.timestamp(now)\n",
    "print(\"Saniye:\",saniye)\n",
    "şuan=datetime.fromtimestamp(saniye)\n",
    "print(\"Tarih:\",şuan)"
   ]
  },
  {
   "cell_type": "markdown",
   "metadata": {},
   "source": [
    "- Belirli iki tarih arasındaki farkı bulmak."
   ]
  },
  {
   "cell_type": "code",
   "execution_count": 17,
   "metadata": {},
   "outputs": [
    {
     "name": "stdout",
     "output_type": "stream",
     "text": [
      "Yaşınız: 19\n"
     ]
    }
   ],
   "source": [
    "doğum=datetime(2004,8,20)\n",
    "şuan=datetime.now()\n",
    "fark= şuan - doğum\n",
    "print(\"Yaşınız:\",int(fark.days/365))"
   ]
  },
  {
   "cell_type": "code",
   "execution_count": 5,
   "metadata": {},
   "outputs": [
    {
     "name": "stdout",
     "output_type": "stream",
     "text": [
      "17 Gün Kaldı\n"
     ]
    }
   ],
   "source": [
    "doğum=datetime(2023,9,29)\n",
    "şuan=datetime.now()\n",
    "fark= şuan - doğum\n",
    "fark= -fark\n",
    "print(fark.days,\"Gün Kaldı\")"
   ]
  },
  {
   "cell_type": "markdown",
   "metadata": {},
   "source": [
    "Os Modülü"
   ]
  },
  {
   "cell_type": "markdown",
   "metadata": {},
   "source": [
    "- Dosyanın hangi dizinde olduğunu kontrol eder."
   ]
  },
  {
   "cell_type": "code",
   "execution_count": 25,
   "metadata": {},
   "outputs": [
    {
     "name": "stdout",
     "output_type": "stream",
     "text": [
      "c:\\Users\\HALİL İBRAHİM\\OneDrive\\Masaüstü\\Python Notes\n"
     ]
    }
   ],
   "source": [
    "import os\n",
    "print(os.getcwd())"
   ]
  },
  {
   "cell_type": "markdown",
   "metadata": {},
   "source": [
    "- Dosyanın olduğu dizini değiştirir."
   ]
  },
  {
   "cell_type": "code",
   "execution_count": null,
   "metadata": {},
   "outputs": [],
   "source": [
    "import os\n",
    "os.chdir(\"C\\Users\\HALİL İBRAHİM\\OneDrive\\Masaüstü\")\n",
    "print(os.getcwd())"
   ]
  },
  {
   "cell_type": "markdown",
   "metadata": {},
   "source": [
    "- Klasörün içindeki dosyaları ekrana yazdırır."
   ]
  },
  {
   "cell_type": "code",
   "execution_count": 32,
   "metadata": {},
   "outputs": [
    {
     "name": "stdout",
     "output_type": "stream",
     "text": [
      "1. Sayı Tipleri.ipynb\n",
      "10. Kümeler.ipynb\n",
      "11. İnput Alma.ipynb\n",
      "12. Karşılaştırma-Mantık Operatörleri.ipynb\n",
      "13. Koşullu Durumlar.ipynb\n",
      "14. For Döngüsü.ipynb\n",
      "15. While Döngüsü-Break-Continue.ipynb\n",
      "16. List Comprehension.ipynb\n",
      "17. Fonksiyonlar.ipynb\n",
      "18. Fonksiyon Parametreleri.ipynb\n",
      "19. Modüller.ipynb\n",
      "2. Matematik Operatörleri.ipynb\n",
      "20. Nesne Tabanlı Programlama ve Class Yapısı.ipynb\n",
      "21. Hatalar ve İstisnalar.ipynb\n",
      "22. Dosya İşlemleri.ipynb\n",
      "23. İleri Seviye Veri Yapıları.ipynb\n",
      "24. Decoratorlar ve İleri Seviye Fonksiyonlar.ipynb\n",
      "25. Python Gömülü Fonksiyonlar.ipynb\n",
      "26. Pythonda Iteratorlar ve Generatorlar.ipynb\n",
      "27. Pyhon İleri Seviye Modüller.ipynb\n",
      "3. Değişken Tanımlama.ipynb\n",
      "4. Stringler.ipynb\n",
      "5. Veri Tipi Dönüşümleri.ipynb\n",
      "6. Print ve Formatlama.ipynb\n",
      "7. Listeler.ipynb\n",
      "8. Demetler.ipynb\n",
      "9. Sözlükler.ipynb\n"
     ]
    }
   ],
   "source": [
    "import os\n",
    "os.chdir(\"C:\\\\Users\\\\HALİL İBRAHİM\\\\OneDrive\\\\Masaüstü\\\\Python Notes\")\n",
    "for i in os.listdir():\n",
    "    print(i)"
   ]
  },
  {
   "cell_type": "markdown",
   "metadata": {},
   "source": [
    "- Klasörün içindeki .py uzantılı dosyaları ekrana yazdırır."
   ]
  },
  {
   "cell_type": "code",
   "execution_count": null,
   "metadata": {},
   "outputs": [],
   "source": [
    "import os\n",
    "for i in os.listdir():\n",
    "    if i.endswith(\".py\"):\n",
    "        print(i)"
   ]
  },
  {
   "cell_type": "markdown",
   "metadata": {},
   "source": [
    "- Bulunduğumuz dizinde yeni klasör oluşturmak."
   ]
  },
  {
   "cell_type": "code",
   "execution_count": null,
   "metadata": {},
   "outputs": [],
   "source": [
    "import os\n",
    "print(os.getcwd())\n",
    "os.mkdir(\"Deneme\")\n",
    "os.makedirs(\"Deneme\\\\Python\") # İç içe klasör oluşturma."
   ]
  },
  {
   "cell_type": "markdown",
   "metadata": {},
   "source": [
    "- Farklı bir dizinde yeni klasör oluşturmak."
   ]
  },
  {
   "cell_type": "code",
   "execution_count": null,
   "metadata": {},
   "outputs": [],
   "source": [
    "import os\n",
    "os.chdir(\"C\\Users\\HALİL İBRAHİM\\OneDrive\\Masaüstü\")\n",
    "os.mkdir(\"Deneme\")"
   ]
  },
  {
   "cell_type": "markdown",
   "metadata": {},
   "source": [
    "- Üst klasöre gitmek."
   ]
  },
  {
   "cell_type": "code",
   "execution_count": null,
   "metadata": {},
   "outputs": [],
   "source": [
    "import os\n",
    "os.chdir(\"..\") # Üst klasöre geçmek için kullanılır.\n",
    "os.chdir(\"../..\") # 2 üst klasöre geçmek için kullanılır."
   ]
  },
  {
   "cell_type": "markdown",
   "metadata": {},
   "source": [
    "- Bulunduğumuz dizindeki klasör silmek."
   ]
  },
  {
   "cell_type": "code",
   "execution_count": null,
   "metadata": {},
   "outputs": [],
   "source": [
    "import os\n",
    "print(os.getcwd())\n",
    "os.rmdir(\"Deneme\")\n",
    "os.rmdir(\"Deneme\\\\Python\") # İçerideki klasörü silme.\n",
    "os.removedirs(\"Deneme\\\\Python\") # Çoklu klasör silme."
   ]
  },
  {
   "cell_type": "markdown",
   "metadata": {},
   "source": [
    "- İstediğimiz dosyanın adını değiştirmek."
   ]
  },
  {
   "cell_type": "code",
   "execution_count": null,
   "metadata": {},
   "outputs": [],
   "source": [
    "import os\n",
    "os.rename(\"Deneme.txt\",\"Deneme_2.txt\")"
   ]
  },
  {
   "cell_type": "markdown",
   "metadata": {},
   "source": [
    "- İstediğimiz dosyanın özelliklerini ekrana yazdırmak."
   ]
  },
  {
   "cell_type": "code",
   "execution_count": null,
   "metadata": {},
   "outputs": [],
   "source": [
    "import os\n",
    "print(os.stat(\"Deneme.txt\"))\n",
    "print(os.stat(\"Deneme.txt\").st_size) # Dosyanın büyüklüğü\n",
    "print(os.stat(\"Deneme.txt\").st_ctime) # Oluşturma tarihi\n",
    "print(os.stat(\"Deneme.txt\").st_mtime) # Değiştirme zamanı\n",
    "print(os.stat(\"Deneme.txt\").st_atime) # En son erişilme zamanı"
   ]
  },
  {
   "cell_type": "markdown",
   "metadata": {},
   "source": [
    "- İstediğimiz program yazılan kodlar sayesinde çalıştırılabilir."
   ]
  },
  {
   "cell_type": "code",
   "execution_count": 1,
   "metadata": {},
   "outputs": [
    {
     "name": "stdout",
     "output_type": "stream",
     "text": [
      "0\n"
     ]
    }
   ],
   "source": [
    "import os\n",
    "print(os.system(\"notepad.exe\"))"
   ]
  },
  {
   "cell_type": "markdown",
   "metadata": {},
   "source": [
    "- İstediğimiz dosyanın tam konumunu ekrana yazdırmak için path ifadesi kullanılır."
   ]
  },
  {
   "cell_type": "code",
   "execution_count": null,
   "metadata": {},
   "outputs": [],
   "source": [
    "import os\n",
    "print(os.path.abspath(\"Deneme.py\"))"
   ]
  },
  {
   "cell_type": "markdown",
   "metadata": {},
   "source": [
    "- Verilen dizinde aranan dosyanın olup olmadığını sorgular."
   ]
  },
  {
   "cell_type": "code",
   "execution_count": 3,
   "metadata": {},
   "outputs": [
    {
     "name": "stdout",
     "output_type": "stream",
     "text": [
      "False\n"
     ]
    }
   ],
   "source": [
    "import os\n",
    "print(os.path.exists(\"C:\\\\Users\\\\HALİL İBRAHİM\\\\OneDrive\\\\Masaüstü\\\\Python Notes\\\\Deneme.py\"))"
   ]
  },
  {
   "cell_type": "markdown",
   "metadata": {},
   "source": [
    "- Bir dizin oluşturmak yada bir dizin bölmek."
   ]
  },
  {
   "cell_type": "code",
   "execution_count": 7,
   "metadata": {},
   "outputs": [
    {
     "name": "stdout",
     "output_type": "stream",
     "text": [
      "C:\\Python\\Deneme\n",
      "('C:\\\\Users\\\\HALİL İBRAHİM', 'OneDrive')\n",
      ".py\n"
     ]
    }
   ],
   "source": [
    "import os\n",
    "print(os.path.join(\"C:\\\\\",\"Python\",\"Deneme\"))\n",
    "print(os.path.split(\"C:\\\\Users\\\\HALİL İBRAHİM\\\\OneDrive\"))\n",
    "a=os.path.splitext(\"C:\\\\Users\\\\HALİL İBRAHİM\\\\OneDrive\\\\Masaüstü\\\\Python Notes\\\\Deneme.py\")\n",
    "print(a[1]) # Uzantı bulma"
   ]
  },
  {
   "cell_type": "markdown",
   "metadata": {},
   "source": [
    "- Verilen dizinde aranan ifadenin klasör yada dosya olduğunu sorgulamak."
   ]
  },
  {
   "cell_type": "code",
   "execution_count": 5,
   "metadata": {},
   "outputs": [
    {
     "name": "stdout",
     "output_type": "stream",
     "text": [
      "True\n",
      "False\n"
     ]
    }
   ],
   "source": [
    "import os\n",
    "print(os.path.isdir(\"C:\\\\Users\\\\HALİL İBRAHİM\\\\OneDrive\\\\Masaüstü\\\\Python Notes\")) # Klasör\n",
    "print(os.path.isfile(\"C:\\\\Users\\\\HALİL İBRAHİM\\\\OneDrive\\\\Masaüstü\\\\Python Notes\")) # Dosya"
   ]
  },
  {
   "cell_type": "markdown",
   "metadata": {},
   "source": [
    "os.walk() \n",
    "- Os modülünün önemli bir fonksiyonu olan os.walk() isminden de anlaşılacağı gibi dizinler içinde yürümemizi sağlar. Yani fonksiyonun içine yazdığımız dizin içerisindeki tüm altdizin ve dosyaları bize 3 öğeden oluşan bir demet olarak döndürür."
   ]
  },
  {
   "cell_type": "code",
   "execution_count": 4,
   "metadata": {},
   "outputs": [
    {
     "name": "stdout",
     "output_type": "stream",
     "text": [
      "C:\\Users\\HALİL İBRAHİM\\OneDrive\\Masaüstü\\Python Notes\n",
      "[]\n",
      "1. Sayı Tipleri.ipynb\n",
      "10. Kümeler.ipynb\n",
      "11. İnput Alma.ipynb\n",
      "12. Karşılaştırma-Mantık Operatörleri.ipynb\n",
      "13. Koşullu Durumlar.ipynb\n",
      "14. For Döngüsü.ipynb\n",
      "15. While Döngüsü-Break-Continue.ipynb\n",
      "16. List Comprehension.ipynb\n",
      "17. Fonksiyonlar.ipynb\n",
      "18. Fonksiyon Parametreleri.ipynb\n",
      "19. Modüller.ipynb\n",
      "2. Matematik Operatörleri.ipynb\n",
      "20. Nesne Tabanlı Programlama ve Class Yapısı.ipynb\n",
      "21. Hatalar ve İstisnalar.ipynb\n",
      "22. Dosya İşlemleri.ipynb\n",
      "23. İleri Seviye Veri Yapıları.ipynb\n",
      "24. Decoratorlar ve İleri Seviye Fonksiyonlar.ipynb\n",
      "25. Python Gömülü Fonksiyonlar.ipynb\n",
      "26. Pythonda Iteratorlar ve Generatorlar.ipynb\n",
      "27. Pyhon İleri Seviye Modüller.ipynb\n",
      "3. Değişken Tanımlama.ipynb\n",
      "4. Stringler.ipynb\n",
      "5. Veri Tipi Dönüşümleri.ipynb\n",
      "6. Print ve Formatlama.ipynb\n",
      "7. Listeler.ipynb\n",
      "8. Demetler.ipynb\n",
      "9. Sözlükler.ipynb\n"
     ]
    }
   ],
   "source": [
    "import os\n",
    "for i,j,y in os.walk(\"C:\\\\Users\\\\HALİL İBRAHİM\\\\OneDrive\\\\Masaüstü\\\\Python Notes\"):\n",
    "    print(i)\n",
    "    print(j)\n",
    "    for i in y:\n",
    "        print(i)"
   ]
  },
  {
   "cell_type": "markdown",
   "metadata": {},
   "source": [
    "Sys Modülü\n",
    "- Bu modül kullandığınız Python sürümü ile ilgili bilgi edinmenizi ve kullandığınız Python sürümü ile çeşitli işlemler yapabilmenizi sağlar."
   ]
  },
  {
   "cell_type": "code",
   "execution_count": 9,
   "metadata": {},
   "outputs": [
    {
     "name": "stdout",
     "output_type": "stream",
     "text": [
      "Sistemden çıkıldı\n"
     ]
    }
   ],
   "source": [
    "import sys\n",
    "a=5\n",
    "b=6\n",
    "try:\n",
    "    sys.exit()\n",
    "except:\n",
    "    print(\"Sistemden çıkıldı\")"
   ]
  },
  {
   "cell_type": "markdown",
   "metadata": {},
   "source": [
    "- Argument vectorün kısaltılmışıdır. Yani argv girilen komut satırı argümanlarının sayısını tutar. Burada unutmamamız gereken ise programın adı da argüman olarak sayılır ve örneğin siz bir argüman girdiyseniz argv'nin değeri iki olur."
   ]
  },
  {
   "cell_type": "code",
   "execution_count": null,
   "metadata": {},
   "outputs": [],
   "source": [
    "import sys\n",
    "print(sys.argv)"
   ]
  },
  {
   "cell_type": "markdown",
   "metadata": {},
   "source": [
    "Re Modülü\n",
    "- Değişkende belirtilen ifadeden kaç tane olduğunu sorgulamak."
   ]
  },
  {
   "cell_type": "code",
   "execution_count": 9,
   "metadata": {},
   "outputs": [
    {
     "name": "stdout",
     "output_type": "stream",
     "text": [
      "1\n",
      "['Yazılım Dilleri: Python ', ' PHP ', ' Java ', ' C++ ', ' C#']\n"
     ]
    }
   ],
   "source": [
    "import re\n",
    "str=\"Yazılım Dilleri: Python / PHP / Java / C++ / C#\"\n",
    "print(len(re.findall(\"Python\",str))) \n",
    "print(re.split(\"/\",str))"
   ]
  },
  {
   "cell_type": "markdown",
   "metadata": {},
   "source": [
    "- Değişkendeki ifadeyi belirtilen karaktere böler."
   ]
  },
  {
   "cell_type": "code",
   "execution_count": null,
   "metadata": {},
   "outputs": [],
   "source": [
    "import re\n",
    "str=\"Yazılım Dilleri: Python / PHP / Java / C++ / C#\"\n",
    "print(re.split(\"/\",str))"
   ]
  },
  {
   "cell_type": "markdown",
   "metadata": {},
   "source": [
    "- Değişkende belirtilen ifadelerin yeni ifade ile değiştirilebilir."
   ]
  },
  {
   "cell_type": "code",
   "execution_count": 10,
   "metadata": {},
   "outputs": [
    {
     "name": "stdout",
     "output_type": "stream",
     "text": [
      "Yazılım Dilleri: Python - PHP - Java - C++ - C#\n"
     ]
    }
   ],
   "source": [
    "import re\n",
    "str=\"Yazılım Dilleri: Python / PHP / Java / C++ / C#\"\n",
    "print(re.sub(\"/\",\"-\",str))"
   ]
  },
  {
   "cell_type": "markdown",
   "metadata": {},
   "source": [
    "- Değişkende aranan karakterin index aralığını bulmak için şekildeki gibi işlem yapılır."
   ]
  },
  {
   "cell_type": "code",
   "execution_count": 2,
   "metadata": {},
   "outputs": [
    {
     "name": "stdout",
     "output_type": "stream",
     "text": [
      "(17, 23)\n"
     ]
    }
   ],
   "source": [
    "import re\n",
    "str=\"Yazılım Dilleri: Python / PHP / Java / C++ / C#\"\n",
    "result=re.search(\"Python\",str)\n",
    "print(result.span())"
   ]
  },
  {
   "cell_type": "markdown",
   "metadata": {},
   "source": [
    "Json Modülü\n",
    "- Veri depolamak ve alışverişi yapmak için yazılan bir sözdizimidir. \n",
    "- Herhangi bir kaynak üzerinde json yani str olarak çekilen değerleri dict veri tipine dönüştürmek için kullanılır."
   ]
  },
  {
   "cell_type": "code",
   "execution_count": 5,
   "metadata": {},
   "outputs": [
    {
     "name": "stdout",
     "output_type": "stream",
     "text": [
      "<class 'str'>\n",
      "<class 'dict'>\n",
      "<class 'str'>\n"
     ]
    }
   ],
   "source": [
    "import json\n",
    "str_json='{\"name\":\"Halil İbrahim\",\"surname\":\"Kalabalık\"}'\n",
    "print(type(str_json))\n",
    "result=json.loads(str_json) # str to dict\n",
    "print(type(result))\n",
    "result=json.dumps(result) # dict to str\n",
    "print(type(result))"
   ]
  },
  {
   "cell_type": "markdown",
   "metadata": {},
   "source": [
    "- Sözlükleri düzenli bir şeklide gösterilmek için aşağıdaki gibi işlem yapılabilir."
   ]
  },
  {
   "cell_type": "code",
   "execution_count": 18,
   "metadata": {},
   "outputs": [
    {
     "name": "stdout",
     "output_type": "stream",
     "text": [
      "{\n",
      "    \"name\": \"Halil Ibrahim\",\n",
      "    \"surname\": \"Kalabalik\"\n",
      "}\n"
     ]
    }
   ],
   "source": [
    "import json\n",
    "dictionary={\"name\":\"Halil Ibrahim\",\"surname\":\"Kalabalik\"}\n",
    "result=json.dumps(dictionary,indent=4,sort_keys=True)\n",
    "print(result)"
   ]
  },
  {
   "cell_type": "markdown",
   "metadata": {},
   "source": [
    "Requests Modülü\n",
    "- Python Requests modülü web sayfalarına istek yollamamıza, kaynak kodlarını almamıza olanak sağlayan bir modüldür. Requests ile birlikte BeatifulSoup modülü de kullanılır. Çünkü requests ile sadece veri çekeriz, veriyi çözümlemekte BeatifulSoup modülünü kullanırız.\n",
    "- 200 yani verilen internet sitesindeki verileri başarılı bir şekilde çektiğinin mesajıdır."
   ]
  },
  {
   "cell_type": "code",
   "execution_count": 21,
   "metadata": {},
   "outputs": [
    {
     "name": "stdout",
     "output_type": "stream",
     "text": [
      "<Response [200]>\n"
     ]
    }
   ],
   "source": [
    "import requests \n",
    "\n",
    "url=\"https://www.bkmkitap.com/kitap/cok-satan-kitaplar\"\n",
    "response=requests.get(url)\n",
    "\n",
    "print(response)"
   ]
  },
  {
   "cell_type": "markdown",
   "metadata": {},
   "source": [
    "BeautifulSoup Modülü\n",
    "- Python BeautifulSoup modülü herhangi bir web sayfasından html ya da xml dökümanları parçalayarak istediğiniz biçimde, istediğiniz bilgilere erişmenizi sağlar.\n",
    "- İnternetten veri çekmemizi ve bu verileri parçalamamızı sağlar. HTML etiketlerinden div, table, td, tr, a gibi etiketlerine dikkat edilerek parçalama yapılacaktır."
   ]
  },
  {
   "cell_type": "markdown",
   "metadata": {},
   "source": [
    "- Aşağıda değişkene atanan html dökümanını parçalayarak istediğimiz verileri çekebiliriz."
   ]
  },
  {
   "cell_type": "code",
   "execution_count": 27,
   "metadata": {},
   "outputs": [
    {
     "name": "stdout",
     "output_type": "stream",
     "text": [
      "title\n",
      "Birinci Başlık\n",
      "------------------------------\n",
      "Birinci Başlık\n",
      "------------------------------\n",
      "İkinci Başlık\n"
     ]
    }
   ],
   "source": [
    "html_dc= ''' \n",
    "<html>\n",
    "    <head>\n",
    "    <title>Birinci Başlık</title>\n",
    "    <title>İkinci Başlık</title>\n",
    "    </head>\n",
    "    <body>\n",
    "    <p class=\"title\">\n",
    "    <b>\n",
    "    The Dormouse's story\n",
    "    </b>\n",
    "    </p>\n",
    "    <p class=\"story\">\n",
    "    Once upon a time there were three little sisters; and their names were\n",
    "    <a class=\"sister\" href=\"http://example.com/elsie\" id=\"link1\">\n",
    "    Elsie\n",
    "    </a>\n",
    "    <a class=\"sister\" href=\"http://example.com/lacie\" id=\"link2\">\n",
    "    Lacie\n",
    "    </a>\n",
    "    <a class=\"sister\" href=\"http://example.com/tillie\" id=\"link3\">\n",
    "    Tillie\n",
    "    </a>\n",
    "    <p class=\"story\">\n",
    "    ...\n",
    "    </p>\n",
    "    </body>\n",
    "    </html>\n",
    "'''\n",
    "from bs4 import BeautifulSoup\n",
    "soup=BeautifulSoup(html_dc,'html.parser')\n",
    "result=soup.prettify()\n",
    "result=soup.title.name\n",
    "print(result)\n",
    "result=soup.title.text # Sadece bir tane öge getirir istenilen etiketin ilk ögesi\n",
    "print(result)\n",
    "for i in soup.find_all(\"title\"): # İstenilen etiketin tüm ögelerini getirir.\n",
    "    print(\"-\"*30)\n",
    "    print(i.text)"
   ]
  },
  {
   "cell_type": "markdown",
   "metadata": {},
   "source": [
    "- Aşağıda verileri çekilen internet sitesinin kodları bulunur. Bu kodlardan parçalar alınarak veri çekme işlemi gerçekleştirilecektir."
   ]
  },
  {
   "cell_type": "code",
   "execution_count": null,
   "metadata": {},
   "outputs": [],
   "source": [
    "import requests \n",
    "from bs4 import BeautifulSoup\n",
    "\n",
    "url=\"https://www.bkmkitap.com/kitap/cok-satan-kitaplar\"\n",
    "response=requests.get(url)\n",
    "html_icerigi = response.content\n",
    "soup =  BeautifulSoup(html_icerigi,\"html.parser\")\n",
    "\n",
    "print(soup.prettify())"
   ]
  },
  {
   "cell_type": "markdown",
   "metadata": {},
   "source": [
    "- HTML sitesindeki kodlardan sadece a ile başlayan değerler ekrana yazdırılır."
   ]
  },
  {
   "cell_type": "code",
   "execution_count": null,
   "metadata": {},
   "outputs": [],
   "source": [
    "import requests \n",
    "from bs4 import BeautifulSoup\n",
    "\n",
    "url=\"https://www.bkmkitap.com/kitap/cok-satan-kitaplar\"\n",
    "response=requests.get(url)\n",
    "html_icerigi=response.content\n",
    "soup =  BeautifulSoup(html_icerigi,\"html.parser\")\n",
    "\n",
    "for i in soup.find_all(\"a\"):\n",
    "    print(i.get(\"href\"))\n",
    "    print(\"-\"*30)"
   ]
  },
  {
   "cell_type": "code",
   "execution_count": null,
   "metadata": {},
   "outputs": [],
   "source": [
    "import requests \n",
    "from bs4 import BeautifulSoup\n",
    "\n",
    "url=\"https://www.bkmkitap.com/kitap/cok-satan-kitaplar\"\n",
    "response=requests.get(url)\n",
    "html_icerigi=response.content\n",
    "soup =  BeautifulSoup(html_icerigi,\"html.parser\")\n",
    "\n",
    "print(soup.find_all(\"div\",{\"class\":\"col col-12 drop-down hover box-border\"}))"
   ]
  }
 ],
 "metadata": {
  "kernelspec": {
   "display_name": "Python 3",
   "language": "python",
   "name": "python3"
  },
  "language_info": {
   "codemirror_mode": {
    "name": "ipython",
    "version": 3
   },
   "file_extension": ".py",
   "mimetype": "text/x-python",
   "name": "python",
   "nbconvert_exporter": "python",
   "pygments_lexer": "ipython3",
   "version": "3.10.7"
  },
  "orig_nbformat": 4
 },
 "nbformat": 4,
 "nbformat_minor": 2
}
